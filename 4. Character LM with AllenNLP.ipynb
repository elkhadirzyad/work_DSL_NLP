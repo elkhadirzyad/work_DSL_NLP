{
 "cells": [
  {
   "cell_type": "markdown",
   "metadata": {
    "colab_type": "text",
    "id": "ejkcshPz1HUd"
   },
   "source": [
    "# Task 4: build a character based language model"
   ]
  },
  {
   "cell_type": "markdown",
   "metadata": {
    "colab_type": "text",
    "id": "UnM0-vLMvnCE"
   },
   "source": [
    "## Characters and vocabulary\n",
    "\n",
    "The main expected advantage of working with characters and no longer with words as tokens to build a language model is to drastically reduce the number of classes given to the multiclass classifier.\n",
    "\n",
    "Most tutorials on character based language model assume that the list of unique tokens or characters is limited to ascii characters. Basically the alphabet, uppercase, lowercase, the digits and some punctuation.\n",
    "\n",
    "However as we will see here this is not the case with real world, user content generated corpuses.\n",
    "\n",
    "So let's start by and listing all the unique characters we find in our raw dataset.\n",
    "\n",
    "\n",
    "\n",
    "\n"
   ]
  },
  {
   "cell_type": "code",
   "execution_count": 2,
   "metadata": {
    "colab": {},
    "colab_type": "code",
    "id": "oqdnocVYwo2S"
   },
   "outputs": [],
   "source": [
    "import pandas as pd\n",
    "import numpy as np"
   ]
  },
  {
   "cell_type": "code",
   "execution_count": 2,
   "metadata": {
    "colab": {},
    "colab_type": "code",
    "id": "m7Wyv1jTwtRr"
   },
   "outputs": [],
   "source": [
    "# load the dataset\n",
    "df_raw = pd.read_csv('../Dataset/stackexchange_812k1.tokenized.csv').sample(frac = 1, random_state = 8).reset_index(drop = True)"
   ]
  },
  {
   "cell_type": "markdown",
   "metadata": {
    "colab_type": "text",
    "id": "X6pqAjCcw5Rq"
   },
   "source": [
    "Let's now concatenate all the original texts from the dataset and list the unique characters. There are 746 of them!"
   ]
  },
  {
   "cell_type": "code",
   "execution_count": 3,
   "metadata": {
    "colab": {
     "base_uri": "https://localhost:8080/",
     "height": 799
    },
    "colab_type": "code",
    "id": "9ovLwiXH1kXj",
    "outputId": "ff9ce9b7-6b28-46c6-9dd4-c2385a5872ac"
   },
   "outputs": [
    {
     "name": "stdout",
     "output_type": "stream",
     "text": [
      "['\\t' '\\x0b' '\\x0c' ' ' '!' \"'\" ',' '-' '.' '?' '\\\\' 'a' 'b' 'c' 'd' 'e'\n",
      " 'f' 'g' 'h' 'i' 'j' 'k' 'l' 'm' 'n' 'o' 'p' 'q' 'r' 's' 't' 'u' 'v' 'w'\n",
      " 'x' 'y' 'z' '\\x7f' '\\xa0' '¡' '¢' '£' '¥' '¦' '§' '¨' '©' 'ª' '«' '¬'\n",
      " '\\xad' '®' '¯' '°' '±' '²' '³' '´' 'µ' '¶' '·' '¹' 'º' '»' '¼' '½' '¾'\n",
      " '¿' '×' 'ß' 'à' 'á' 'â' 'ã' 'ä' 'å' 'æ' 'ç' 'è' 'é' 'ê' 'ë' 'ì' 'í' 'î'\n",
      " 'ï' 'ð' 'ñ' 'ò' 'ó' 'ô' 'õ' 'ö' '÷' 'ø' 'ù' 'ú' 'û' 'ü' 'ý' 'ā' 'ă' 'ą'\n",
      " 'ć' 'č' 'ē' 'ĕ' 'ė' 'ę' 'ğ' 'ī' 'ı' 'ĺ' 'ļ' 'ł' 'ń' 'ō' 'ő' 'œ' 'ř' 'ś'\n",
      " 'ş' 'š' 'ū' 'ů' 'ŷ' 'ź' 'ž' 'ƒ' 'ơ' 'ƴ' 'ț' 'ȳ' 'ɑ' 'ə' 'ɛ' 'ɣ' 'ɪ' 'ɵ'\n",
      " 'ʃ' 'ʊ' 'ʒ' 'ʼ' 'ˆ' 'ˇ' 'ˈ' 'ˉ' 'ˌ' '˙' '˚' '˜' '̀' '́' '̂' '̃' '̄' '̅'\n",
      " '̇' '̈' '̧' '̶' '̸' '͝' ';' '΄' 'ά' 'έ' 'ή' 'ί' 'α' 'β' 'γ' 'δ' 'ε' 'ζ'\n",
      " 'η' 'θ' 'ι' 'κ' 'λ' 'μ' 'ν' 'ξ' 'ο' 'π' 'ρ' 'ς' 'σ' 'τ' 'υ' 'φ' 'χ' 'ψ'\n",
      " 'ω' 'ό' 'ύ' 'ώ' 'ϐ' 'ϕ' 'ϵ' 'а' 'б' 'в' 'г' 'д' 'е' 'ж' 'з' 'и' 'й' 'к'\n",
      " 'л' 'м' 'н' 'о' 'п' 'р' 'с' 'т' 'у' 'ф' 'х' 'ц' 'ч' 'ш' 'щ' 'ъ' 'ы' 'ь'\n",
      " 'э' 'ю' 'я' 'ё' 'є' 'א' 'ב' 'ד' 'ה' 'ו' 'ח' 'י' 'כ' 'ל' 'מ' 'נ' 'ע' 'ק'\n",
      " 'ר' 'ת' '؟' 'ا' 'ب' 'ة' 'ت' 'ح' 'ر' 'س' 'ع' 'ك' 'ل' 'م' 'ن' 'ه' 'و' 'ى'\n",
      " 'ي' '٪' 'پ' 'ے' 'ಠ' 'ᵢ' 'ṓ' 'ṽ' 'ẁ' 'ẃ' 'ẋ' 'ἀ' 'ἐ' 'ἕ' 'ἡ' 'ὁ' 'ὅ' 'ὑ'\n",
      " 'ὲ' 'ὶ' '᾽' 'ῖ' 'ῡ' 'ῦ' '\\u2002' '\\u2005' '\\u2009' '\\u200a' '\\u200b'\n",
      " '\\u200c' '\\u200e' '\\u200f' '‐' '‑' '–' '—' '―' '‖' '‘' '’' '‚' '„' '‟'\n",
      " '†' '‡' '•' '…' '\\u202c' '\\u202f' '‰' '′' '″' '‽' '‾' '⁄' '⁎' '\\u2060'\n",
      " '\\u2061' '⁰' '⁴' '⁵' '⁶' '⁷' '⁸' '⁹' '⁺' '⁻' '⁽' 'ⁿ' '₀' '₁' '₂' '₃' '₄'\n",
      " '₅' '₋' 'ₐ' 'ₑ' 'ₓ' 'ₔ' 'ₙ' '€' '₹' '⃗' '℃' 'ℒ' 'ℓ' '№' '℗' 'ℙ' 'ℝ' '™'\n",
      " 'ℤ' 'ℱ' '⅓' '⅔' '⅕' '←' '↑' '→' '↦' '↵' '⇒' '⇔' '⇝' '∀' '∂' '∃' '∅' '∆'\n",
      " '∇' '∈' '∉' '∏' '∑' '−' '∓' '∕' '∗' '∘' '√' '∝' '∞' '∠' '∣' '∥' '∨' '∩'\n",
      " '∪' '∫' '∴' '∶' '∼' '≃' '≈' '≏' '≠' '≡' '≤' '≥' '≪' '≫' '≰' '⊂' '⊆' '⊙'\n",
      " '⊤' '⊥' '⋅' '⋯' '⍺' '⎡' '⎢' '⎣' '⎤' '⎥' '⎦' '⏜' '\\u242a' '\\u242f'\n",
      " '\\u2439' '─' '━' '│' '├' '┤' '┻' '┼' '═' '║' '╒' '╔' '╕' '╗' '╘' '╚' '╛'\n",
      " '╝' '╞' '╠' '╡' '╣' '╤' '╦' '╧' '╩' '╪' '╬' '╭' '╮' '╯' '▀' '▄' '▒' '■'\n",
      " '□' '▪' '▲' '△' '►' '▽' '◊' '☃' '☺' '♠' '♣' '♥' '♦' '♯' '⚽' '✓' '✔' '✗'\n",
      " '✘' '❌' '❤' '⟨' '⟩' '⟶' '⟺' '⩾' '\\u3000' '、' '。' '《' '》' '【' '】' '〖' '〗'\n",
      " 'あ' 'い' 'う' 'が' 'く' 'ご' 'ざ' 'し' 'た' 'て' 'と' 'ど' 'ひ' 'ま' 'み' 'め' 'も' 'よ'\n",
      " 'り' 'れ' 'を' 'イ' 'ズ' 'ツ' 'ベ' '・' 'ㅅ' '上' '事' '件' '你' '回' '处' '実' '帰' '形'\n",
      " '松' '枚' '植' '洪' '海' '湖' '物' '理' '皮' '盒' '第' '線' '花' '蛋' '装' '褒' '谢' '냅'\n",
      " '니' '다' '든' '들' '람' '랑' '모' '보' '사' '속' '시' '신' '십' '오' '완' '을' '의' '이'\n",
      " '쾌' '하' '히' '\\ue001' '\\uf03d' '\\uf04a' '\\uf071' '\\uf07d' '\\uf0b7'\n",
      " '\\uf0de' '\\uf0e0' '\\uf0e8' '\\uf0ed' '\\uf700' '\\uf72b' 'ﬀ' 'ﬁ' 'ﬂ' 'ﬃ' '️'\n",
      " '︵' '\\ufeff' '！' '（' '）' '＋' '，' '－' '：' '；' '？' '＠' 'ａ' 'ｂ' 'ｃ' 'ｄ' 'ｅ'\n",
      " 'ｆ' 'ｇ' 'ｈ' 'ｉ' 'ｋ' 'ｌ' 'ｍ' 'ｎ' 'ｏ' 'ｐ' 'ｑ' 'ｒ' 'ｓ' 'ｔ' 'ｕ' 'ｖ' 'ｗ' '｛'\n",
      " '｝' '￼' '�' '𝅘𝅥𝅮' '𝐘' '𝐰' '𝐱' '𝐲' '𝐴' '𝐵' '𝐶' '𝐷' '𝐸' '𝐹' '𝐺' '𝐻' '𝐼' '𝐾'\n",
      " '𝐿' '𝑀' '𝑁' '𝑃' '𝑄' '𝑅' '𝑆' '𝑇' '𝑈' '𝑉' '𝑊' '𝑋' '𝑌' '𝑍' '𝑎' '𝑏' '𝑐' '𝑑'\n",
      " '𝑒' '𝑓' '𝑔' '𝑖' '𝑗' '𝑘' '𝑙' '𝑚' '𝑛' '𝑜' '𝑝' '𝑞' '𝑟' '𝑠' '𝑡' '𝑢' '𝑣' '𝑤'\n",
      " '𝑥' '𝑦' '𝑧' '𝒩' '𝔼' '𝖯' '𝖳' '𝚯' '𝚽' '𝛂' '𝛔' '𝛼' '𝛽' '𝛿' '𝜀' '𝜃' '𝜆' '𝜇'\n",
      " '𝜈' '𝜋' '𝜎' '𝜒' '𝜔' '𝜖' '𝜙' '𝜷' '🎁' '🎈' '🎉' '🏻' '🏼' '👋' '👌' '👍' '👹' '💎'\n",
      " '💯' '🔥' '😀' '😁' '😂' '😃' '😅' '😉' '😊' '😎' '😔' '😕' '😛' '😜' '😝' '😩' '😬' '😭'\n",
      " '😳' '🙁' '🙂' '🤐' '🤔' '🤗' '🤣' '🤪' '🤷' '\\U00100000' '\\U0010fc00'\n",
      " '\\U0010fc01' '\\U0010fc03' '\\U0010fc04' '\\U0010fc06' '\\U0010fc10']\n"
     ]
    }
   ],
   "source": [
    "text = ''.join(df_raw.text.values).lower()\n",
    "\n",
    "# simple but efficient way to split string into list of characters\n",
    "all_characters = [s for s in text]\n",
    "unique_characters = np.unique(all_characters) \n",
    "print(unique_characters)\n"
   ]
  },
  {
   "cell_type": "markdown",
   "metadata": {
    "colab_type": "text",
    "id": "lgKMe4n68rXy"
   },
   "source": [
    "As you can see, when you list all the unique characters that exist in the original text, the list is not limited to letters, digits and common punctuations signs.\n",
    "\n",
    "We end up with many different types of characters:\n",
    "\n",
    "* greek alphabet: 'α', 'β', 'γ', ...\n",
    "* kanji signs, hebrew, arabic and cyrillic letters: '帰', '形', '松', 'ц', 'ч', 'ш', 'щ', 'ب', 'ة', 'ت', 'א', 'ב', 'ד', 'ה', ...\n",
    "* emojis: '🔥', '😀', '😁', ...\n",
    "* mathematical symbols: '∑', 'ℝ', '≫', '≰', '𝒩', '𝔼', ...\n",
    "* UTF-16 and other encodings: '\\U0010fc03', '\\uf0de', ...\n",
    "* other: '®', '†', '‡', '•', ...\n",
    "\n",
    "\n",
    "We could either take into account all the different signs in the dataset but then we would lose the advantage given by considering characters insetad of words. Although the number of target classes is new less than a thousand, down from a vocabulary size of several thousands, we still have a large target space.\n",
    "\n",
    "So instead we will arbitrarily choose a subset of all characters as the valid ones and discard the other ones as invalid or unknowns.\n",
    "\n",
    "Note also that the list of unique characters does not contain digits. Which is weird.\n",
    "\n",
    "So let's define our vocabulary by keeping the N most common characters in our dataset.\n"
   ]
  },
  {
   "cell_type": "code",
   "execution_count": 4,
   "metadata": {
    "colab": {
     "base_uri": "https://localhost:8080/",
     "height": 54
    },
    "colab_type": "code",
    "id": "4yCqy4Io9b1I",
    "outputId": "0997590b-a8db-4d17-a794-1287f13476bb"
   },
   "outputs": [
    {
     "name": "stdout",
     "output_type": "stream",
     "text": [
      "[(' ', 41838479), ('e', 22649492), ('t', 18848027), ('a', 15614041), ('i', 15307965), ('o', 14812551), ('s', 13076523), ('n', 12756881), ('r', 11311575), ('h', 8004404), ('l', 7935954), ('d', 6606091), ('u', 6013733), ('c', 5874121), ('m', 5307240), ('f', 4206025), ('p', 4142895), ('y', 3538913), ('g', 3390453), ('w', 2959613), ('b', 2934463), ('.', 2818634), ('v', 2193287), (',', 2137165), ('k', 1184558), ('-', 949680), ('x', 721059), (\"'\", 627955), ('?', 430168), ('q', 420156), ('z', 216752), ('j', 214419), ('!', 65816), ('\\\\', 48970), ('’', 17695), ('‘', 9226), ('–', 5094), ('═', 2808), ('—', 1513), ('β', 1284), ('−', 1073), ('é', 957), ('σ', 894), ('…', 836), ('´', 827), ('θ', 801), ('μ', 715), ('α', 704), ('║', 657), ('²', 600), ('─', 507), ('λ', 405), ('\\xa0', 371), ('×', 321), ('±', 321), ('°', 307), ('•', 307), ('\\u200b', 298), ('ö', 296), ('≤', 239), ('ü', 237), ('ε', 231), ('δ', 202), ('£', 195), ('π', 184), ('\\xad', 184), ('\\t', 180), ('γ', 173), ('µ', 169), ('∗', 169), ('ﬁ', 168), ('¿', 165), ('а', 162), ('χ', 160), ('н', 153), ('ï', 150), ('е', 145), ('и', 145), ('ρ', 144), ('≠', 142), ('о', 142), ('√', 139), ('∑', 138), ('·', 138), ('á', 136), ('ä', 134), ('→', 131), ('⋅', 130), ('✗', 122), ('à', 118), ('∼', 114), ('∞', 110), ('≥', 108), ('∩', 108), ('≈', 97), ('ϵ', 96), ('è', 96), ('ω', 96), ('т', 94), ('‐', 92), ('ß', 91), ('с', 91), ('φ', 88), ('τ', 88), ('€', 81), ('í', 77), ('′', 77), ('å', 75), ('ó', 74), ('𝑥', 73), ('р', 73), ('½', 72), ('𝛽', 72), ('\\u200e', 71), ('∈', 70), ('л', 69), ('ı', 69), ('ç', 69), ('ϕ', 68), ('¯', 68), ('\\u200c', 68), ('«', 67), ('╬', 67), ('к', 65), ('„', 64), ('»', 64), ('ø', 63), ('§', 62), ('η', 62), ('│', 62), ('в', 61), ('𝑡', 59), ('╦', 59), ('╩', 59), ('º', 56), ('〖', 54), ('〗', 54), ('𝑋', 53), ('д', 51), ('̂', 50), ('ˆ', 50), ('✓', 48), ('∂', 45), ('†', 44), ('š', 43), ('³', 43), ('ы', 41), ('ł', 39), ('，', 37), ('м', 37), ('п', 37), ('𝑌', 37), ('ﬀ', 36), ('у', 36), ('？', 35), ('∣', 34), ('\\u3000', 34), ('♦', 33), ('𝐸', 33), ('̅', 33), ('ã', 32), ('ñ', 31), ('ч', 30), ('я', 29), ('̄', 28), ('κ', 27), ('х', 27), ('𝑛', 27), ('𝑦', 26), ('ë', 26), ('ξ', 26), ('ν', 25), ('¹', 25), ('\\u242a', 25), ('₁', 24), ('й', 24), ('╠', 24), ('╣', 24), ('®', 24), ('𝜆', 24), ('¬', 23), ('¦', 23), ('\\u2061', 22), ('∫', 22), ('з', 22), ('（', 22), ('╔', 22), ('╗', 22), ('╚', 22), ('╝', 22), ('𝑝', 22), ('𝑖', 22), ('ο', 22), ('♠', 22), ('ô', 21), ('г', 21), ('ş', 21), ('┼', 20), ('ê', 19), ('ь', 19), ('）', 19), ('ι', 19), ('⊥', 18), ('˜', 18), ('ﬂ', 17), ('𝜀', 17), ('𝑎', 17), ('ς', 17), ('𝑒', 16), ('₂', 16), ('б', 16), ('∝', 16), ('©', 16), ('ć', 15), ('∆', 15), ('𝐵', 15), ('ᵢ', 15), ('ツ', 14), ('⟨', 14), ('⟩', 14), ('―', 14), ('𝑟', 14), ('、', 14), ('̶', 14), ('ŷ', 13), ('：', 13), ('𝑃', 13), ('â', 13), ('ц', 13), ('‡', 13), ('𝑏', 13), ('∇', 12), ('ю', 12), ('𝑠', 12), ('́', 12), ('÷', 12), ('∪', 12), ('𝐹', 12), ('𝐼', 12), ('🤗', 12), ('洪', 12), ('湖', 12), ('‖', 12), ('ɛ', 12), ('⇒', 11), ('𝑇', 11), ('ψ', 11), ('\\x0c', 11), ('☺', 11), ('𝑁', 11), ('⋯', 11), ('👍', 11), ('𝜃', 11), ('ℝ', 11), ('ő', 11), ('ф', 11), ('ō', 11), ('¥', 11), ('\\uf0b7', 11), ('₃', 10), ('ш', 10), ('ú', 10), ('😊', 10), ('ə', 10), ('ń', 10), ('𝑚', 10), ('ù', 10), ('←', 10), ('𝑓', 9), ('ﬃ', 9), ('₀', 9), ('𝛼', 9), ('ý', 9), ('ì', 9), ('😀', 9), ('𝑙', 9), ('𝑜', 9), ('¢', 9), ('č', 9), ('ل', 9), ('∀', 9), (';', 9), ('∅', 9), ('ē', 9), ('⅓', 9), ('ｓ', 9), ('ａ', 9), ('𝑘', 8), ('ū', 8), ('├', 8), ('┤', 8), ('𝜇', 8), ('⁰', 8), ('▒', 8), ('ا', 8), ('ɪ', 8), ('ˈ', 8), ('🙂', 8), ('😜', 8), ('î', 8), ('έ', 8), ('ℓ', 8), ('\\u2060', 8), ('ｏ', 8), ('ｅ', 8), ('𝜋', 7), ('𝜎', 7), ('ɑ', 7), ('⁄', 7), ('י', 7), ('╤', 7), ('╧', 7), ('𝑢', 7), ('𝑧', 7), ('⁴', 7), ('‑', 7), ('𝑑', 7), ('𝐱', 7), ('⊂', 7), ('！', 7), ('٪', 7), ('ж', 7), ('\\u202f', 7), ('△', 7), ('˚', 7), ('ă', 7), ('𝐴', 7), ('𝔼', 7), ('️', 6), ('ę', 6), ('❌', 6), ('ב', 6), ('э', 6), ('æ', 6), ('\\u2002', 6), ('⁶', 6), ('ₙ', 6), ('₋', 6), ('✔', 6), ('松', 6), ('花', 6), ('皮', 6), ('蛋', 6), ('枚', 6), ('盒', 6), ('ğ', 6), ('ό', 6), ('ί', 6), ('̇', 6), ('υ', 6), ('处', 6), ('理', 6), ('𝐿', 6), ('ₓ', 6), ('ｈ', 6), ('¶', 5), ('\\U00100000', 5), ('𝑗', 5), ('😅', 5), ('￼', 5), ('م', 5), ('ي', 5), ('¼', 5), ('。', 5), ('𝜙', 5), ('𝑤', 5), ('̃', 5), ('‚', 5), ('ά', 5), ('😛', 5), ('ἐ', 5), ('𝑞', 5), ('ś', 5), ('⟶', 5), ('ｌ', 5), ('ｄ', 5), ('ｒ', 5), ('《', 4), ('𝐾', 4), ('━', 4), ('ā', 4), ('╒', 4), ('╕', 4), ('╘', 4), ('╛', 4), ('ή', 4), ('ƒ', 4), ('𝑔', 4), ('ח', 4), ('ר', 4), ('ה', 4), ('ð', 4), ('\\u2009', 4), ('う', 4), ('😁', 4), ('œ', 4), ('û', 4), ('谢', 4), ('\\ufeff', 4), ('⁷', 4), ('∨', 4), ('👌', 4), ('✘', 4), ('𝐰', 4), ('ẁ', 4), ('♥', 4), ('⊤', 4), ('\\uf071', 4), ('♣', 4), ('″', 4), ('⅔', 4), ('⏜', 4), ('∶', 4), ('ｕ', 4), ('ｔ', 4), ('¡', 3), ('\\x0b', 3), ('■', 3), ('ύ', 3), ('⁻', 3), ('𝐶', 3), ('¾', 3), ('𝛿', 3), ('℃', 3), ('≡', 3), ('ϐ', 3), ('ع', 3), ('ت', 3), ('\\uf0e8', 3), ('て', 3), ('є', 3), ('ž', 3), ('∕', 3), ('™', 3), ('̈', 3), ('˙', 3), ('\\U0010fc03', 3), ('ẃ', 3), ('ⁿ', 3), ('∉', 3), ('�', 3), ('≫', 3), ('\\u2439', 3), ('𝚽', 3), ('õ', 3), ('・', 3), ('𝑉', 3), ('사', 3), ('【', 3), ('】', 3), ('ὑ', 3), ('ｉ', 3), ('ｍ', 3), ('ｆ', 3), ('》', 2), ('𝐺', 2), ('\\uf0e0', 2), ('⎢', 2), ('⎥', 2), ('∘', 2), ('ĺ', 2), ('❤', 2), ('╯', 2), ('┻', 2), ('ɣ', 2), ('\\uf04a', 2), ('⇔', 2), ('ע', 2), ('ק', 2), ('ת', 2), ('א', 2), ('ו', 2), ('כ', 2), ('ל', 2), ('מ', 2), ('ד', 2), ('נ', 2), ('⁹', 2), ('𝑐', 2), ('𝜷', 2), ('◊', 2), ('ò', 2), ('ů', 2), ('∏', 2), ('≃', 2), ('ȳ', 2), ('№', 2), ('ª', 2), ('س', 2), ('ك', 2), ('و', 2), ('ر', 2), ('ح', 2), ('ة', 2), ('ه', 2), ('ن', 2), ('∃', 2), ('𝐻', 2), ('＠', 2), ('あ', 2), ('り', 2), ('が', 2), ('と', 2), ('𝜖', 2), ('ī', 2), ('\\uf72b', 2), ('🤔', 2), ('↦', 2), ('\\x7f', 2), ('̀', 2), ('🤪', 2), ('𝅘𝅥𝅮', 2), ('‾', 2), ('ώ', 2), ('ὁ', 2), ('し', 2), ('¨', 2), ('⊆', 2), ('ζ', 2), ('ъ', 2), ('𝜔', 2), ('\\u200f', 2), ('⁎', 2), ('ῦ', 2), ('᾽', 2), ('𝐲', 2), ('ಠ', 2), ('↵', 2), ('⅕', 2), ('\\u242f', 2), ('\\ue001', 2), ('▪', 2), ('😉', 2), ('𝑣', 2), ('ẋ', 2), ('ą', 2), ('回', 2), ('ˌ', 2), ('람', 2), ('들', 2), ('｛', 2), ('｝', 2), ('ₐ', 2), ('\\U0010fc04', 2), ('\\U0010fc06', 2), ('▽', 2), ('ơ', 2), ('ｐ', 2), ('ｃ', 2), ('ｎ', 2), ('ʊ', 2), ('ʒ', 2), ('ț', 1), ('𝖯', 1), ('𝖳', 1), ('⎡', 1), ('⎤', 1), ('⎣', 1), ('⎦', 1), ('ɵ', 1), ('\\u200a', 1), ('□', 1), ('︵', 1), ('̧', 1), ('╞', 1), ('╪', 1), ('╡', 1), ('☃', 1), ('🎉', 1), ('🎁', 1), ('🎈', 1), ('🤣', 1), ('𝑆', 1), ('\\u2005', 1), ('🏼', 1), ('ƴ', 1), ('\\uf03d', 1), ('😕', 1), ('▄', 1), ('▀', 1), ('𝜒', 1), ('👹', 1), ('ب', 1), ('ى', 1), ('‰', 1), ('𝑄', 1), ('𝑅', 1), ('褒', 1), ('め', 1), ('く', 1), ('れ', 1), ('ʃ', 1), ('ĕ', 1), ('𝛔', 1), ('😃', 1), ('̸', 1), ('►', 1), ('⊙', 1), ('💎', 1), ('𝐘', 1), ('💯', 1), ('上', 1), ('海', 1), ('\\U0010fc10', 1), ('ř', 1), ('\\uf07d', 1), ('\\uf0ed', 1), ('\\U0010fc01', 1), ('\\U0010fc00', 1), ('℗', 1), ('𝑊', 1), ('😔', 1), ('↑', 1), ('ṓ', 1), ('ど', 1), ('も', 1), ('ご', 1), ('ざ', 1), ('い', 1), ('ま', 1), ('た', 1), ('你', 1), ('⍺', 1), ('🤐', 1), ('⟺', 1), ('𝛂', 1), ('🔥', 1), ('🤷', 1), ('⁺', 1), ('ℙ', 1), ('𝑈', 1), ('⩾', 1), ('∴', 1), ('ὶ', 1), ('ἀ', 1), ('ὲ', 1), ('ῖ', 1), ('ἕ', 1), ('ὅ', 1), ('ἡ', 1), ('ˇ', 1), ('𝚯', 1), ('😎', 1), ('ṽ', 1), ('╭', 1), ('╮', 1), ('；', 1), ('植', 1), ('物', 1), ('₅', 1), ('₄', 1), ('ʼ', 1), ('≪', 1), ('⁸', 1), ('ῡ', 1), ('\\uf0de', 1), ('ё', 1), ('👋', 1), ('𝐷', 1), ('ź', 1), ('𝑍', 1), ('ひ', 1), ('پ', 1), ('ے', 1), ('－', 1), ('🏻', 1), ('😝', 1), ('≏', 1), ('第', 1), ('ベ', 1), ('イ', 1), ('ズ', 1), ('線', 1), ('形', 1), ('帰', 1), ('を', 1), ('実', 1), ('装', 1), ('み', 1), ('よ', 1), ('ℤ', 1), ('⃗', 1), ('𝑀', 1), ('♯', 1), ('щ', 1), ('𝜈', 1), ('؟', 1), ('‽', 1), ('\\uf700', 1), ('事', 1), ('件', 1), ('＋', 1), ('😳', 1), ('신', 1), ('속', 1), ('히', 1), ('완', 1), ('쾌', 1), ('하', 1), ('십', 1), ('시', 1), ('오', 1), ('의', 1), ('모', 1), ('든', 1), ('이', 1), ('랑', 1), ('을', 1), ('보', 1), ('냅', 1), ('니', 1), ('다', 1), ('∓', 1), ('ㅅ', 1), ('₹', 1), ('𝒩', 1), ('ˉ', 1), ('🙁', 1), ('∥', 1), ('͝', 1), ('≰', 1), ('ℱ', 1), ('΄', 1), ('ₑ', 1), ('ₔ', 1), ('ℒ', 1), ('⁵', 1), ('⚽', 1), ('⁽', 1), ('▲', 1), ('‟', 1), ('ė', 1), ('😂', 1), ('ļ', 1), ('\\u202c', 1), ('😭', 1), ('😬', 1), ('😩', 1), ('ｇ', 1), ('ｗ', 1), ('ｑ', 1), ('ｂ', 1), ('ｖ', 1), ('ｋ', 1), ('∠', 1), ('⇝', 1)]\n"
     ]
    }
   ],
   "source": [
    "from collections import Counter\n",
    "\n",
    "char_count = Counter(all_characters)\n",
    "print(char_count.most_common())\n",
    "\n",
    "# limit the allowed characters to MAX_VOCAB_SIZE\n",
    "MAX_VOCAB_SIZE = 40\n",
    "valid_characters = [t[0] for t in  char_count.most_common(MAX_VOCAB_SIZE)]\n",
    "valid_characters.sort()\n"
   ]
  },
  {
   "cell_type": "markdown",
   "metadata": {
    "colab_type": "text",
    "id": "ON-3Qd3Ox-sw"
   },
   "source": [
    "There's a balance to be found between keeping as many characters as possible to reflect the diversity of the corpus and limiting the number of classes to allow the model to reach satisfactory scores.\n"
   ]
  },
  {
   "cell_type": "markdown",
   "metadata": {
    "colab_type": "text",
    "id": "kX57LsYRyG3P"
   },
   "source": [
    "# Training dataset\n",
    "\n",
    "As usual since we have limited computational resources, we want to limit the volume of the training dataset.\n",
    "\n",
    "Here we will simply sample N titles from the original dataset. Titles are usually composed of one sentence and are shorter than posts or comments. \n",
    "Titles are also composed of more classic character tokens. \n"
   ]
  },
  {
   "cell_type": "code",
   "execution_count": 5,
   "metadata": {
    "colab": {},
    "colab_type": "code",
    "id": "UuQwpa2z1s66"
   },
   "outputs": [],
   "source": [
    "POSTS_TYPE = 'title'\n",
    "DF_SAMPLE_COUNT = 10000"
   ]
  },
  {
   "cell_type": "code",
   "execution_count": 6,
   "metadata": {
    "colab": {
     "base_uri": "https://localhost:8080/",
     "height": 69
    },
    "colab_type": "code",
    "id": "fZNgVbmc-6V-",
    "outputId": "3ab49389-e13b-4a76-dc6d-f9ebb1b45afe"
   },
   "outputs": [
    {
     "name": "stdout",
     "output_type": "stream",
     "text": [
      "df.shape:  (10000, 7)\n",
      "['How could I visualise the importance of different inputs to the forecast for a black-box non-linear model?'\n",
      " 'Tail inequality on sum of product of normal variables']\n"
     ]
    }
   ],
   "source": [
    "# subsample the original dataset\n",
    "\n",
    "df = df_raw[(df_raw.category == POSTS_TYPE)].sample(DF_SAMPLE_COUNT).reset_index(drop = True)\n",
    "\n",
    "print(\"df.shape: \", df.shape)\n",
    "\n",
    "print(df.text.sample(2).values)\n"
   ]
  },
  {
   "cell_type": "markdown",
   "metadata": {
    "colab_type": "text",
    "id": "0QbOEj4tyt2z"
   },
   "source": [
    "# AllenNLP code structure\n",
    "\n",
    "The structure of the AllenNLP framework is tailored for NLP tasks. \n",
    "It is composed of the following parts:\n",
    "\n",
    "### Instances \n",
    "An Instance is an abstraction of a training example composed of the input objects and the output objects. In our case, the input is a sequence of tokens (characters) and the output the token (character) following the sequence.\n",
    "\n",
    "The Instance also includes the tokens indexers.\n",
    "\n",
    "### Model\n",
    "\n",
    "A Model is a subclass of torch.nn.Module. It needs a forward method that takes tensor inputs and produces a dict of tensor outputs that includes the loss used to train the model. \n",
    "\n",
    "Our model will consist of \n",
    "\n",
    "* an embedding layer, \n",
    "* a sequence to sequence encoder, LSTM \n",
    "* and a feedforward network that outputs the probability distribution over the vocabulary.\n",
    "\n",
    "We'll add a text generation method.\n",
    "\n",
    "Note: The AllenNLP code in this notebook is taken from the notebook \n",
    "https://colab.research.google.com/github/mhagiwara/realworldnlp/blob/master/examples/generation/lm.ipynb\n",
    "accompanying the book Real World NLP by Masato Hagiwara\n"
   ]
  },
  {
   "cell_type": "markdown",
   "metadata": {
    "colab_type": "text",
    "id": "Ll4Atnsu1B6h"
   },
   "source": [
    "## Install and Packages\n",
    "\n",
    "Let's install AllenNLP and load the necessary librairies"
   ]
  },
  {
   "cell_type": "markdown",
   "metadata": {
    "colab_type": "text",
    "id": "6rAjPbIN1Exo"
   },
   "source": [
    "Import the libs and load the data"
   ]
  },
  {
   "cell_type": "code",
   "execution_count": 7,
   "metadata": {
    "colab": {},
    "colab_type": "code",
    "id": "v4-VorOX1WkO"
   },
   "outputs": [],
   "source": [
    "import re\n",
    "from typing import Dict, List, Tuple, Set\n",
    "\n",
    "import torch\n",
    "import torch.optim as optim\n",
    "from allennlp.common.file_utils import cached_path\n",
    "from allennlp.common.util import START_SYMBOL, END_SYMBOL\n",
    "from allennlp.data.fields import TextField\n",
    "from allennlp.data.instance import Instance\n",
    "from allennlp.data.iterators import BasicIterator\n",
    "from allennlp.data.token_indexers import TokenIndexer, SingleIdTokenIndexer\n",
    "from allennlp.data.tokenizers import Token, CharacterTokenizer\n",
    "from allennlp.data.vocabulary import Vocabulary, DEFAULT_PADDING_TOKEN\n",
    "from allennlp.models import Model\n",
    "from allennlp.modules.seq2seq_encoders import PytorchSeq2SeqWrapper\n",
    "from allennlp.modules.text_field_embedders import TextFieldEmbedder, BasicTextFieldEmbedder\n",
    "from allennlp.modules.token_embedders import Embedding\n",
    "from allennlp.nn.util import get_text_field_mask, sequence_cross_entropy_with_logits\n",
    "from allennlp.training.trainer import Trainer\n"
   ]
  },
  {
   "cell_type": "markdown",
   "metadata": {
    "colab_type": "text",
    "id": "LI3NYylN_6Jd"
   },
   "source": [
    "# Tokenizer and Instances\n",
    "\n",
    "The AllenNLP CharacterTokenizer is tailored to the framework and we will use it insetad of simply splitting the sentences into list of charaters in simple python.\n",
    "\n",
    "\n",
    "\n"
   ]
  },
  {
   "cell_type": "code",
   "execution_count": 8,
   "metadata": {
    "colab": {},
    "colab_type": "code",
    "id": "ili0K03oBUOO"
   },
   "outputs": [],
   "source": [
    "tokenizer = CharacterTokenizer()"
   ]
  },
  {
   "cell_type": "markdown",
   "metadata": {
    "colab_type": "text",
    "id": "O-EEtca0DSfs"
   },
   "source": [
    "The train set is composed of tokenized sequences of the original text"
   ]
  },
  {
   "cell_type": "code",
   "execution_count": 9,
   "metadata": {
    "colab": {},
    "colab_type": "code",
    "id": "-EO44rWKDY1B"
   },
   "outputs": [],
   "source": [
    "train_set = df.text.apply(lambda txt : tokenizer.tokenize(txt.lower())).values"
   ]
  },
  {
   "cell_type": "markdown",
   "metadata": {
    "colab_type": "text",
    "id": "ws3AnjZ0DebY"
   },
   "source": [
    "Finally let's define the function that will generate an Instance for each list of token. The function takes a list of tokens and an indexer as input and returns an instance composed of the input and output tokens."
   ]
  },
  {
   "cell_type": "code",
   "execution_count": 10,
   "metadata": {
    "colab": {},
    "colab_type": "code",
    "id": "3oh8HXNU2FWN"
   },
   "outputs": [],
   "source": [
    "\n",
    "def tokens_to_instance(tokens: List[Token], token_indexers: Dict[str, TokenIndexer]):\n",
    "    tokens = list(tokens)\n",
    "    tokens.insert(0, Token(START_SYMBOL))\n",
    "    tokens.append(Token(END_SYMBOL))\n",
    "\n",
    "    input_field  = TextField(tokens[:-1], token_indexers)\n",
    "    output_field = TextField(tokens[1:], token_indexers)\n",
    "    return Instance({'input_tokens': input_field, 'output_tokens': output_field})        \n"
   ]
  },
  {
   "cell_type": "markdown",
   "metadata": {
    "colab_type": "text",
    "id": "6ECNz2-REHCX"
   },
   "source": [
    "In the previous task we had to construct the mapping between the tokens and their unique index in the vocabulary. The SingleIdTokenIndexer takes care of that.\n"
   ]
  },
  {
   "cell_type": "code",
   "execution_count": 11,
   "metadata": {
    "colab": {},
    "colab_type": "code",
    "id": "YPwuYbUhDczN"
   },
   "outputs": [],
   "source": [
    "\n",
    "token_indexers = {'tokens': SingleIdTokenIndexer()}\n",
    "instances = [tokens_to_instance(tokens, token_indexers) for tokens in train_set]"
   ]
  },
  {
   "cell_type": "markdown",
   "metadata": {
    "colab_type": "text",
    "id": "onH5JH2AEKKP"
   },
   "source": [
    "## Vocabulary\n",
    "The Vocabulary object takes a dict of tokens and their counts. In our case the counts can all be set to 1.\n"
   ]
  },
  {
   "cell_type": "code",
   "execution_count": 12,
   "metadata": {
    "colab": {},
    "colab_type": "code",
    "id": "aHP28UrPhTbs"
   },
   "outputs": [],
   "source": [
    "token_counts = {char: 1 for char in valid_characters}\n",
    "vocab = Vocabulary({'tokens': token_counts})\n"
   ]
  },
  {
   "cell_type": "markdown",
   "metadata": {
    "colab_type": "text",
    "id": "eFFWteOvHqKE"
   },
   "source": [
    "# Model\n",
    "\n",
    "Let's create the model and set some variables."
   ]
  },
  {
   "cell_type": "code",
   "execution_count": 13,
   "metadata": {
    "colab": {},
    "colab_type": "code",
    "id": "cR3fq534FfN9"
   },
   "outputs": [],
   "source": [
    "EMBEDDING_SIZE = 32\n",
    "HIDDEN_SIZE = 256\n",
    "BATCH_SIZE = 128"
   ]
  },
  {
   "cell_type": "code",
   "execution_count": 438,
   "metadata": {
    "colab": {},
    "colab_type": "code",
    "id": "_8bkt-6EHsv8"
   },
   "outputs": [],
   "source": [
    "class RNNLanguageModel(Model):\n",
    "    def __init__(self,\n",
    "                 embedder: TextFieldEmbedder,\n",
    "                 hidden_size: int,\n",
    "                 max_len: int,\n",
    "                 vocab: Vocabulary) -> None:\n",
    "        super().__init__(vocab)\n",
    "\n",
    "        self.embedder = embedder\n",
    "\n",
    "        # initialize a Seq2Seq encoder, LSTM\n",
    "        self.rnn = PytorchSeq2SeqWrapper(\n",
    "            torch.nn.LSTM(EMBEDDING_SIZE, HIDDEN_SIZE, batch_first=True))\n",
    "\n",
    "        self.hidden2out = torch.nn.Linear(in_features=self.rnn.get_output_dim(), out_features=vocab.get_vocab_size('tokens'))\n",
    "        self.hidden_size = hidden_size\n",
    "        self.max_len = max_len\n",
    "        \n",
    "\n",
    "    def forward(self, input_tokens, output_tokens):\n",
    "        '''\n",
    "        This is the main process of the Model where the actual computation happens. \n",
    "        Each Instance is fed to the forward method. \n",
    "        It takes dicts of tensors as input, with same keys as the fields in your Instance (input_tokens, output_tokens)\n",
    "        It outputs the results of predicted tokens and the evaluation metrics as a dictionary. \n",
    "        '''\n",
    "\n",
    "        mask = get_text_field_mask(input_tokens)\n",
    "        embeddings = self.embedder(input_tokens)\n",
    "        rnn_hidden = self.rnn(embeddings, mask)\n",
    "        out_logits = self.hidden2out(rnn_hidden)\n",
    "        \n",
    "        loss = sequence_cross_entropy_with_logits(out_logits, output_tokens['tokens'], mask)\n",
    "        \n",
    "        #tensor = out_logits[:,out_logits.size()-1]\n",
    "        #state = (torch.zeros(1, 1, self.hidden_size), torch.zeros(1, 1, self.hidden_size))\n",
    "        words=[]\n",
    "       \n",
    "        output_t=out_logits[:,out_logits.size()[1]-1]\n",
    "        \n",
    "        test=torch.argmax(output_t).item()\n",
    "        #if torch.argmax(output_t).item().size()[1]:\n",
    "        try:\n",
    "          token = Token(text=self.vocab.get_token_from_index(test, 'tokens'))\n",
    "          words.append(token)\n",
    "        except:\n",
    "          print(\"An exception occurred could be ignored\") \n",
    "       \n",
    "        return {'loss': loss, 'nextCaracter': words}\n",
    "    \n",
    "    def generateN(self) -> Tuple[List[Token], torch.tensor]:\n",
    "    \n",
    "        start_symbol_idx = self.vocab.get_token_index(START_SYMBOL, 'tokens')\n",
    "        end_symbol_idx = self.vocab.get_token_index(END_SYMBOL, 'tokens')\n",
    "        padding_symbol_idx = self.vocab.get_token_index(DEFAULT_PADDING_TOKEN, 'tokens')\n",
    "\n",
    "        log_likelihood = 0.\n",
    "        words = []\n",
    "        state = (torch.zeros(1, 1, self.hidden_size), torch.zeros(1, 1, self.hidden_size))\n",
    "\n",
    "        word_idx = start_symbol_idx\n",
    "\n",
    "       \n",
    "        tokens = torch.tensor([[word_idx]])\n",
    "\n",
    "        embeddings = self.embedder({'tokens': tokens})\n",
    "        output, state = self.rnn._module(embeddings, state)\n",
    "        output = self.hidden2out(output)\n",
    "        \n",
    "        log_prob = torch.log_softmax(output[0, 0], dim=0)\n",
    "        dist = torch.exp(log_prob)\n",
    "        #log_prob = torch.log_softmax(tensor)\n",
    "        word_idx = torch.multinomial(\n",
    "                    dist, num_samples=1, replacement=False).item()\n",
    "        token = Token(text=self.vocab.get_token_from_index(word_idx, 'tokens'))\n",
    "        \n",
    "        return {'loss': log_prob}\n",
    "        \n",
    "    \n",
    "    def generateM(self) -> Tuple[List[Token], torch.tensor]:\n",
    "\n",
    "        start_symbol_idx = self.vocab.get_token_index(START_SYMBOL, 'tokens')\n",
    "        end_symbol_idx = self.vocab.get_token_index(END_SYMBOL, 'tokens')\n",
    "        padding_symbol_idx = self.vocab.get_token_index(DEFAULT_PADDING_TOKEN, 'tokens')\n",
    "\n",
    "        log_likelihood = 0.\n",
    "        words = []\n",
    "        state = (torch.zeros(1, 1, self.hidden_size), torch.zeros(1, 1, self.hidden_size))\n",
    "\n",
    "        word_idx = start_symbol_idx\n",
    "\n",
    "       \n",
    "        tokens = torch.tensor([[word_idx]])\n",
    "\n",
    "        embeddings = self.embedder({'tokens': tokens})\n",
    "        output, state = self.rnn._module(embeddings, state)\n",
    "        output = self.hidden2out(output)\n",
    "        \n",
    "        log_prob = torch.log_softmax(output[0, 0], dim=0)\n",
    "\n",
    "            #dist = torch.exp(log_prob)\n",
    "\n",
    "            #word_idx = start_symbol_idx\n",
    "\n",
    "           \n",
    "        return {'loss': log_prob}\n",
    "\n",
    "    def generate(self) -> Tuple[List[Token], torch.tensor]:\n",
    "\n",
    "        start_symbol_idx = self.vocab.get_token_index(START_SYMBOL, 'tokens')\n",
    "        end_symbol_idx = self.vocab.get_token_index(END_SYMBOL, 'tokens')\n",
    "        padding_symbol_idx = self.vocab.get_token_index(DEFAULT_PADDING_TOKEN, 'tokens')\n",
    "\n",
    "        log_likelihood = 0.\n",
    "        words = []\n",
    "        state = (torch.zeros(1, 1, self.hidden_size), torch.zeros(1, 1, self.hidden_size))\n",
    "\n",
    "        word_idx = start_symbol_idx\n",
    "\n",
    "        for i in range(self.max_len):\n",
    "            tokens = torch.tensor([[word_idx]])\n",
    "\n",
    "            embeddings = self.embedder({'tokens': tokens})\n",
    "            output, state = self.rnn._module(embeddings, state)\n",
    "            output = self.hidden2out(output)\n",
    "\n",
    "            log_prob = torch.log_softmax(output[0, 0], dim=0)\n",
    "\n",
    "            dist = torch.exp(log_prob)\n",
    "\n",
    "            word_idx = start_symbol_idx\n",
    "\n",
    "            while word_idx in {start_symbol_idx, padding_symbol_idx}:\n",
    "                word_idx = torch.multinomial(\n",
    "                    dist, num_samples=1, replacement=False).item()\n",
    "\n",
    "            log_likelihood += log_prob[word_idx]\n",
    "\n",
    "            if word_idx == end_symbol_idx:\n",
    "                break\n",
    "\n",
    "            token = Token(text=self.vocab.get_token_from_index(word_idx, 'tokens'))\n",
    "            words.append(token)\n",
    "\n",
    "        return words, log_likelihood"
   ]
  },
  {
   "cell_type": "markdown",
   "metadata": {
    "colab_type": "text",
    "id": "YaiMLk5LH7pb"
   },
   "source": [
    "Instantiate \n",
    "* the embeddings of size EMBEDDING_SIZE\n",
    "* the RNN model\n",
    "* the optimizer and batch processing with BATCH_SIZE\n",
    "* the Trainer\n",
    "\n",
    "And train the model!"
   ]
  },
  {
   "cell_type": "markdown",
   "metadata": {
    "colab_type": "text",
    "id": "wngwmjH4K1iF"
   },
   "source": [
    "# NOTE\n",
    "\n",
    "Training the model takes a while (this one took 4mn per epoch). The google Colab environment will loose connection.\n",
    "\n",
    "In that case, you simply have to reconnect and run the cell for the computation to continue from where it stopped. No need to start the notebook from cratch as the kernel is not restarted by a disconnect. At least not right away.\n",
    "\n",
    "This also implies that it's best to keep an eye on the process to avoid having to restart from the beginning."
   ]
  },
  {
   "cell_type": "code",
   "execution_count": 439,
   "metadata": {
    "colab": {},
    "colab_type": "code",
    "id": "LXsr-q6FGE25"
   },
   "outputs": [],
   "source": [
    "token_embedding = Embedding(num_embeddings=vocab.get_vocab_size('tokens'), embedding_dim=EMBEDDING_SIZE)\n",
    "\n",
    "embedder = BasicTextFieldEmbedder({\"tokens\": token_embedding})\n",
    "\n",
    "model = RNNLanguageModel(embedder=embedder, hidden_size=HIDDEN_SIZE, max_len=80, vocab=vocab)"
   ]
  },
  {
   "cell_type": "code",
   "execution_count": 440,
   "metadata": {
    "colab": {},
    "colab_type": "code",
    "id": "Q5sScnaXGKPn"
   },
   "outputs": [],
   "source": [
    "iterator = BasicIterator(batch_size=BATCH_SIZE)\n",
    "iterator.index_with(vocab)\n",
    "\n",
    "optimizer = optim.Adam(model.parameters(), lr=5.e-3)"
   ]
  },
  {
   "cell_type": "code",
   "execution_count": 446,
   "metadata": {
    "colab": {
     "base_uri": "https://localhost:8080/",
     "height": 538
    },
    "colab_type": "code",
    "id": "uv4-YO8lGOVJ",
    "outputId": "d383d606-9fc3-46da-a0e6-8be184a9fe76"
   },
   "outputs": [
    {
     "name": "stderr",
     "output_type": "stream",
     "text": [
      "\r",
      "  0%|                                                                                           | 0/79 [00:00<?, ?it/s]"
     ]
    },
    {
     "name": "stdout",
     "output_type": "stream",
     "text": [
      "An exception occurred\n"
     ]
    },
    {
     "name": "stderr",
     "output_type": "stream",
     "text": [
      "\r",
      "loss: 2.9129 ||:   1%|▊                                                                 | 1/79 [00:05<07:04,  5.45s/it]"
     ]
    },
    {
     "name": "stdout",
     "output_type": "stream",
     "text": [
      "An exception occurred\n"
     ]
    },
    {
     "name": "stderr",
     "output_type": "stream",
     "text": [
      "\r",
      "loss: 2.9076 ||:   3%|█▋                                                                | 2/79 [00:12<07:27,  5.81s/it]"
     ]
    },
    {
     "name": "stdout",
     "output_type": "stream",
     "text": [
      "An exception occurred\n"
     ]
    },
    {
     "name": "stderr",
     "output_type": "stream",
     "text": [
      "\r",
      "loss: 2.9113 ||:   4%|██▌                                                               | 3/79 [00:18<07:27,  5.88s/it]"
     ]
    },
    {
     "name": "stdout",
     "output_type": "stream",
     "text": [
      "An exception occurred\n"
     ]
    },
    {
     "name": "stderr",
     "output_type": "stream",
     "text": [
      "\r",
      "loss: 2.9057 ||:   5%|███▎                                                              | 4/79 [00:23<07:08,  5.71s/it]"
     ]
    },
    {
     "name": "stdout",
     "output_type": "stream",
     "text": [
      "An exception occurred\n"
     ]
    },
    {
     "name": "stderr",
     "output_type": "stream",
     "text": [
      "\r",
      "loss: 2.8995 ||:   6%|████▏                                                             | 5/79 [00:29<07:10,  5.82s/it]"
     ]
    },
    {
     "name": "stdout",
     "output_type": "stream",
     "text": [
      "An exception occurred\n"
     ]
    },
    {
     "name": "stderr",
     "output_type": "stream",
     "text": [
      "\r",
      "loss: 2.8907 ||:   8%|█████                                                             | 6/79 [00:35<07:12,  5.93s/it]"
     ]
    },
    {
     "name": "stdout",
     "output_type": "stream",
     "text": [
      "An exception occurred\n"
     ]
    },
    {
     "name": "stderr",
     "output_type": "stream",
     "text": [
      "\r",
      "loss: 2.8829 ||:   9%|█████▊                                                            | 7/79 [00:41<07:14,  6.03s/it]"
     ]
    },
    {
     "name": "stdout",
     "output_type": "stream",
     "text": [
      "An exception occurred\n"
     ]
    },
    {
     "name": "stderr",
     "output_type": "stream",
     "text": [
      "\r",
      "loss: 2.8742 ||:  10%|██████▋                                                           | 8/79 [00:47<06:53,  5.82s/it]"
     ]
    },
    {
     "name": "stdout",
     "output_type": "stream",
     "text": [
      "An exception occurred\n"
     ]
    },
    {
     "name": "stderr",
     "output_type": "stream",
     "text": [
      "\r",
      "loss: 2.8651 ||:  11%|███████▌                                                          | 9/79 [00:53<06:58,  5.98s/it]"
     ]
    },
    {
     "name": "stdout",
     "output_type": "stream",
     "text": [
      "An exception occurred\n"
     ]
    },
    {
     "name": "stderr",
     "output_type": "stream",
     "text": [
      "\r",
      "loss: 2.8588 ||:  13%|████████▏                                                        | 10/79 [00:59<06:49,  5.94s/it]"
     ]
    },
    {
     "name": "stdout",
     "output_type": "stream",
     "text": [
      "An exception occurred\n"
     ]
    },
    {
     "name": "stderr",
     "output_type": "stream",
     "text": [
      "\r",
      "loss: 2.8505 ||:  14%|█████████                                                        | 11/79 [01:05<06:50,  6.03s/it]"
     ]
    },
    {
     "name": "stdout",
     "output_type": "stream",
     "text": [
      "An exception occurred\n"
     ]
    },
    {
     "name": "stderr",
     "output_type": "stream",
     "text": [
      "\r",
      "loss: 2.8407 ||:  15%|█████████▊                                                       | 12/79 [01:11<06:32,  5.86s/it]"
     ]
    },
    {
     "name": "stdout",
     "output_type": "stream",
     "text": [
      "An exception occurred\n"
     ]
    },
    {
     "name": "stderr",
     "output_type": "stream",
     "text": [
      "\r",
      "loss: 2.8311 ||:  16%|██████████▋                                                      | 13/79 [01:17<06:34,  5.98s/it]"
     ]
    },
    {
     "name": "stdout",
     "output_type": "stream",
     "text": [
      "An exception occurred\n"
     ]
    },
    {
     "name": "stderr",
     "output_type": "stream",
     "text": [
      "\r",
      "loss: 2.8217 ||:  18%|███████████▌                                                     | 14/79 [01:23<06:25,  5.93s/it]"
     ]
    },
    {
     "name": "stdout",
     "output_type": "stream",
     "text": [
      "An exception occurred\n"
     ]
    },
    {
     "name": "stderr",
     "output_type": "stream",
     "text": [
      "\r",
      "loss: 2.8127 ||:  19%|████████████▎                                                    | 15/79 [01:29<06:25,  6.02s/it]"
     ]
    },
    {
     "name": "stdout",
     "output_type": "stream",
     "text": [
      "An exception occurred\n"
     ]
    },
    {
     "name": "stderr",
     "output_type": "stream",
     "text": [
      "\r",
      "loss: 2.8036 ||:  20%|█████████████▏                                                   | 16/79 [01:35<06:13,  5.92s/it]"
     ]
    },
    {
     "name": "stdout",
     "output_type": "stream",
     "text": [
      "An exception occurred\n"
     ]
    },
    {
     "name": "stderr",
     "output_type": "stream",
     "text": [
      "\r",
      "loss: 2.7949 ||:  22%|█████████████▉                                                   | 17/79 [01:41<06:06,  5.92s/it]"
     ]
    },
    {
     "name": "stdout",
     "output_type": "stream",
     "text": [
      "An exception occurred\n"
     ]
    },
    {
     "name": "stderr",
     "output_type": "stream",
     "text": [
      "\r",
      "loss: 2.7855 ||:  23%|██████████████▊                                                  | 18/79 [01:47<06:02,  5.94s/it]"
     ]
    },
    {
     "name": "stdout",
     "output_type": "stream",
     "text": [
      "An exception occurred\n"
     ]
    },
    {
     "name": "stderr",
     "output_type": "stream",
     "text": [
      "\r",
      "loss: 2.7753 ||:  24%|███████████████▋                                                 | 19/79 [01:52<05:49,  5.82s/it]"
     ]
    },
    {
     "name": "stdout",
     "output_type": "stream",
     "text": [
      "An exception occurred\n"
     ]
    },
    {
     "name": "stderr",
     "output_type": "stream",
     "text": [
      "\r",
      "loss: 2.7660 ||:  25%|████████████████▍                                                | 20/79 [01:57<05:33,  5.65s/it]"
     ]
    },
    {
     "name": "stdout",
     "output_type": "stream",
     "text": [
      "An exception occurred\n"
     ]
    },
    {
     "name": "stderr",
     "output_type": "stream",
     "text": [
      "\r",
      "loss: 2.7571 ||:  27%|█████████████████▎                                               | 21/79 [02:03<05:21,  5.54s/it]"
     ]
    },
    {
     "name": "stdout",
     "output_type": "stream",
     "text": [
      "An exception occurred\n"
     ]
    },
    {
     "name": "stderr",
     "output_type": "stream",
     "text": [
      "\r",
      "loss: 2.7487 ||:  28%|██████████████████                                               | 22/79 [02:09<05:24,  5.69s/it]"
     ]
    },
    {
     "name": "stdout",
     "output_type": "stream",
     "text": [
      "An exception occurred\n"
     ]
    },
    {
     "name": "stderr",
     "output_type": "stream",
     "text": [
      "\r",
      "loss: 2.7395 ||:  29%|██████████████████▉                                              | 23/79 [02:14<05:17,  5.67s/it]"
     ]
    },
    {
     "name": "stdout",
     "output_type": "stream",
     "text": [
      "An exception occurred\n"
     ]
    },
    {
     "name": "stderr",
     "output_type": "stream",
     "text": [
      "\r",
      "loss: 2.7307 ||:  30%|███████████████████▋                                             | 24/79 [02:21<05:23,  5.88s/it]"
     ]
    },
    {
     "name": "stdout",
     "output_type": "stream",
     "text": [
      "An exception occurred\n"
     ]
    },
    {
     "name": "stderr",
     "output_type": "stream",
     "text": [
      "\r",
      "loss: 2.7228 ||:  32%|████████████████████▌                                            | 25/79 [02:27<05:29,  6.10s/it]"
     ]
    },
    {
     "name": "stdout",
     "output_type": "stream",
     "text": [
      "An exception occurred\n"
     ]
    },
    {
     "name": "stderr",
     "output_type": "stream",
     "text": [
      "\r",
      "loss: 2.7155 ||:  33%|█████████████████████▍                                           | 26/79 [02:33<05:17,  5.99s/it]"
     ]
    },
    {
     "name": "stdout",
     "output_type": "stream",
     "text": [
      "An exception occurred\n"
     ]
    },
    {
     "name": "stderr",
     "output_type": "stream",
     "text": [
      "\r",
      "loss: 2.7088 ||:  34%|██████████████████████▏                                          | 27/79 [02:39<05:17,  6.11s/it]"
     ]
    },
    {
     "name": "stdout",
     "output_type": "stream",
     "text": [
      "An exception occurred\n"
     ]
    },
    {
     "name": "stderr",
     "output_type": "stream",
     "text": [
      "\r",
      "loss: 2.7016 ||:  35%|███████████████████████                                          | 28/79 [02:46<05:14,  6.17s/it]"
     ]
    },
    {
     "name": "stdout",
     "output_type": "stream",
     "text": [
      "An exception occurred\n"
     ]
    },
    {
     "name": "stderr",
     "output_type": "stream",
     "text": [
      "\r",
      "loss: 2.6948 ||:  37%|███████████████████████▊                                         | 29/79 [02:52<05:10,  6.21s/it]"
     ]
    },
    {
     "name": "stdout",
     "output_type": "stream",
     "text": [
      "An exception occurred\n"
     ]
    },
    {
     "name": "stderr",
     "output_type": "stream",
     "text": [
      "\r",
      "loss: 2.6879 ||:  38%|████████████████████████▋                                        | 30/79 [02:59<05:13,  6.39s/it]"
     ]
    },
    {
     "name": "stdout",
     "output_type": "stream",
     "text": [
      "An exception occurred\n"
     ]
    },
    {
     "name": "stderr",
     "output_type": "stream",
     "text": [
      "\r",
      "loss: 2.6811 ||:  39%|█████████████████████████▌                                       | 31/79 [03:04<04:46,  5.97s/it]"
     ]
    },
    {
     "name": "stdout",
     "output_type": "stream",
     "text": [
      "An exception occurred\n"
     ]
    },
    {
     "name": "stderr",
     "output_type": "stream",
     "text": [
      "\r",
      "loss: 2.6747 ||:  41%|██████████████████████████▎                                      | 32/79 [03:09<04:33,  5.82s/it]"
     ]
    },
    {
     "name": "stdout",
     "output_type": "stream",
     "text": [
      "An exception occurred\n"
     ]
    },
    {
     "name": "stderr",
     "output_type": "stream",
     "text": [
      "\r",
      "loss: 2.6678 ||:  42%|███████████████████████████▏                                     | 33/79 [03:15<04:29,  5.86s/it]"
     ]
    },
    {
     "name": "stdout",
     "output_type": "stream",
     "text": [
      "An exception occurred\n"
     ]
    },
    {
     "name": "stderr",
     "output_type": "stream",
     "text": [
      "\r",
      "loss: 2.6618 ||:  43%|███████████████████████████▉                                     | 34/79 [03:21<04:23,  5.85s/it]"
     ]
    },
    {
     "name": "stdout",
     "output_type": "stream",
     "text": [
      "An exception occurred\n"
     ]
    },
    {
     "name": "stderr",
     "output_type": "stream",
     "text": [
      "\r",
      "loss: 2.6557 ||:  44%|████████████████████████████▊                                    | 35/79 [03:27<04:17,  5.85s/it]"
     ]
    },
    {
     "name": "stdout",
     "output_type": "stream",
     "text": [
      "An exception occurred\n"
     ]
    },
    {
     "name": "stderr",
     "output_type": "stream",
     "text": [
      "\r",
      "loss: 2.6496 ||:  46%|█████████████████████████████▌                                   | 36/79 [03:33<04:17,  5.99s/it]"
     ]
    },
    {
     "name": "stdout",
     "output_type": "stream",
     "text": [
      "An exception occurred\n"
     ]
    },
    {
     "name": "stderr",
     "output_type": "stream",
     "text": [
      "\r",
      "loss: 2.6427 ||:  47%|██████████████████████████████▍                                  | 37/79 [03:39<04:03,  5.79s/it]"
     ]
    },
    {
     "name": "stdout",
     "output_type": "stream",
     "text": [
      "An exception occurred\n"
     ]
    },
    {
     "name": "stderr",
     "output_type": "stream",
     "text": [
      "\r",
      "loss: 2.6362 ||:  48%|███████████████████████████████▎                                 | 38/79 [03:44<03:50,  5.61s/it]"
     ]
    },
    {
     "name": "stdout",
     "output_type": "stream",
     "text": [
      "An exception occurred\n"
     ]
    },
    {
     "name": "stderr",
     "output_type": "stream",
     "text": [
      "\r",
      "loss: 2.6296 ||:  49%|████████████████████████████████                                 | 39/79 [03:50<03:46,  5.67s/it]"
     ]
    },
    {
     "name": "stdout",
     "output_type": "stream",
     "text": [
      "An exception occurred\n"
     ]
    },
    {
     "name": "stderr",
     "output_type": "stream",
     "text": [
      "\r",
      "loss: 2.6233 ||:  51%|████████████████████████████████▉                                | 40/79 [03:55<03:32,  5.45s/it]"
     ]
    },
    {
     "name": "stdout",
     "output_type": "stream",
     "text": [
      "An exception occurred\n"
     ]
    },
    {
     "name": "stderr",
     "output_type": "stream",
     "text": [
      "\r",
      "loss: 2.6168 ||:  52%|█████████████████████████████████▋                               | 41/79 [04:00<03:25,  5.41s/it]"
     ]
    },
    {
     "name": "stdout",
     "output_type": "stream",
     "text": [
      "An exception occurred\n"
     ]
    },
    {
     "name": "stderr",
     "output_type": "stream",
     "text": [
      "\r",
      "loss: 2.6103 ||:  53%|██████████████████████████████████▌                              | 42/79 [04:06<03:26,  5.59s/it]"
     ]
    },
    {
     "name": "stdout",
     "output_type": "stream",
     "text": [
      "An exception occurred\n"
     ]
    },
    {
     "name": "stderr",
     "output_type": "stream",
     "text": [
      "\r",
      "loss: 2.6040 ||:  54%|███████████████████████████████████▍                             | 43/79 [04:13<03:32,  5.91s/it]"
     ]
    },
    {
     "name": "stdout",
     "output_type": "stream",
     "text": [
      "An exception occurred\n"
     ]
    },
    {
     "name": "stderr",
     "output_type": "stream",
     "text": [
      "\r",
      "loss: 2.5978 ||:  56%|████████████████████████████████████▏                            | 44/79 [04:18<03:22,  5.78s/it]"
     ]
    },
    {
     "name": "stdout",
     "output_type": "stream",
     "text": [
      "An exception occurred\n"
     ]
    },
    {
     "name": "stderr",
     "output_type": "stream",
     "text": [
      "\r",
      "loss: 2.5917 ||:  57%|█████████████████████████████████████                            | 45/79 [04:24<03:21,  5.94s/it]"
     ]
    },
    {
     "name": "stdout",
     "output_type": "stream",
     "text": [
      "An exception occurred\n"
     ]
    },
    {
     "name": "stderr",
     "output_type": "stream",
     "text": [
      "\r",
      "loss: 2.5862 ||:  58%|█████████████████████████████████████▊                           | 46/79 [04:30<03:10,  5.77s/it]"
     ]
    },
    {
     "name": "stdout",
     "output_type": "stream",
     "text": [
      "An exception occurred\n"
     ]
    },
    {
     "name": "stderr",
     "output_type": "stream",
     "text": [
      "\r",
      "loss: 2.5801 ||:  59%|██████████████████████████████████████▋                          | 47/79 [04:36<03:05,  5.78s/it]"
     ]
    },
    {
     "name": "stdout",
     "output_type": "stream",
     "text": [
      "An exception occurred\n"
     ]
    },
    {
     "name": "stderr",
     "output_type": "stream",
     "text": [
      "\r",
      "loss: 2.5739 ||:  61%|███████████████████████████████████████▍                         | 48/79 [04:41<02:58,  5.75s/it]"
     ]
    },
    {
     "name": "stdout",
     "output_type": "stream",
     "text": [
      "An exception occurred\n"
     ]
    },
    {
     "name": "stderr",
     "output_type": "stream",
     "text": [
      "\r",
      "loss: 2.5679 ||:  62%|████████████████████████████████████████▎                        | 49/79 [04:47<02:48,  5.61s/it]"
     ]
    },
    {
     "name": "stdout",
     "output_type": "stream",
     "text": [
      "An exception occurred\n"
     ]
    },
    {
     "name": "stderr",
     "output_type": "stream",
     "text": [
      "\r",
      "loss: 2.5626 ||:  63%|█████████████████████████████████████████▏                       | 50/79 [04:52<02:39,  5.52s/it]"
     ]
    },
    {
     "name": "stdout",
     "output_type": "stream",
     "text": [
      "An exception occurred\n"
     ]
    },
    {
     "name": "stderr",
     "output_type": "stream",
     "text": [
      "\r",
      "loss: 2.5568 ||:  65%|█████████████████████████████████████████▉                       | 51/79 [04:57<02:28,  5.31s/it]"
     ]
    },
    {
     "name": "stdout",
     "output_type": "stream",
     "text": [
      "An exception occurred\n"
     ]
    },
    {
     "name": "stderr",
     "output_type": "stream",
     "text": [
      "\r",
      "loss: 2.5515 ||:  66%|██████████████████████████████████████████▊                      | 52/79 [05:02<02:26,  5.42s/it]"
     ]
    },
    {
     "name": "stdout",
     "output_type": "stream",
     "text": [
      "An exception occurred\n"
     ]
    },
    {
     "name": "stderr",
     "output_type": "stream",
     "text": [
      "\r",
      "loss: 2.5465 ||:  67%|███████████████████████████████████████████▌                     | 53/79 [05:09<02:27,  5.66s/it]"
     ]
    },
    {
     "name": "stdout",
     "output_type": "stream",
     "text": [
      "An exception occurred\n"
     ]
    },
    {
     "name": "stderr",
     "output_type": "stream",
     "text": [
      "\r",
      "loss: 2.5407 ||:  68%|████████████████████████████████████████████▍                    | 54/79 [05:14<02:21,  5.65s/it]"
     ]
    },
    {
     "name": "stdout",
     "output_type": "stream",
     "text": [
      "An exception occurred\n"
     ]
    },
    {
     "name": "stderr",
     "output_type": "stream",
     "text": [
      "\r",
      "loss: 2.5356 ||:  70%|█████████████████████████████████████████████▎                   | 55/79 [05:20<02:17,  5.72s/it]"
     ]
    },
    {
     "name": "stdout",
     "output_type": "stream",
     "text": [
      "An exception occurred\n"
     ]
    },
    {
     "name": "stderr",
     "output_type": "stream",
     "text": [
      "\r",
      "loss: 2.5310 ||:  71%|██████████████████████████████████████████████                   | 56/79 [05:26<02:11,  5.70s/it]"
     ]
    },
    {
     "name": "stdout",
     "output_type": "stream",
     "text": [
      "An exception occurred\n"
     ]
    },
    {
     "name": "stderr",
     "output_type": "stream",
     "text": [
      "\r",
      "loss: 2.5257 ||:  72%|██████████████████████████████████████████████▉                  | 57/79 [05:32<02:07,  5.79s/it]"
     ]
    },
    {
     "name": "stdout",
     "output_type": "stream",
     "text": [
      "An exception occurred\n"
     ]
    },
    {
     "name": "stderr",
     "output_type": "stream",
     "text": [
      "\r",
      "loss: 2.5202 ||:  73%|███████████████████████████████████████████████▋                 | 58/79 [05:38<02:02,  5.81s/it]"
     ]
    },
    {
     "name": "stdout",
     "output_type": "stream",
     "text": [
      "An exception occurred\n"
     ]
    },
    {
     "name": "stderr",
     "output_type": "stream",
     "text": [
      "\r",
      "loss: 2.5152 ||:  75%|████████████████████████████████████████████████▌                | 59/79 [05:43<01:54,  5.73s/it]"
     ]
    },
    {
     "name": "stdout",
     "output_type": "stream",
     "text": [
      "An exception occurred\n"
     ]
    },
    {
     "name": "stderr",
     "output_type": "stream",
     "text": [
      "\r",
      "loss: 2.5099 ||:  76%|█████████████████████████████████████████████████▎               | 60/79 [05:49<01:49,  5.77s/it]"
     ]
    },
    {
     "name": "stdout",
     "output_type": "stream",
     "text": [
      "An exception occurred\n"
     ]
    },
    {
     "name": "stderr",
     "output_type": "stream",
     "text": [
      "loss: 2.4995 ||:  78%|███████████████████████████████████████████████████              | 62/79 [06:01<01:39,  5.85s/it]"
     ]
    },
    {
     "name": "stdout",
     "output_type": "stream",
     "text": [
      "An exception occurred\n"
     ]
    },
    {
     "name": "stderr",
     "output_type": "stream",
     "text": [
      "\r",
      "loss: 2.4951 ||:  80%|███████████████████████████████████████████████████▊             | 63/79 [06:06<01:32,  5.81s/it]"
     ]
    },
    {
     "name": "stdout",
     "output_type": "stream",
     "text": [
      "An exception occurred\n"
     ]
    },
    {
     "name": "stderr",
     "output_type": "stream",
     "text": [
      "\r",
      "loss: 2.4904 ||:  81%|████████████████████████████████████████████████████▋            | 64/79 [06:12<01:26,  5.73s/it]"
     ]
    },
    {
     "name": "stdout",
     "output_type": "stream",
     "text": [
      "An exception occurred\n"
     ]
    },
    {
     "name": "stderr",
     "output_type": "stream",
     "text": [
      "\r",
      "loss: 2.4853 ||:  82%|█████████████████████████████████████████████████████▍           | 65/79 [06:18<01:21,  5.85s/it]"
     ]
    },
    {
     "name": "stdout",
     "output_type": "stream",
     "text": [
      "An exception occurred\n"
     ]
    },
    {
     "name": "stderr",
     "output_type": "stream",
     "text": [
      "\r",
      "loss: 2.4803 ||:  84%|██████████████████████████████████████████████████████▎          | 66/79 [06:24<01:15,  5.77s/it]"
     ]
    },
    {
     "name": "stdout",
     "output_type": "stream",
     "text": [
      "An exception occurred\n"
     ]
    },
    {
     "name": "stderr",
     "output_type": "stream",
     "text": [
      "\r",
      "loss: 2.4752 ||:  85%|███████████████████████████████████████████████████████▏         | 67/79 [06:28<01:05,  5.47s/it]"
     ]
    },
    {
     "name": "stdout",
     "output_type": "stream",
     "text": [
      "An exception occurred\n"
     ]
    },
    {
     "name": "stderr",
     "output_type": "stream",
     "text": [
      "\r",
      "loss: 2.4701 ||:  86%|███████████████████████████████████████████████████████▉         | 68/79 [06:35<01:02,  5.66s/it]"
     ]
    },
    {
     "name": "stdout",
     "output_type": "stream",
     "text": [
      "An exception occurred\n"
     ]
    },
    {
     "name": "stderr",
     "output_type": "stream",
     "text": [
      "\r",
      "loss: 2.4652 ||:  87%|████████████████████████████████████████████████████████▊        | 69/79 [06:40<00:56,  5.68s/it]"
     ]
    },
    {
     "name": "stdout",
     "output_type": "stream",
     "text": [
      "An exception occurred\n"
     ]
    },
    {
     "name": "stderr",
     "output_type": "stream",
     "text": [
      "\r",
      "loss: 2.4604 ||:  89%|█████████████████████████████████████████████████████████▌       | 70/79 [06:46<00:52,  5.82s/it]"
     ]
    },
    {
     "name": "stdout",
     "output_type": "stream",
     "text": [
      "An exception occurred\n"
     ]
    },
    {
     "name": "stderr",
     "output_type": "stream",
     "text": [
      "\r",
      "loss: 2.4555 ||:  90%|██████████████████████████████████████████████████████████▍      | 71/79 [06:52<00:46,  5.81s/it]"
     ]
    },
    {
     "name": "stdout",
     "output_type": "stream",
     "text": [
      "An exception occurred\n"
     ]
    },
    {
     "name": "stderr",
     "output_type": "stream",
     "text": [
      "\r",
      "loss: 2.4507 ||:  91%|███████████████████████████████████████████████████████████▏     | 72/79 [06:58<00:40,  5.82s/it]"
     ]
    },
    {
     "name": "stdout",
     "output_type": "stream",
     "text": [
      "An exception occurred\n"
     ]
    },
    {
     "name": "stderr",
     "output_type": "stream",
     "text": [
      "\r",
      "loss: 2.4464 ||:  92%|████████████████████████████████████████████████████████████     | 73/79 [07:03<00:34,  5.70s/it]"
     ]
    },
    {
     "name": "stdout",
     "output_type": "stream",
     "text": [
      "An exception occurred\n"
     ]
    },
    {
     "name": "stderr",
     "output_type": "stream",
     "text": [
      "\r",
      "loss: 2.4417 ||:  94%|████████████████████████████████████████████████████████████▉    | 74/79 [07:09<00:28,  5.75s/it]"
     ]
    },
    {
     "name": "stdout",
     "output_type": "stream",
     "text": [
      "An exception occurred\n"
     ]
    },
    {
     "name": "stderr",
     "output_type": "stream",
     "text": [
      "\r",
      "loss: 2.4370 ||:  95%|█████████████████████████████████████████████████████████████▋   | 75/79 [07:15<00:22,  5.73s/it]"
     ]
    },
    {
     "name": "stdout",
     "output_type": "stream",
     "text": [
      "An exception occurred\n"
     ]
    },
    {
     "name": "stderr",
     "output_type": "stream",
     "text": [
      "\r",
      "loss: 2.4321 ||:  96%|██████████████████████████████████████████████████████████████▌  | 76/79 [07:21<00:17,  5.77s/it]"
     ]
    },
    {
     "name": "stdout",
     "output_type": "stream",
     "text": [
      "An exception occurred\n"
     ]
    },
    {
     "name": "stderr",
     "output_type": "stream",
     "text": [
      "\r",
      "loss: 2.4276 ||:  97%|███████████████████████████████████████████████████████████████▎ | 77/79 [07:27<00:11,  5.89s/it]"
     ]
    },
    {
     "name": "stdout",
     "output_type": "stream",
     "text": [
      "An exception occurred\n"
     ]
    },
    {
     "name": "stderr",
     "output_type": "stream",
     "text": [
      "\r",
      "loss: 2.4229 ||:  99%|████████████████████████████████████████████████████████████████▏| 78/79 [07:33<00:06,  6.05s/it]"
     ]
    },
    {
     "name": "stdout",
     "output_type": "stream",
     "text": [
      "An exception occurred\n"
     ]
    },
    {
     "name": "stderr",
     "output_type": "stream",
     "text": [
      "loss: 2.4175 ||: 100%|█████████████████████████████████████████████████████████████████| 79/79 [07:34<00:00,  5.76s/it]\n",
      "  0%|                                                                                           | 0/79 [00:00<?, ?it/s]"
     ]
    },
    {
     "name": "stdout",
     "output_type": "stream",
     "text": [
      "An exception occurred\n"
     ]
    },
    {
     "name": "stderr",
     "output_type": "stream",
     "text": [
      "\r",
      "loss: 2.0445 ||:   1%|▊                                                                 | 1/79 [00:04<06:17,  4.84s/it]"
     ]
    },
    {
     "name": "stdout",
     "output_type": "stream",
     "text": [
      "An exception occurred\n"
     ]
    },
    {
     "name": "stderr",
     "output_type": "stream",
     "text": [
      "\r",
      "loss: 2.0394 ||:   3%|█▋                                                                | 2/79 [00:10<06:32,  5.09s/it]"
     ]
    },
    {
     "name": "stdout",
     "output_type": "stream",
     "text": [
      "An exception occurred\n"
     ]
    },
    {
     "name": "stderr",
     "output_type": "stream",
     "text": [
      "\r",
      "loss: 2.0363 ||:   4%|██▌                                                               | 3/79 [00:16<06:50,  5.40s/it]"
     ]
    },
    {
     "name": "stdout",
     "output_type": "stream",
     "text": [
      "An exception occurred\n"
     ]
    },
    {
     "name": "stderr",
     "output_type": "stream",
     "text": [
      "\r",
      "loss: 2.0441 ||:   5%|███▎                                                              | 4/79 [00:22<06:54,  5.52s/it]"
     ]
    },
    {
     "name": "stdout",
     "output_type": "stream",
     "text": [
      "An exception occurred\n"
     ]
    },
    {
     "name": "stderr",
     "output_type": "stream",
     "text": [
      "\r",
      "loss: 2.0515 ||:   6%|████▏                                                             | 5/79 [00:27<06:41,  5.42s/it]"
     ]
    },
    {
     "name": "stdout",
     "output_type": "stream",
     "text": [
      "An exception occurred\n"
     ]
    },
    {
     "name": "stderr",
     "output_type": "stream",
     "text": [
      "\r",
      "loss: 2.0472 ||:   8%|█████                                                             | 6/79 [00:32<06:30,  5.35s/it]"
     ]
    },
    {
     "name": "stdout",
     "output_type": "stream",
     "text": [
      "An exception occurred\n"
     ]
    },
    {
     "name": "stderr",
     "output_type": "stream",
     "text": [
      "\r",
      "loss: 2.0459 ||:   9%|█████▊                                                            | 7/79 [00:38<06:39,  5.55s/it]"
     ]
    },
    {
     "name": "stdout",
     "output_type": "stream",
     "text": [
      "An exception occurred\n"
     ]
    },
    {
     "name": "stderr",
     "output_type": "stream",
     "text": [
      "\r",
      "loss: 2.0422 ||:  10%|██████▋                                                           | 8/79 [00:43<06:11,  5.24s/it]"
     ]
    },
    {
     "name": "stdout",
     "output_type": "stream",
     "text": [
      "An exception occurred\n"
     ]
    },
    {
     "name": "stderr",
     "output_type": "stream",
     "text": [
      "\r",
      "loss: 2.0355 ||:  11%|███████▌                                                          | 9/79 [00:48<06:13,  5.33s/it]"
     ]
    },
    {
     "name": "stdout",
     "output_type": "stream",
     "text": [
      "An exception occurred\n"
     ]
    },
    {
     "name": "stderr",
     "output_type": "stream",
     "text": [
      "\r",
      "loss: 2.0316 ||:  13%|████████▏                                                        | 10/79 [00:54<06:20,  5.52s/it]"
     ]
    },
    {
     "name": "stdout",
     "output_type": "stream",
     "text": [
      "An exception occurred\n"
     ]
    },
    {
     "name": "stderr",
     "output_type": "stream",
     "text": [
      "\r",
      "loss: 2.0231 ||:  14%|█████████                                                        | 11/79 [00:59<05:52,  5.19s/it]"
     ]
    },
    {
     "name": "stdout",
     "output_type": "stream",
     "text": [
      "An exception occurred\n"
     ]
    },
    {
     "name": "stderr",
     "output_type": "stream",
     "text": [
      "\r",
      "loss: 2.0197 ||:  15%|█████████▊                                                       | 12/79 [01:04<05:57,  5.33s/it]"
     ]
    },
    {
     "name": "stdout",
     "output_type": "stream",
     "text": [
      "An exception occurred\n"
     ]
    },
    {
     "name": "stderr",
     "output_type": "stream",
     "text": [
      "\r",
      "loss: 2.0160 ||:  16%|██████████▋                                                      | 13/79 [01:10<06:04,  5.52s/it]"
     ]
    },
    {
     "name": "stdout",
     "output_type": "stream",
     "text": [
      "An exception occurred\n"
     ]
    },
    {
     "name": "stderr",
     "output_type": "stream",
     "text": [
      "loss: 2.0083 ||:  19%|████████████▎                                                    | 15/79 [01:20<05:29,  5.16s/it]"
     ]
    },
    {
     "name": "stdout",
     "output_type": "stream",
     "text": [
      "An exception occurred\n"
     ]
    },
    {
     "name": "stderr",
     "output_type": "stream",
     "text": [
      "\r",
      "loss: 2.0024 ||:  20%|█████████████▏                                                   | 16/79 [01:26<05:37,  5.35s/it]"
     ]
    },
    {
     "name": "stdout",
     "output_type": "stream",
     "text": [
      "An exception occurred\n"
     ]
    },
    {
     "name": "stderr",
     "output_type": "stream",
     "text": [
      "\r",
      "loss: 1.9993 ||:  22%|█████████████▉                                                   | 17/79 [01:32<05:49,  5.64s/it]"
     ]
    },
    {
     "name": "stdout",
     "output_type": "stream",
     "text": [
      "An exception occurred\n"
     ]
    },
    {
     "name": "stderr",
     "output_type": "stream",
     "text": [
      "\r",
      "loss: 1.9932 ||:  23%|██████████████▊                                                  | 18/79 [01:38<05:39,  5.56s/it]"
     ]
    },
    {
     "name": "stdout",
     "output_type": "stream",
     "text": [
      "An exception occurred\n"
     ]
    },
    {
     "name": "stderr",
     "output_type": "stream",
     "text": [
      "\r",
      "loss: 1.9887 ||:  24%|███████████████▋                                                 | 19/79 [01:42<05:12,  5.21s/it]"
     ]
    },
    {
     "name": "stdout",
     "output_type": "stream",
     "text": [
      "An exception occurred\n"
     ]
    },
    {
     "name": "stderr",
     "output_type": "stream",
     "text": [
      "\r",
      "loss: 1.9824 ||:  25%|████████████████▍                                                | 20/79 [01:47<05:05,  5.17s/it]"
     ]
    },
    {
     "name": "stdout",
     "output_type": "stream",
     "text": [
      "An exception occurred\n"
     ]
    },
    {
     "name": "stderr",
     "output_type": "stream",
     "text": [
      "\r",
      "loss: 1.9781 ||:  27%|█████████████████▎                                               | 21/79 [01:53<05:21,  5.54s/it]"
     ]
    },
    {
     "name": "stdout",
     "output_type": "stream",
     "text": [
      "An exception occurred\n"
     ]
    },
    {
     "name": "stderr",
     "output_type": "stream",
     "text": [
      "\r",
      "loss: 1.9726 ||:  28%|██████████████████                                               | 22/79 [01:59<05:20,  5.63s/it]"
     ]
    },
    {
     "name": "stdout",
     "output_type": "stream",
     "text": [
      "An exception occurred\n"
     ]
    },
    {
     "name": "stderr",
     "output_type": "stream",
     "text": [
      "\r",
      "loss: 1.9684 ||:  29%|██████████████████▉                                              | 23/79 [02:05<05:15,  5.64s/it]"
     ]
    },
    {
     "name": "stdout",
     "output_type": "stream",
     "text": [
      "An exception occurred\n"
     ]
    },
    {
     "name": "stderr",
     "output_type": "stream",
     "text": [
      "\r",
      "loss: 1.9643 ||:  30%|███████████████████▋                                             | 24/79 [02:11<05:16,  5.76s/it]"
     ]
    },
    {
     "name": "stdout",
     "output_type": "stream",
     "text": [
      "An exception occurred\n"
     ]
    },
    {
     "name": "stderr",
     "output_type": "stream",
     "text": [
      "\r",
      "loss: 1.9610 ||:  32%|████████████████████▌                                            | 25/79 [02:16<04:57,  5.51s/it]"
     ]
    },
    {
     "name": "stdout",
     "output_type": "stream",
     "text": [
      "An exception occurred\n"
     ]
    },
    {
     "name": "stderr",
     "output_type": "stream",
     "text": [
      "\r",
      "loss: 1.9568 ||:  33%|█████████████████████▍                                           | 26/79 [02:21<04:51,  5.49s/it]"
     ]
    },
    {
     "name": "stdout",
     "output_type": "stream",
     "text": [
      "An exception occurred\n"
     ]
    },
    {
     "name": "stderr",
     "output_type": "stream",
     "text": [
      "\r",
      "loss: 1.9519 ||:  34%|██████████████████████▏                                          | 27/79 [02:27<04:54,  5.67s/it]"
     ]
    },
    {
     "name": "stdout",
     "output_type": "stream",
     "text": [
      "An exception occurred\n"
     ]
    },
    {
     "name": "stderr",
     "output_type": "stream",
     "text": [
      "\r",
      "loss: 1.9484 ||:  35%|███████████████████████                                          | 28/79 [02:33<04:40,  5.50s/it]"
     ]
    },
    {
     "name": "stdout",
     "output_type": "stream",
     "text": [
      "An exception occurred\n"
     ]
    },
    {
     "name": "stderr",
     "output_type": "stream",
     "text": [
      "\r",
      "loss: 1.9428 ||:  37%|███████████████████████▊                                         | 29/79 [02:38<04:39,  5.59s/it]"
     ]
    },
    {
     "name": "stdout",
     "output_type": "stream",
     "text": [
      "An exception occurred\n"
     ]
    },
    {
     "name": "stderr",
     "output_type": "stream",
     "text": [
      "\r",
      "loss: 1.9391 ||:  38%|████████████████████████▋                                        | 30/79 [02:43<04:23,  5.37s/it]"
     ]
    },
    {
     "name": "stdout",
     "output_type": "stream",
     "text": [
      "An exception occurred\n"
     ]
    },
    {
     "name": "stderr",
     "output_type": "stream",
     "text": [
      "\r",
      "loss: 1.9344 ||:  39%|█████████████████████████▌                                       | 31/79 [02:49<04:20,  5.42s/it]"
     ]
    },
    {
     "name": "stdout",
     "output_type": "stream",
     "text": [
      "An exception occurred\n"
     ]
    },
    {
     "name": "stderr",
     "output_type": "stream",
     "text": [
      "\r",
      "loss: 1.9301 ||:  41%|██████████████████████████▎                                      | 32/79 [02:55<04:19,  5.53s/it]"
     ]
    },
    {
     "name": "stdout",
     "output_type": "stream",
     "text": [
      "An exception occurred\n"
     ]
    },
    {
     "name": "stderr",
     "output_type": "stream",
     "text": [
      "\r",
      "loss: 1.9259 ||:  42%|███████████████████████████▏                                     | 33/79 [03:01<04:28,  5.83s/it]"
     ]
    },
    {
     "name": "stdout",
     "output_type": "stream",
     "text": [
      "An exception occurred\n"
     ]
    },
    {
     "name": "stderr",
     "output_type": "stream",
     "text": [
      "\r",
      "loss: 1.9226 ||:  43%|███████████████████████████▉                                     | 34/79 [03:07<04:25,  5.89s/it]"
     ]
    },
    {
     "name": "stdout",
     "output_type": "stream",
     "text": [
      "An exception occurred\n"
     ]
    },
    {
     "name": "stderr",
     "output_type": "stream",
     "text": [
      "\r",
      "loss: 1.9191 ||:  44%|████████████████████████████▊                                    | 35/79 [03:13<04:21,  5.94s/it]"
     ]
    },
    {
     "name": "stdout",
     "output_type": "stream",
     "text": [
      "An exception occurred\n"
     ]
    },
    {
     "name": "stderr",
     "output_type": "stream",
     "text": [
      "\r",
      "loss: 1.9152 ||:  46%|█████████████████████████████▌                                   | 36/79 [03:19<04:17,  5.99s/it]"
     ]
    },
    {
     "name": "stdout",
     "output_type": "stream",
     "text": [
      "An exception occurred\n"
     ]
    },
    {
     "name": "stderr",
     "output_type": "stream",
     "text": [
      "\r",
      "loss: 1.9102 ||:  47%|██████████████████████████████▍                                  | 37/79 [03:25<04:03,  5.80s/it]"
     ]
    },
    {
     "name": "stdout",
     "output_type": "stream",
     "text": [
      "An exception occurred\n"
     ]
    },
    {
     "name": "stderr",
     "output_type": "stream",
     "text": [
      "\r",
      "loss: 1.9061 ||:  48%|███████████████████████████████▎                                 | 38/79 [03:30<03:49,  5.59s/it]"
     ]
    },
    {
     "name": "stdout",
     "output_type": "stream",
     "text": [
      "An exception occurred\n"
     ]
    },
    {
     "name": "stderr",
     "output_type": "stream",
     "text": [
      "\r",
      "loss: 1.9034 ||:  49%|████████████████████████████████                                 | 39/79 [03:36<03:47,  5.69s/it]"
     ]
    },
    {
     "name": "stdout",
     "output_type": "stream",
     "text": [
      "An exception occurred\n"
     ]
    },
    {
     "name": "stderr",
     "output_type": "stream",
     "text": [
      "\r",
      "loss: 1.9004 ||:  51%|████████████████████████████████▉                                | 40/79 [03:41<03:39,  5.63s/it]"
     ]
    },
    {
     "name": "stdout",
     "output_type": "stream",
     "text": [
      "An exception occurred\n"
     ]
    },
    {
     "name": "stderr",
     "output_type": "stream",
     "text": [
      "\r",
      "loss: 1.8970 ||:  52%|█████████████████████████████████▋                               | 41/79 [03:47<03:40,  5.81s/it]"
     ]
    },
    {
     "name": "stdout",
     "output_type": "stream",
     "text": [
      "An exception occurred\n"
     ]
    },
    {
     "name": "stderr",
     "output_type": "stream",
     "text": [
      "\r",
      "loss: 1.8943 ||:  53%|██████████████████████████████████▌                              | 42/79 [03:53<03:34,  5.79s/it]"
     ]
    },
    {
     "name": "stdout",
     "output_type": "stream",
     "text": [
      "An exception occurred\n"
     ]
    },
    {
     "name": "stderr",
     "output_type": "stream",
     "text": [
      "\r",
      "loss: 1.8906 ||:  54%|███████████████████████████████████▍                             | 43/79 [03:59<03:30,  5.85s/it]"
     ]
    },
    {
     "name": "stdout",
     "output_type": "stream",
     "text": [
      "An exception occurred\n"
     ]
    },
    {
     "name": "stderr",
     "output_type": "stream",
     "text": [
      "\r",
      "loss: 1.8863 ||:  56%|████████████████████████████████████▏                            | 44/79 [04:05<03:25,  5.87s/it]"
     ]
    },
    {
     "name": "stdout",
     "output_type": "stream",
     "text": [
      "An exception occurred\n"
     ]
    },
    {
     "name": "stderr",
     "output_type": "stream",
     "text": [
      "\r",
      "loss: 1.8820 ||:  57%|█████████████████████████████████████                            | 45/79 [04:10<03:14,  5.72s/it]"
     ]
    },
    {
     "name": "stdout",
     "output_type": "stream",
     "text": [
      "An exception occurred\n"
     ]
    },
    {
     "name": "stderr",
     "output_type": "stream",
     "text": [
      "\r",
      "loss: 1.8778 ||:  58%|█████████████████████████████████████▊                           | 46/79 [04:17<03:12,  5.84s/it]"
     ]
    },
    {
     "name": "stdout",
     "output_type": "stream",
     "text": [
      "An exception occurred\n"
     ]
    },
    {
     "name": "stderr",
     "output_type": "stream",
     "text": [
      "\r",
      "loss: 1.8737 ||:  59%|██████████████████████████████████████▋                          | 47/79 [04:22<03:04,  5.76s/it]"
     ]
    },
    {
     "name": "stdout",
     "output_type": "stream",
     "text": [
      "An exception occurred\n"
     ]
    },
    {
     "name": "stderr",
     "output_type": "stream",
     "text": [
      "\r",
      "loss: 1.8697 ||:  61%|███████████████████████████████████████▍                         | 48/79 [04:28<03:01,  5.86s/it]"
     ]
    },
    {
     "name": "stdout",
     "output_type": "stream",
     "text": [
      "An exception occurred\n"
     ]
    },
    {
     "name": "stderr",
     "output_type": "stream",
     "text": [
      "\r",
      "loss: 1.8662 ||:  62%|████████████████████████████████████████▎                        | 49/79 [04:34<02:53,  5.79s/it]"
     ]
    },
    {
     "name": "stdout",
     "output_type": "stream",
     "text": [
      "An exception occurred\n"
     ]
    },
    {
     "name": "stderr",
     "output_type": "stream",
     "text": [
      "\r",
      "loss: 1.8620 ||:  63%|█████████████████████████████████████████▏                       | 50/79 [04:39<02:46,  5.75s/it]"
     ]
    },
    {
     "name": "stdout",
     "output_type": "stream",
     "text": [
      "An exception occurred\n"
     ]
    },
    {
     "name": "stderr",
     "output_type": "stream",
     "text": [
      "\r",
      "loss: 1.8581 ||:  65%|█████████████████████████████████████████▉                       | 51/79 [04:44<02:33,  5.48s/it]"
     ]
    },
    {
     "name": "stdout",
     "output_type": "stream",
     "text": [
      "An exception occurred\n"
     ]
    },
    {
     "name": "stderr",
     "output_type": "stream",
     "text": [
      "\r",
      "loss: 1.8545 ||:  66%|██████████████████████████████████████████▊                      | 52/79 [04:50<02:29,  5.54s/it]"
     ]
    },
    {
     "name": "stdout",
     "output_type": "stream",
     "text": [
      "An exception occurred\n"
     ]
    },
    {
     "name": "stderr",
     "output_type": "stream",
     "text": [
      "\r",
      "loss: 1.8501 ||:  67%|███████████████████████████████████████████▌                     | 53/79 [04:56<02:26,  5.64s/it]"
     ]
    },
    {
     "name": "stdout",
     "output_type": "stream",
     "text": [
      "An exception occurred\n"
     ]
    },
    {
     "name": "stderr",
     "output_type": "stream",
     "text": [
      "\r",
      "loss: 1.8470 ||:  68%|████████████████████████████████████████████▍                    | 54/79 [05:01<02:15,  5.41s/it]"
     ]
    },
    {
     "name": "stdout",
     "output_type": "stream",
     "text": [
      "An exception occurred\n"
     ]
    },
    {
     "name": "stderr",
     "output_type": "stream",
     "text": [
      "\r",
      "loss: 1.8432 ||:  70%|█████████████████████████████████████████████▎                   | 55/79 [05:07<02:13,  5.58s/it]"
     ]
    },
    {
     "name": "stdout",
     "output_type": "stream",
     "text": [
      "An exception occurred\n"
     ]
    },
    {
     "name": "stderr",
     "output_type": "stream",
     "text": [
      "\r",
      "loss: 1.8400 ||:  71%|██████████████████████████████████████████████                   | 56/79 [05:13<02:11,  5.72s/it]"
     ]
    },
    {
     "name": "stdout",
     "output_type": "stream",
     "text": [
      "An exception occurred\n"
     ]
    },
    {
     "name": "stderr",
     "output_type": "stream",
     "text": [
      "\r",
      "loss: 1.8362 ||:  72%|██████████████████████████████████████████████▉                  | 57/79 [05:18<02:05,  5.72s/it]"
     ]
    },
    {
     "name": "stdout",
     "output_type": "stream",
     "text": [
      "An exception occurred\n"
     ]
    },
    {
     "name": "stderr",
     "output_type": "stream",
     "text": [
      "\r",
      "loss: 1.8334 ||:  73%|███████████████████████████████████████████████▋                 | 58/79 [05:24<01:57,  5.57s/it]"
     ]
    },
    {
     "name": "stdout",
     "output_type": "stream",
     "text": [
      "An exception occurred\n"
     ]
    },
    {
     "name": "stderr",
     "output_type": "stream",
     "text": [
      "\r",
      "loss: 1.8292 ||:  75%|████████████████████████████████████████████████▌                | 59/79 [05:29<01:46,  5.34s/it]"
     ]
    },
    {
     "name": "stdout",
     "output_type": "stream",
     "text": [
      "An exception occurred\n"
     ]
    },
    {
     "name": "stderr",
     "output_type": "stream",
     "text": [
      "\r",
      "loss: 1.8258 ||:  76%|█████████████████████████████████████████████████▎               | 60/79 [05:34<01:44,  5.50s/it]"
     ]
    },
    {
     "name": "stdout",
     "output_type": "stream",
     "text": [
      "An exception occurred\n"
     ]
    },
    {
     "name": "stderr",
     "output_type": "stream",
     "text": [
      "\r",
      "loss: 1.8219 ||:  77%|██████████████████████████████████████████████████▏              | 61/79 [05:39<01:36,  5.36s/it]"
     ]
    },
    {
     "name": "stdout",
     "output_type": "stream",
     "text": [
      "An exception occurred\n"
     ]
    },
    {
     "name": "stderr",
     "output_type": "stream",
     "text": [
      "\r",
      "loss: 1.8186 ||:  78%|███████████████████████████████████████████████████              | 62/79 [05:45<01:33,  5.49s/it]"
     ]
    },
    {
     "name": "stdout",
     "output_type": "stream",
     "text": [
      "An exception occurred\n"
     ]
    },
    {
     "name": "stderr",
     "output_type": "stream",
     "text": [
      "\r",
      "loss: 1.8150 ||:  80%|███████████████████████████████████████████████████▊             | 63/79 [05:51<01:30,  5.66s/it]"
     ]
    },
    {
     "name": "stdout",
     "output_type": "stream",
     "text": [
      "An exception occurred\n"
     ]
    },
    {
     "name": "stderr",
     "output_type": "stream",
     "text": [
      "\r",
      "loss: 1.8120 ||:  81%|████████████████████████████████████████████████████▋            | 64/79 [05:57<01:24,  5.64s/it]"
     ]
    },
    {
     "name": "stdout",
     "output_type": "stream",
     "text": [
      "An exception occurred\n"
     ]
    },
    {
     "name": "stderr",
     "output_type": "stream",
     "text": [
      "\r",
      "loss: 1.8082 ||:  82%|█████████████████████████████████████████████████████▍           | 65/79 [06:02<01:18,  5.59s/it]"
     ]
    },
    {
     "name": "stdout",
     "output_type": "stream",
     "text": [
      "An exception occurred\n"
     ]
    },
    {
     "name": "stderr",
     "output_type": "stream",
     "text": [
      "\r",
      "loss: 1.8052 ||:  84%|██████████████████████████████████████████████████████▎          | 66/79 [06:08<01:13,  5.69s/it]"
     ]
    },
    {
     "name": "stdout",
     "output_type": "stream",
     "text": [
      "An exception occurred\n"
     ]
    },
    {
     "name": "stderr",
     "output_type": "stream",
     "text": [
      "\r",
      "loss: 1.8013 ||:  85%|███████████████████████████████████████████████████████▏         | 67/79 [06:14<01:08,  5.71s/it]"
     ]
    },
    {
     "name": "stdout",
     "output_type": "stream",
     "text": [
      "An exception occurred\n"
     ]
    },
    {
     "name": "stderr",
     "output_type": "stream",
     "text": [
      "\r",
      "loss: 1.7993 ||:  86%|███████████████████████████████████████████████████████▉         | 68/79 [06:20<01:02,  5.67s/it]"
     ]
    },
    {
     "name": "stdout",
     "output_type": "stream",
     "text": [
      "An exception occurred\n"
     ]
    },
    {
     "name": "stderr",
     "output_type": "stream",
     "text": [
      "\r",
      "loss: 1.7959 ||:  87%|████████████████████████████████████████████████████████▊        | 69/79 [06:24<00:52,  5.28s/it]"
     ]
    },
    {
     "name": "stdout",
     "output_type": "stream",
     "text": [
      "An exception occurred\n"
     ]
    },
    {
     "name": "stderr",
     "output_type": "stream",
     "text": [
      "\r",
      "loss: 1.7922 ||:  89%|█████████████████████████████████████████████████████████▌       | 70/79 [06:29<00:47,  5.25s/it]"
     ]
    },
    {
     "name": "stdout",
     "output_type": "stream",
     "text": [
      "An exception occurred\n"
     ]
    },
    {
     "name": "stderr",
     "output_type": "stream",
     "text": [
      "\r",
      "loss: 1.7892 ||:  90%|██████████████████████████████████████████████████████████▍      | 71/79 [06:34<00:41,  5.20s/it]"
     ]
    },
    {
     "name": "stdout",
     "output_type": "stream",
     "text": [
      "An exception occurred\n"
     ]
    },
    {
     "name": "stderr",
     "output_type": "stream",
     "text": [
      "\r",
      "loss: 1.7867 ||:  91%|███████████████████████████████████████████████████████████▏     | 72/79 [06:40<00:37,  5.37s/it]"
     ]
    },
    {
     "name": "stdout",
     "output_type": "stream",
     "text": [
      "An exception occurred\n"
     ]
    },
    {
     "name": "stderr",
     "output_type": "stream",
     "text": [
      "\r",
      "loss: 1.7839 ||:  92%|████████████████████████████████████████████████████████████     | 73/79 [06:45<00:31,  5.31s/it]"
     ]
    },
    {
     "name": "stdout",
     "output_type": "stream",
     "text": [
      "An exception occurred\n"
     ]
    },
    {
     "name": "stderr",
     "output_type": "stream",
     "text": [
      "\r",
      "loss: 1.7811 ||:  94%|████████████████████████████████████████████████████████████▉    | 74/79 [06:51<00:27,  5.44s/it]"
     ]
    },
    {
     "name": "stdout",
     "output_type": "stream",
     "text": [
      "An exception occurred\n"
     ]
    },
    {
     "name": "stderr",
     "output_type": "stream",
     "text": [
      "\r",
      "loss: 1.7778 ||:  95%|█████████████████████████████████████████████████████████████▋   | 75/79 [06:56<00:21,  5.44s/it]"
     ]
    },
    {
     "name": "stdout",
     "output_type": "stream",
     "text": [
      "An exception occurred\n"
     ]
    },
    {
     "name": "stderr",
     "output_type": "stream",
     "text": [
      "\r",
      "loss: 1.7747 ||:  96%|██████████████████████████████████████████████████████████████▌  | 76/79 [07:02<00:16,  5.56s/it]"
     ]
    },
    {
     "name": "stdout",
     "output_type": "stream",
     "text": [
      "An exception occurred\n"
     ]
    },
    {
     "name": "stderr",
     "output_type": "stream",
     "text": [
      "\r",
      "loss: 1.7719 ||:  97%|███████████████████████████████████████████████████████████████▎ | 77/79 [07:08<00:11,  5.74s/it]"
     ]
    },
    {
     "name": "stdout",
     "output_type": "stream",
     "text": [
      "An exception occurred\n"
     ]
    },
    {
     "name": "stderr",
     "output_type": "stream",
     "text": [
      "\r",
      "loss: 1.7691 ||:  99%|████████████████████████████████████████████████████████████████▏| 78/79 [07:14<00:05,  5.83s/it]"
     ]
    },
    {
     "name": "stdout",
     "output_type": "stream",
     "text": [
      "An exception occurred\n"
     ]
    },
    {
     "name": "stderr",
     "output_type": "stream",
     "text": [
      "loss: 1.7646 ||: 100%|█████████████████████████████████████████████████████████████████| 79/79 [07:15<00:00,  5.52s/it]\n",
      "  0%|                                                                                           | 0/79 [00:00<?, ?it/s]"
     ]
    },
    {
     "name": "stdout",
     "output_type": "stream",
     "text": [
      "An exception occurred\n"
     ]
    },
    {
     "name": "stderr",
     "output_type": "stream",
     "text": [
      "\r",
      "loss: 1.4884 ||:   1%|▊                                                                 | 1/79 [00:05<07:40,  5.91s/it]"
     ]
    },
    {
     "name": "stdout",
     "output_type": "stream",
     "text": [
      "An exception occurred\n"
     ]
    },
    {
     "name": "stderr",
     "output_type": "stream",
     "text": [
      "\r",
      "loss: 1.5122 ||:   3%|█▋                                                                | 2/79 [00:11<07:26,  5.80s/it]"
     ]
    },
    {
     "name": "stdout",
     "output_type": "stream",
     "text": [
      "An exception occurred\n"
     ]
    },
    {
     "name": "stderr",
     "output_type": "stream",
     "text": [
      "\r",
      "loss: 1.5237 ||:   4%|██▌                                                               | 3/79 [00:17<07:18,  5.77s/it]"
     ]
    },
    {
     "name": "stdout",
     "output_type": "stream",
     "text": [
      "An exception occurred\n"
     ]
    },
    {
     "name": "stderr",
     "output_type": "stream",
     "text": [
      "\r",
      "loss: 1.5325 ||:   5%|███▎                                                              | 4/79 [00:23<07:16,  5.83s/it]"
     ]
    },
    {
     "name": "stdout",
     "output_type": "stream",
     "text": [
      "An exception occurred\n"
     ]
    },
    {
     "name": "stderr",
     "output_type": "stream",
     "text": [
      "\r",
      "loss: 1.5332 ||:   6%|████▏                                                             | 5/79 [00:28<06:53,  5.58s/it]"
     ]
    },
    {
     "name": "stdout",
     "output_type": "stream",
     "text": [
      "An exception occurred\n"
     ]
    },
    {
     "name": "stderr",
     "output_type": "stream",
     "text": [
      "\r",
      "loss: 1.5209 ||:   8%|█████                                                             | 6/79 [00:33<06:52,  5.65s/it]"
     ]
    },
    {
     "name": "stdout",
     "output_type": "stream",
     "text": [
      "An exception occurred\n"
     ]
    },
    {
     "name": "stderr",
     "output_type": "stream",
     "text": [
      "\r",
      "loss: 1.5192 ||:   9%|█████▊                                                            | 7/79 [00:39<06:44,  5.61s/it]"
     ]
    },
    {
     "name": "stdout",
     "output_type": "stream",
     "text": [
      "An exception occurred\n"
     ]
    },
    {
     "name": "stderr",
     "output_type": "stream",
     "text": [
      "\r",
      "loss: 1.5249 ||:  10%|██████▋                                                           | 8/79 [00:45<06:42,  5.66s/it]"
     ]
    },
    {
     "name": "stdout",
     "output_type": "stream",
     "text": [
      "An exception occurred\n"
     ]
    },
    {
     "name": "stderr",
     "output_type": "stream",
     "text": [
      "\r",
      "loss: 1.5260 ||:  11%|███████▌                                                          | 9/79 [00:50<06:34,  5.63s/it]"
     ]
    },
    {
     "name": "stdout",
     "output_type": "stream",
     "text": [
      "An exception occurred\n"
     ]
    },
    {
     "name": "stderr",
     "output_type": "stream",
     "text": [
      "\r",
      "loss: 1.5186 ||:  13%|████████▏                                                        | 10/79 [00:56<06:33,  5.70s/it]"
     ]
    },
    {
     "name": "stdout",
     "output_type": "stream",
     "text": [
      "An exception occurred\n"
     ]
    },
    {
     "name": "stderr",
     "output_type": "stream",
     "text": [
      "\r",
      "loss: 1.5185 ||:  14%|█████████                                                        | 11/79 [01:01<06:19,  5.58s/it]"
     ]
    },
    {
     "name": "stdout",
     "output_type": "stream",
     "text": [
      "An exception occurred\n"
     ]
    },
    {
     "name": "stderr",
     "output_type": "stream",
     "text": [
      "\r",
      "loss: 1.5118 ||:  15%|█████████▊                                                       | 12/79 [01:07<06:17,  5.63s/it]"
     ]
    },
    {
     "name": "stdout",
     "output_type": "stream",
     "text": [
      "An exception occurred\n"
     ]
    },
    {
     "name": "stderr",
     "output_type": "stream",
     "text": [
      "\r",
      "loss: 1.5114 ||:  16%|██████████▋                                                      | 13/79 [01:12<05:58,  5.44s/it]"
     ]
    },
    {
     "name": "stdout",
     "output_type": "stream",
     "text": [
      "An exception occurred\n"
     ]
    },
    {
     "name": "stderr",
     "output_type": "stream",
     "text": [
      "\r",
      "loss: 1.5071 ||:  18%|███████████▌                                                     | 14/79 [01:18<06:00,  5.55s/it]"
     ]
    },
    {
     "name": "stdout",
     "output_type": "stream",
     "text": [
      "An exception occurred\n"
     ]
    },
    {
     "name": "stderr",
     "output_type": "stream",
     "text": [
      "\r",
      "loss: 1.5033 ||:  19%|████████████▎                                                    | 15/79 [01:23<05:47,  5.43s/it]"
     ]
    },
    {
     "name": "stdout",
     "output_type": "stream",
     "text": [
      "An exception occurred\n"
     ]
    },
    {
     "name": "stderr",
     "output_type": "stream",
     "text": [
      "\r",
      "loss: 1.4995 ||:  20%|█████████████▏                                                   | 16/79 [01:28<05:29,  5.24s/it]"
     ]
    },
    {
     "name": "stdout",
     "output_type": "stream",
     "text": [
      "An exception occurred\n"
     ]
    },
    {
     "name": "stderr",
     "output_type": "stream",
     "text": [
      "\r",
      "loss: 1.5006 ||:  22%|█████████████▉                                                   | 17/79 [01:33<05:21,  5.19s/it]"
     ]
    },
    {
     "name": "stdout",
     "output_type": "stream",
     "text": [
      "An exception occurred\n"
     ]
    },
    {
     "name": "stderr",
     "output_type": "stream",
     "text": [
      "\r",
      "loss: 1.4979 ||:  23%|██████████████▊                                                  | 18/79 [01:39<05:23,  5.31s/it]"
     ]
    },
    {
     "name": "stdout",
     "output_type": "stream",
     "text": [
      "An exception occurred\n"
     ]
    },
    {
     "name": "stderr",
     "output_type": "stream",
     "text": [
      "\r",
      "loss: 1.4953 ||:  24%|███████████████▋                                                 | 19/79 [01:44<05:23,  5.39s/it]"
     ]
    },
    {
     "name": "stdout",
     "output_type": "stream",
     "text": [
      "An exception occurred\n"
     ]
    },
    {
     "name": "stderr",
     "output_type": "stream",
     "text": [
      "\r",
      "loss: 1.4925 ||:  25%|████████████████▍                                                | 20/79 [01:49<05:10,  5.27s/it]"
     ]
    },
    {
     "name": "stdout",
     "output_type": "stream",
     "text": [
      "An exception occurred\n"
     ]
    },
    {
     "name": "stderr",
     "output_type": "stream",
     "text": [
      "\r",
      "loss: 1.4903 ||:  27%|█████████████████▎                                               | 21/79 [01:55<05:09,  5.33s/it]"
     ]
    },
    {
     "name": "stdout",
     "output_type": "stream",
     "text": [
      "An exception occurred\n"
     ]
    },
    {
     "name": "stderr",
     "output_type": "stream",
     "text": [
      "\r",
      "loss: 1.4879 ||:  28%|██████████████████                                               | 22/79 [02:00<05:02,  5.31s/it]"
     ]
    },
    {
     "name": "stdout",
     "output_type": "stream",
     "text": [
      "An exception occurred\n"
     ]
    },
    {
     "name": "stderr",
     "output_type": "stream",
     "text": [
      "\r",
      "loss: 1.4900 ||:  29%|██████████████████▉                                              | 23/79 [02:06<05:04,  5.43s/it]"
     ]
    },
    {
     "name": "stdout",
     "output_type": "stream",
     "text": [
      "An exception occurred\n"
     ]
    },
    {
     "name": "stderr",
     "output_type": "stream",
     "text": [
      "\r",
      "loss: 1.4893 ||:  30%|███████████████████▋                                             | 24/79 [02:11<05:01,  5.49s/it]"
     ]
    },
    {
     "name": "stdout",
     "output_type": "stream",
     "text": [
      "An exception occurred\n"
     ]
    },
    {
     "name": "stderr",
     "output_type": "stream",
     "text": [
      "\r",
      "loss: 1.4879 ||:  32%|████████████████████▌                                            | 25/79 [02:16<04:45,  5.28s/it]"
     ]
    },
    {
     "name": "stdout",
     "output_type": "stream",
     "text": [
      "An exception occurred\n"
     ]
    },
    {
     "name": "stderr",
     "output_type": "stream",
     "text": [
      "\r",
      "loss: 1.4843 ||:  33%|█████████████████████▍                                           | 26/79 [02:22<04:43,  5.36s/it]"
     ]
    },
    {
     "name": "stdout",
     "output_type": "stream",
     "text": [
      "An exception occurred\n"
     ]
    },
    {
     "name": "stderr",
     "output_type": "stream",
     "text": [
      "\r",
      "loss: 1.4857 ||:  34%|██████████████████████▏                                          | 27/79 [02:28<04:50,  5.59s/it]"
     ]
    },
    {
     "name": "stdout",
     "output_type": "stream",
     "text": [
      "An exception occurred\n"
     ]
    },
    {
     "name": "stderr",
     "output_type": "stream",
     "text": [
      "\r",
      "loss: 1.4833 ||:  35%|███████████████████████                                          | 28/79 [02:34<04:49,  5.69s/it]"
     ]
    },
    {
     "name": "stdout",
     "output_type": "stream",
     "text": [
      "An exception occurred\n"
     ]
    },
    {
     "name": "stderr",
     "output_type": "stream",
     "text": [
      "\r",
      "loss: 1.4809 ||:  37%|███████████████████████▊                                         | 29/79 [02:39<04:45,  5.71s/it]"
     ]
    },
    {
     "name": "stdout",
     "output_type": "stream",
     "text": [
      "An exception occurred\n"
     ]
    },
    {
     "name": "stderr",
     "output_type": "stream",
     "text": [
      "\r",
      "loss: 1.4794 ||:  38%|████████████████████████▋                                        | 30/79 [02:45<04:35,  5.63s/it]"
     ]
    },
    {
     "name": "stdout",
     "output_type": "stream",
     "text": [
      "An exception occurred\n"
     ]
    },
    {
     "name": "stderr",
     "output_type": "stream",
     "text": [
      "\r",
      "loss: 1.4778 ||:  39%|█████████████████████████▌                                       | 31/79 [02:50<04:23,  5.49s/it]"
     ]
    },
    {
     "name": "stdout",
     "output_type": "stream",
     "text": [
      "An exception occurred\n"
     ]
    },
    {
     "name": "stderr",
     "output_type": "stream",
     "text": [
      "\r",
      "loss: 1.4759 ||:  41%|██████████████████████████▎                                      | 32/79 [02:56<04:24,  5.63s/it]"
     ]
    },
    {
     "name": "stdout",
     "output_type": "stream",
     "text": [
      "An exception occurred\n"
     ]
    },
    {
     "name": "stderr",
     "output_type": "stream",
     "text": [
      "\r",
      "loss: 1.4748 ||:  42%|███████████████████████████▏                                     | 33/79 [03:02<04:21,  5.68s/it]"
     ]
    },
    {
     "name": "stdout",
     "output_type": "stream",
     "text": [
      "An exception occurred\n"
     ]
    },
    {
     "name": "stderr",
     "output_type": "stream",
     "text": [
      "\r",
      "loss: 1.4724 ||:  43%|███████████████████████████▉                                     | 34/79 [03:08<04:18,  5.75s/it]"
     ]
    },
    {
     "name": "stdout",
     "output_type": "stream",
     "text": [
      "An exception occurred\n"
     ]
    },
    {
     "name": "stderr",
     "output_type": "stream",
     "text": [
      "\r",
      "loss: 1.4724 ||:  44%|████████████████████████████▊                                    | 35/79 [03:13<04:10,  5.69s/it]"
     ]
    },
    {
     "name": "stdout",
     "output_type": "stream",
     "text": [
      "An exception occurred\n"
     ]
    },
    {
     "name": "stderr",
     "output_type": "stream",
     "text": [
      "\r",
      "loss: 1.4703 ||:  46%|█████████████████████████████▌                                   | 36/79 [03:18<03:58,  5.55s/it]"
     ]
    },
    {
     "name": "stdout",
     "output_type": "stream",
     "text": [
      "An exception occurred\n"
     ]
    },
    {
     "name": "stderr",
     "output_type": "stream",
     "text": [
      "\r",
      "loss: 1.4684 ||:  47%|██████████████████████████████▍                                  | 37/79 [03:25<04:05,  5.85s/it]"
     ]
    },
    {
     "name": "stdout",
     "output_type": "stream",
     "text": [
      "An exception occurred\n"
     ]
    },
    {
     "name": "stderr",
     "output_type": "stream",
     "text": [
      "\r",
      "loss: 1.4673 ||:  48%|███████████████████████████████▎                                 | 38/79 [03:31<03:56,  5.78s/it]"
     ]
    },
    {
     "name": "stdout",
     "output_type": "stream",
     "text": [
      "An exception occurred\n"
     ]
    },
    {
     "name": "stderr",
     "output_type": "stream",
     "text": [
      "\r",
      "loss: 1.4657 ||:  49%|████████████████████████████████                                 | 39/79 [03:36<03:42,  5.55s/it]"
     ]
    },
    {
     "name": "stdout",
     "output_type": "stream",
     "text": [
      "An exception occurred\n"
     ]
    },
    {
     "name": "stderr",
     "output_type": "stream",
     "text": [
      "\r",
      "loss: 1.4647 ||:  51%|████████████████████████████████▉                                | 40/79 [03:42<03:41,  5.68s/it]"
     ]
    },
    {
     "name": "stdout",
     "output_type": "stream",
     "text": [
      "An exception occurred\n"
     ]
    },
    {
     "name": "stderr",
     "output_type": "stream",
     "text": [
      "\r",
      "loss: 1.4625 ||:  52%|█████████████████████████████████▋                               | 41/79 [03:47<03:36,  5.70s/it]"
     ]
    },
    {
     "name": "stdout",
     "output_type": "stream",
     "text": [
      "An exception occurred\n"
     ]
    },
    {
     "name": "stderr",
     "output_type": "stream",
     "text": [
      "\r",
      "loss: 1.4608 ||:  53%|██████████████████████████████████▌                              | 42/79 [03:53<03:30,  5.70s/it]"
     ]
    },
    {
     "name": "stdout",
     "output_type": "stream",
     "text": [
      "An exception occurred\n"
     ]
    },
    {
     "name": "stderr",
     "output_type": "stream",
     "text": [
      "\r",
      "loss: 1.4581 ||:  54%|███████████████████████████████████▍                             | 43/79 [03:59<03:23,  5.67s/it]"
     ]
    },
    {
     "name": "stdout",
     "output_type": "stream",
     "text": [
      "An exception occurred\n"
     ]
    },
    {
     "name": "stderr",
     "output_type": "stream",
     "text": [
      "\r",
      "loss: 1.4575 ||:  56%|████████████████████████████████████▏                            | 44/79 [04:04<03:16,  5.61s/it]"
     ]
    },
    {
     "name": "stdout",
     "output_type": "stream",
     "text": [
      "An exception occurred\n"
     ]
    },
    {
     "name": "stderr",
     "output_type": "stream",
     "text": [
      "\r",
      "loss: 1.4557 ||:  57%|█████████████████████████████████████                            | 45/79 [04:10<03:13,  5.69s/it]"
     ]
    },
    {
     "name": "stdout",
     "output_type": "stream",
     "text": [
      "An exception occurred\n"
     ]
    },
    {
     "name": "stderr",
     "output_type": "stream",
     "text": [
      "\r",
      "loss: 1.4546 ||:  58%|█████████████████████████████████████▊                           | 46/79 [04:16<03:08,  5.71s/it]"
     ]
    },
    {
     "name": "stdout",
     "output_type": "stream",
     "text": [
      "An exception occurred\n"
     ]
    },
    {
     "name": "stderr",
     "output_type": "stream",
     "text": [
      "\r",
      "loss: 1.4533 ||:  59%|██████████████████████████████████████▋                          | 47/79 [04:22<03:07,  5.85s/it]"
     ]
    },
    {
     "name": "stdout",
     "output_type": "stream",
     "text": [
      "An exception occurred\n"
     ]
    },
    {
     "name": "stderr",
     "output_type": "stream",
     "text": [
      "\r",
      "loss: 1.4522 ||:  61%|███████████████████████████████████████▍                         | 48/79 [04:28<03:05,  5.99s/it]"
     ]
    },
    {
     "name": "stdout",
     "output_type": "stream",
     "text": [
      "An exception occurred\n"
     ]
    },
    {
     "name": "stderr",
     "output_type": "stream",
     "text": [
      "\r",
      "loss: 1.4507 ||:  62%|████████████████████████████████████████▎                        | 49/79 [04:34<02:59,  5.97s/it]"
     ]
    },
    {
     "name": "stdout",
     "output_type": "stream",
     "text": [
      "An exception occurred\n"
     ]
    },
    {
     "name": "stderr",
     "output_type": "stream",
     "text": [
      "\r",
      "loss: 1.4500 ||:  63%|█████████████████████████████████████████▏                       | 50/79 [04:40<02:51,  5.93s/it]"
     ]
    },
    {
     "name": "stdout",
     "output_type": "stream",
     "text": [
      "An exception occurred\n"
     ]
    },
    {
     "name": "stderr",
     "output_type": "stream",
     "text": [
      "\r",
      "loss: 1.4496 ||:  65%|█████████████████████████████████████████▉                       | 51/79 [04:46<02:48,  6.00s/it]"
     ]
    },
    {
     "name": "stdout",
     "output_type": "stream",
     "text": [
      "An exception occurred\n"
     ]
    },
    {
     "name": "stderr",
     "output_type": "stream",
     "text": [
      "\r",
      "loss: 1.4482 ||:  66%|██████████████████████████████████████████▊                      | 52/79 [04:51<02:36,  5.79s/it]"
     ]
    },
    {
     "name": "stdout",
     "output_type": "stream",
     "text": [
      "An exception occurred\n"
     ]
    },
    {
     "name": "stderr",
     "output_type": "stream",
     "text": [
      "\r",
      "loss: 1.4469 ||:  67%|███████████████████████████████████████████▌                     | 53/79 [04:57<02:29,  5.74s/it]"
     ]
    },
    {
     "name": "stdout",
     "output_type": "stream",
     "text": [
      "An exception occurred\n"
     ]
    },
    {
     "name": "stderr",
     "output_type": "stream",
     "text": [
      "\r",
      "loss: 1.4462 ||:  68%|████████████████████████████████████████████▍                    | 54/79 [05:03<02:25,  5.83s/it]"
     ]
    },
    {
     "name": "stdout",
     "output_type": "stream",
     "text": [
      "An exception occurred\n"
     ]
    },
    {
     "name": "stderr",
     "output_type": "stream",
     "text": [
      "\r",
      "loss: 1.4448 ||:  70%|█████████████████████████████████████████████▎                   | 55/79 [05:09<02:18,  5.77s/it]"
     ]
    },
    {
     "name": "stdout",
     "output_type": "stream",
     "text": [
      "An exception occurred\n"
     ]
    },
    {
     "name": "stderr",
     "output_type": "stream",
     "text": [
      "\r",
      "loss: 1.4433 ||:  71%|██████████████████████████████████████████████                   | 56/79 [05:13<02:02,  5.35s/it]"
     ]
    },
    {
     "name": "stdout",
     "output_type": "stream",
     "text": [
      "An exception occurred\n"
     ]
    },
    {
     "name": "stderr",
     "output_type": "stream",
     "text": [
      "\r",
      "loss: 1.4418 ||:  72%|██████████████████████████████████████████████▉                  | 57/79 [05:19<02:00,  5.49s/it]"
     ]
    },
    {
     "name": "stdout",
     "output_type": "stream",
     "text": [
      "An exception occurred\n"
     ]
    },
    {
     "name": "stderr",
     "output_type": "stream",
     "text": [
      "\r",
      "loss: 1.4398 ||:  73%|███████████████████████████████████████████████▋                 | 58/79 [05:24<01:55,  5.50s/it]"
     ]
    },
    {
     "name": "stdout",
     "output_type": "stream",
     "text": [
      "An exception occurred\n"
     ]
    },
    {
     "name": "stderr",
     "output_type": "stream",
     "text": [
      "\r",
      "loss: 1.4381 ||:  75%|████████████████████████████████████████████████▌                | 59/79 [05:31<01:54,  5.70s/it]"
     ]
    },
    {
     "name": "stdout",
     "output_type": "stream",
     "text": [
      "An exception occurred\n"
     ]
    },
    {
     "name": "stderr",
     "output_type": "stream",
     "text": [
      "\r",
      "loss: 1.4371 ||:  76%|█████████████████████████████████████████████████▎               | 60/79 [05:37<01:49,  5.78s/it]"
     ]
    },
    {
     "name": "stdout",
     "output_type": "stream",
     "text": [
      "An exception occurred\n"
     ]
    },
    {
     "name": "stderr",
     "output_type": "stream",
     "text": [
      "\r",
      "loss: 1.4352 ||:  77%|██████████████████████████████████████████████████▏              | 61/79 [05:42<01:44,  5.80s/it]"
     ]
    },
    {
     "name": "stdout",
     "output_type": "stream",
     "text": [
      "An exception occurred\n"
     ]
    },
    {
     "name": "stderr",
     "output_type": "stream",
     "text": [
      "\r",
      "loss: 1.4340 ||:  78%|███████████████████████████████████████████████████              | 62/79 [05:48<01:37,  5.72s/it]"
     ]
    },
    {
     "name": "stdout",
     "output_type": "stream",
     "text": [
      "An exception occurred\n"
     ]
    },
    {
     "name": "stderr",
     "output_type": "stream",
     "text": [
      "\r",
      "loss: 1.4330 ||:  80%|███████████████████████████████████████████████████▊             | 63/79 [05:54<01:34,  5.89s/it]"
     ]
    },
    {
     "name": "stdout",
     "output_type": "stream",
     "text": [
      "An exception occurred\n"
     ]
    },
    {
     "name": "stderr",
     "output_type": "stream",
     "text": [
      "\r",
      "loss: 1.4315 ||:  81%|████████████████████████████████████████████████████▋            | 64/79 [05:59<01:23,  5.56s/it]"
     ]
    },
    {
     "name": "stdout",
     "output_type": "stream",
     "text": [
      "An exception occurred\n"
     ]
    },
    {
     "name": "stderr",
     "output_type": "stream",
     "text": [
      "\r",
      "loss: 1.4301 ||:  82%|█████████████████████████████████████████████████████▍           | 65/79 [06:05<01:18,  5.63s/it]"
     ]
    },
    {
     "name": "stdout",
     "output_type": "stream",
     "text": [
      "An exception occurred\n"
     ]
    },
    {
     "name": "stderr",
     "output_type": "stream",
     "text": [
      "\r",
      "loss: 1.4286 ||:  84%|██████████████████████████████████████████████████████▎          | 66/79 [06:11<01:16,  5.85s/it]"
     ]
    },
    {
     "name": "stdout",
     "output_type": "stream",
     "text": [
      "An exception occurred\n"
     ]
    },
    {
     "name": "stderr",
     "output_type": "stream",
     "text": [
      "\r",
      "loss: 1.4277 ||:  85%|███████████████████████████████████████████████████████▏         | 67/79 [06:16<01:07,  5.65s/it]"
     ]
    },
    {
     "name": "stdout",
     "output_type": "stream",
     "text": [
      "An exception occurred\n"
     ]
    },
    {
     "name": "stderr",
     "output_type": "stream",
     "text": [
      "\r",
      "loss: 1.4259 ||:  86%|███████████████████████████████████████████████████████▉         | 68/79 [06:22<01:03,  5.74s/it]"
     ]
    },
    {
     "name": "stdout",
     "output_type": "stream",
     "text": [
      "An exception occurred\n"
     ]
    },
    {
     "name": "stderr",
     "output_type": "stream",
     "text": [
      "\r",
      "loss: 1.4250 ||:  87%|████████████████████████████████████████████████████████▊        | 69/79 [06:28<00:58,  5.87s/it]"
     ]
    },
    {
     "name": "stdout",
     "output_type": "stream",
     "text": [
      "An exception occurred\n"
     ]
    },
    {
     "name": "stderr",
     "output_type": "stream",
     "text": [
      "\r",
      "loss: 1.4238 ||:  89%|█████████████████████████████████████████████████████████▌       | 70/79 [06:34<00:52,  5.87s/it]"
     ]
    },
    {
     "name": "stdout",
     "output_type": "stream",
     "text": [
      "An exception occurred\n"
     ]
    },
    {
     "name": "stderr",
     "output_type": "stream",
     "text": [
      "\r",
      "loss: 1.4227 ||:  90%|██████████████████████████████████████████████████████████▍      | 71/79 [06:41<00:47,  5.98s/it]"
     ]
    },
    {
     "name": "stdout",
     "output_type": "stream",
     "text": [
      "An exception occurred\n"
     ]
    },
    {
     "name": "stderr",
     "output_type": "stream",
     "text": [
      "\r",
      "loss: 1.4209 ||:  91%|███████████████████████████████████████████████████████████▏     | 72/79 [06:46<00:40,  5.84s/it]"
     ]
    },
    {
     "name": "stdout",
     "output_type": "stream",
     "text": [
      "An exception occurred\n"
     ]
    },
    {
     "name": "stderr",
     "output_type": "stream",
     "text": [
      "\r",
      "loss: 1.4193 ||:  92%|████████████████████████████████████████████████████████████     | 73/79 [06:52<00:35,  5.97s/it]"
     ]
    },
    {
     "name": "stdout",
     "output_type": "stream",
     "text": [
      "An exception occurred\n"
     ]
    },
    {
     "name": "stderr",
     "output_type": "stream",
     "text": [
      "\r",
      "loss: 1.4178 ||:  94%|████████████████████████████████████████████████████████████▉    | 74/79 [06:58<00:29,  5.95s/it]"
     ]
    },
    {
     "name": "stdout",
     "output_type": "stream",
     "text": [
      "An exception occurred\n"
     ]
    },
    {
     "name": "stderr",
     "output_type": "stream",
     "text": [
      "\r",
      "loss: 1.4163 ||:  95%|█████████████████████████████████████████████████████████████▋   | 75/79 [07:04<00:23,  5.84s/it]"
     ]
    },
    {
     "name": "stdout",
     "output_type": "stream",
     "text": [
      "An exception occurred\n"
     ]
    },
    {
     "name": "stderr",
     "output_type": "stream",
     "text": [
      "\r",
      "loss: 1.4154 ||:  96%|██████████████████████████████████████████████████████████████▌  | 76/79 [07:09<00:16,  5.64s/it]"
     ]
    },
    {
     "name": "stdout",
     "output_type": "stream",
     "text": [
      "An exception occurred\n"
     ]
    },
    {
     "name": "stderr",
     "output_type": "stream",
     "text": [
      "\r",
      "loss: 1.4141 ||:  97%|███████████████████████████████████████████████████████████████▎ | 77/79 [07:14<00:10,  5.49s/it]"
     ]
    },
    {
     "name": "stdout",
     "output_type": "stream",
     "text": [
      "An exception occurred\n"
     ]
    },
    {
     "name": "stderr",
     "output_type": "stream",
     "text": [
      "\r",
      "loss: 1.4130 ||:  99%|████████████████████████████████████████████████████████████████▏| 78/79 [07:20<00:05,  5.61s/it]"
     ]
    },
    {
     "name": "stdout",
     "output_type": "stream",
     "text": [
      "An exception occurred\n"
     ]
    },
    {
     "name": "stderr",
     "output_type": "stream",
     "text": [
      "loss: 1.4103 ||: 100%|█████████████████████████████████████████████████████████████████| 79/79 [07:21<00:00,  5.59s/it]\n",
      "  0%|                                                                                           | 0/79 [00:00<?, ?it/s]"
     ]
    },
    {
     "name": "stdout",
     "output_type": "stream",
     "text": [
      "An exception occurred\n"
     ]
    },
    {
     "name": "stderr",
     "output_type": "stream",
     "text": [
      "\r",
      "loss: 1.3152 ||:   1%|▊                                                                 | 1/79 [00:05<06:53,  5.30s/it]"
     ]
    },
    {
     "name": "stdout",
     "output_type": "stream",
     "text": [
      "An exception occurred\n"
     ]
    },
    {
     "name": "stderr",
     "output_type": "stream",
     "text": [
      "\r",
      "loss: 1.3152 ||:   3%|█▋                                                                | 2/79 [00:11<07:05,  5.53s/it]"
     ]
    },
    {
     "name": "stdout",
     "output_type": "stream",
     "text": [
      "An exception occurred\n"
     ]
    },
    {
     "name": "stderr",
     "output_type": "stream",
     "text": [
      "\r",
      "loss: 1.3091 ||:   4%|██▌                                                               | 3/79 [00:16<06:57,  5.49s/it]"
     ]
    },
    {
     "name": "stdout",
     "output_type": "stream",
     "text": [
      "An exception occurred\n"
     ]
    },
    {
     "name": "stderr",
     "output_type": "stream",
     "text": [
      "\r",
      "loss: 1.3097 ||:   5%|███▎                                                              | 4/79 [00:22<07:05,  5.68s/it]"
     ]
    },
    {
     "name": "stdout",
     "output_type": "stream",
     "text": [
      "An exception occurred\n"
     ]
    },
    {
     "name": "stderr",
     "output_type": "stream",
     "text": [
      "\r",
      "loss: 1.3086 ||:   6%|████▏                                                             | 5/79 [00:27<06:25,  5.22s/it]"
     ]
    },
    {
     "name": "stdout",
     "output_type": "stream",
     "text": [
      "An exception occurred\n"
     ]
    },
    {
     "name": "stderr",
     "output_type": "stream",
     "text": [
      "\r",
      "loss: 1.3095 ||:   8%|█████                                                             | 6/79 [00:32<06:33,  5.39s/it]"
     ]
    },
    {
     "name": "stdout",
     "output_type": "stream",
     "text": [
      "An exception occurred\n"
     ]
    },
    {
     "name": "stderr",
     "output_type": "stream",
     "text": [
      "\r",
      "loss: 1.3137 ||:   9%|█████▊                                                            | 7/79 [00:39<06:53,  5.75s/it]"
     ]
    },
    {
     "name": "stdout",
     "output_type": "stream",
     "text": [
      "An exception occurred\n"
     ]
    },
    {
     "name": "stderr",
     "output_type": "stream",
     "text": [
      "\r",
      "loss: 1.3159 ||:  10%|██████▋                                                           | 8/79 [00:44<06:44,  5.69s/it]"
     ]
    },
    {
     "name": "stdout",
     "output_type": "stream",
     "text": [
      "An exception occurred\n"
     ]
    },
    {
     "name": "stderr",
     "output_type": "stream",
     "text": [
      "\r",
      "loss: 1.3185 ||:  11%|███████▌                                                          | 9/79 [00:50<06:42,  5.74s/it]"
     ]
    },
    {
     "name": "stdout",
     "output_type": "stream",
     "text": [
      "An exception occurred\n"
     ]
    },
    {
     "name": "stderr",
     "output_type": "stream",
     "text": [
      "\r",
      "loss: 1.3205 ||:  13%|████████▏                                                        | 10/79 [00:55<06:21,  5.53s/it]"
     ]
    },
    {
     "name": "stdout",
     "output_type": "stream",
     "text": [
      "An exception occurred\n"
     ]
    },
    {
     "name": "stderr",
     "output_type": "stream",
     "text": [
      "\r",
      "loss: 1.3153 ||:  14%|█████████                                                        | 11/79 [01:01<06:25,  5.66s/it]"
     ]
    },
    {
     "name": "stdout",
     "output_type": "stream",
     "text": [
      "An exception occurred\n"
     ]
    },
    {
     "name": "stderr",
     "output_type": "stream",
     "text": [
      "\r",
      "loss: 1.3126 ||:  15%|█████████▊                                                       | 12/79 [01:08<06:31,  5.84s/it]"
     ]
    },
    {
     "name": "stdout",
     "output_type": "stream",
     "text": [
      "An exception occurred\n"
     ]
    },
    {
     "name": "stderr",
     "output_type": "stream",
     "text": [
      "\r",
      "loss: 1.3128 ||:  16%|██████████▋                                                      | 13/79 [01:12<05:59,  5.45s/it]"
     ]
    },
    {
     "name": "stdout",
     "output_type": "stream",
     "text": [
      "An exception occurred\n"
     ]
    },
    {
     "name": "stderr",
     "output_type": "stream",
     "text": [
      "\r",
      "loss: 1.3106 ||:  18%|███████████▌                                                     | 14/79 [01:17<05:50,  5.39s/it]"
     ]
    },
    {
     "name": "stdout",
     "output_type": "stream",
     "text": [
      "An exception occurred\n"
     ]
    },
    {
     "name": "stderr",
     "output_type": "stream",
     "text": [
      "\r",
      "loss: 1.3076 ||:  19%|████████████▎                                                    | 15/79 [01:23<05:45,  5.40s/it]"
     ]
    },
    {
     "name": "stdout",
     "output_type": "stream",
     "text": [
      "An exception occurred\n"
     ]
    },
    {
     "name": "stderr",
     "output_type": "stream",
     "text": [
      "\r",
      "loss: 1.3056 ||:  20%|█████████████▏                                                   | 16/79 [01:30<06:06,  5.82s/it]"
     ]
    },
    {
     "name": "stdout",
     "output_type": "stream",
     "text": [
      "An exception occurred\n"
     ]
    },
    {
     "name": "stderr",
     "output_type": "stream",
     "text": [
      "\r",
      "loss: 1.3075 ||:  22%|█████████████▉                                                   | 17/79 [01:35<05:54,  5.72s/it]"
     ]
    },
    {
     "name": "stdout",
     "output_type": "stream",
     "text": [
      "An exception occurred\n"
     ]
    },
    {
     "name": "stderr",
     "output_type": "stream",
     "text": [
      "\r",
      "loss: 1.3096 ||:  23%|██████████████▊                                                  | 18/79 [01:40<05:36,  5.52s/it]"
     ]
    },
    {
     "name": "stdout",
     "output_type": "stream",
     "text": [
      "An exception occurred\n"
     ]
    },
    {
     "name": "stderr",
     "output_type": "stream",
     "text": [
      "\r",
      "loss: 1.3097 ||:  24%|███████████████▋                                                 | 19/79 [01:46<05:38,  5.64s/it]"
     ]
    },
    {
     "name": "stdout",
     "output_type": "stream",
     "text": [
      "An exception occurred\n"
     ]
    },
    {
     "name": "stderr",
     "output_type": "stream",
     "text": [
      "\r",
      "loss: 1.3091 ||:  25%|████████████████▍                                                | 20/79 [01:52<05:37,  5.73s/it]"
     ]
    },
    {
     "name": "stdout",
     "output_type": "stream",
     "text": [
      "An exception occurred\n"
     ]
    },
    {
     "name": "stderr",
     "output_type": "stream",
     "text": [
      "\r",
      "loss: 1.3070 ||:  27%|█████████████████▎                                               | 21/79 [01:58<05:31,  5.72s/it]"
     ]
    },
    {
     "name": "stdout",
     "output_type": "stream",
     "text": [
      "An exception occurred\n"
     ]
    },
    {
     "name": "stderr",
     "output_type": "stream",
     "text": [
      "\r",
      "loss: 1.3051 ||:  28%|██████████████████                                               | 22/79 [02:03<05:19,  5.61s/it]"
     ]
    },
    {
     "name": "stdout",
     "output_type": "stream",
     "text": [
      "An exception occurred\n"
     ]
    },
    {
     "name": "stderr",
     "output_type": "stream",
     "text": [
      "\r",
      "loss: 1.3038 ||:  29%|██████████████████▉                                              | 23/79 [02:08<05:08,  5.51s/it]"
     ]
    },
    {
     "name": "stdout",
     "output_type": "stream",
     "text": [
      "An exception occurred\n"
     ]
    },
    {
     "name": "stderr",
     "output_type": "stream",
     "text": [
      "\r",
      "loss: 1.3044 ||:  30%|███████████████████▋                                             | 24/79 [02:14<05:12,  5.68s/it]"
     ]
    },
    {
     "name": "stdout",
     "output_type": "stream",
     "text": [
      "An exception occurred\n"
     ]
    },
    {
     "name": "stderr",
     "output_type": "stream",
     "text": [
      "\r",
      "loss: 1.3056 ||:  32%|████████████████████▌                                            | 25/79 [02:20<05:02,  5.61s/it]"
     ]
    },
    {
     "name": "stdout",
     "output_type": "stream",
     "text": [
      "An exception occurred\n"
     ]
    },
    {
     "name": "stderr",
     "output_type": "stream",
     "text": [
      "\r",
      "loss: 1.3035 ||:  33%|█████████████████████▍                                           | 26/79 [02:25<04:53,  5.54s/it]"
     ]
    },
    {
     "name": "stdout",
     "output_type": "stream",
     "text": [
      "An exception occurred\n"
     ]
    },
    {
     "name": "stderr",
     "output_type": "stream",
     "text": [
      "\r",
      "loss: 1.3009 ||:  34%|██████████████████████▏                                          | 27/79 [02:31<04:46,  5.52s/it]"
     ]
    },
    {
     "name": "stdout",
     "output_type": "stream",
     "text": [
      "An exception occurred\n"
     ]
    },
    {
     "name": "stderr",
     "output_type": "stream",
     "text": [
      "\r",
      "loss: 1.2997 ||:  35%|███████████████████████                                          | 28/79 [02:36<04:35,  5.39s/it]"
     ]
    },
    {
     "name": "stdout",
     "output_type": "stream",
     "text": [
      "An exception occurred\n"
     ]
    },
    {
     "name": "stderr",
     "output_type": "stream",
     "text": [
      "\r",
      "loss: 1.3008 ||:  37%|███████████████████████▊                                         | 29/79 [02:41<04:33,  5.48s/it]"
     ]
    },
    {
     "name": "stdout",
     "output_type": "stream",
     "text": [
      "An exception occurred\n"
     ]
    },
    {
     "name": "stderr",
     "output_type": "stream",
     "text": [
      "\r",
      "loss: 1.2984 ||:  38%|████████████████████████▋                                        | 30/79 [02:47<04:32,  5.56s/it]"
     ]
    },
    {
     "name": "stdout",
     "output_type": "stream",
     "text": [
      "An exception occurred\n"
     ]
    },
    {
     "name": "stderr",
     "output_type": "stream",
     "text": [
      "\r",
      "loss: 1.2966 ||:  39%|█████████████████████████▌                                       | 31/79 [02:53<04:37,  5.78s/it]"
     ]
    },
    {
     "name": "stdout",
     "output_type": "stream",
     "text": [
      "An exception occurred\n"
     ]
    },
    {
     "name": "stderr",
     "output_type": "stream",
     "text": [
      "\r",
      "loss: 1.2964 ||:  41%|██████████████████████████▎                                      | 32/79 [02:59<04:24,  5.64s/it]"
     ]
    },
    {
     "name": "stdout",
     "output_type": "stream",
     "text": [
      "An exception occurred\n"
     ]
    },
    {
     "name": "stderr",
     "output_type": "stream",
     "text": [
      "\r",
      "loss: 1.2957 ||:  42%|███████████████████████████▏                                     | 33/79 [03:05<04:31,  5.91s/it]"
     ]
    },
    {
     "name": "stdout",
     "output_type": "stream",
     "text": [
      "An exception occurred\n"
     ]
    },
    {
     "name": "stderr",
     "output_type": "stream",
     "text": [
      "\r",
      "loss: 1.2958 ||:  43%|███████████████████████████▉                                     | 34/79 [03:11<04:21,  5.81s/it]"
     ]
    },
    {
     "name": "stdout",
     "output_type": "stream",
     "text": [
      "An exception occurred\n"
     ]
    },
    {
     "name": "stderr",
     "output_type": "stream",
     "text": [
      "\r",
      "loss: 1.2943 ||:  44%|████████████████████████████▊                                    | 35/79 [03:16<04:08,  5.65s/it]"
     ]
    },
    {
     "name": "stdout",
     "output_type": "stream",
     "text": [
      "An exception occurred\n"
     ]
    },
    {
     "name": "stderr",
     "output_type": "stream",
     "text": [
      "\r",
      "loss: 1.2946 ||:  46%|█████████████████████████████▌                                   | 36/79 [03:22<04:09,  5.81s/it]"
     ]
    },
    {
     "name": "stdout",
     "output_type": "stream",
     "text": [
      "An exception occurred\n"
     ]
    },
    {
     "name": "stderr",
     "output_type": "stream",
     "text": [
      "\r",
      "loss: 1.2938 ||:  47%|██████████████████████████████▍                                  | 37/79 [03:29<04:08,  5.91s/it]"
     ]
    },
    {
     "name": "stdout",
     "output_type": "stream",
     "text": [
      "An exception occurred\n"
     ]
    },
    {
     "name": "stderr",
     "output_type": "stream",
     "text": [
      "\r",
      "loss: 1.2933 ||:  48%|███████████████████████████████▎                                 | 38/79 [03:34<03:57,  5.80s/it]"
     ]
    },
    {
     "name": "stdout",
     "output_type": "stream",
     "text": [
      "An exception occurred\n"
     ]
    },
    {
     "name": "stderr",
     "output_type": "stream",
     "text": [
      "\r",
      "loss: 1.2921 ||:  49%|████████████████████████████████                                 | 39/79 [03:40<03:55,  5.90s/it]"
     ]
    },
    {
     "name": "stdout",
     "output_type": "stream",
     "text": [
      "An exception occurred\n"
     ]
    },
    {
     "name": "stderr",
     "output_type": "stream",
     "text": [
      "\r",
      "loss: 1.2912 ||:  51%|████████████████████████████████▉                                | 40/79 [03:46<03:53,  5.99s/it]"
     ]
    },
    {
     "name": "stdout",
     "output_type": "stream",
     "text": [
      "An exception occurred\n"
     ]
    },
    {
     "name": "stderr",
     "output_type": "stream",
     "text": [
      "\r",
      "loss: 1.2902 ||:  52%|█████████████████████████████████▋                               | 41/79 [03:53<03:49,  6.04s/it]"
     ]
    },
    {
     "name": "stdout",
     "output_type": "stream",
     "text": [
      "An exception occurred\n"
     ]
    },
    {
     "name": "stderr",
     "output_type": "stream",
     "text": [
      "\r",
      "loss: 1.2875 ||:  53%|██████████████████████████████████▌                              | 42/79 [03:58<03:33,  5.76s/it]"
     ]
    },
    {
     "name": "stdout",
     "output_type": "stream",
     "text": [
      "An exception occurred\n"
     ]
    },
    {
     "name": "stderr",
     "output_type": "stream",
     "text": [
      "\r",
      "loss: 1.2865 ||:  54%|███████████████████████████████████▍                             | 43/79 [04:03<03:18,  5.52s/it]"
     ]
    },
    {
     "name": "stdout",
     "output_type": "stream",
     "text": [
      "An exception occurred\n"
     ]
    },
    {
     "name": "stderr",
     "output_type": "stream",
     "text": [
      "\r",
      "loss: 1.2859 ||:  56%|████████████████████████████████████▏                            | 44/79 [04:08<03:15,  5.58s/it]"
     ]
    },
    {
     "name": "stdout",
     "output_type": "stream",
     "text": [
      "An exception occurred\n"
     ]
    },
    {
     "name": "stderr",
     "output_type": "stream",
     "text": [
      "\r",
      "loss: 1.2845 ||:  57%|█████████████████████████████████████                            | 45/79 [04:14<03:13,  5.69s/it]"
     ]
    },
    {
     "name": "stdout",
     "output_type": "stream",
     "text": [
      "An exception occurred\n"
     ]
    },
    {
     "name": "stderr",
     "output_type": "stream",
     "text": [
      "\r",
      "loss: 1.2834 ||:  58%|█████████████████████████████████████▊                           | 46/79 [04:20<03:06,  5.65s/it]"
     ]
    },
    {
     "name": "stdout",
     "output_type": "stream",
     "text": [
      "An exception occurred\n"
     ]
    },
    {
     "name": "stderr",
     "output_type": "stream",
     "text": [
      "\r",
      "loss: 1.2827 ||:  59%|██████████████████████████████████████▋                          | 47/79 [04:25<02:56,  5.52s/it]"
     ]
    },
    {
     "name": "stdout",
     "output_type": "stream",
     "text": [
      "An exception occurred\n"
     ]
    },
    {
     "name": "stderr",
     "output_type": "stream",
     "text": [
      "\r",
      "loss: 1.2825 ||:  61%|███████████████████████████████████████▍                         | 48/79 [04:30<02:43,  5.27s/it]"
     ]
    },
    {
     "name": "stdout",
     "output_type": "stream",
     "text": [
      "An exception occurred\n"
     ]
    },
    {
     "name": "stderr",
     "output_type": "stream",
     "text": [
      "\r",
      "loss: 1.2819 ||:  62%|████████████████████████████████████████▎                        | 49/79 [04:35<02:39,  5.30s/it]"
     ]
    },
    {
     "name": "stdout",
     "output_type": "stream",
     "text": [
      "An exception occurred\n"
     ]
    },
    {
     "name": "stderr",
     "output_type": "stream",
     "text": [
      "\r",
      "loss: 1.2816 ||:  63%|█████████████████████████████████████████▏                       | 50/79 [04:41<02:38,  5.47s/it]"
     ]
    },
    {
     "name": "stdout",
     "output_type": "stream",
     "text": [
      "An exception occurred\n"
     ]
    },
    {
     "name": "stderr",
     "output_type": "stream",
     "text": [
      "\r",
      "loss: 1.2808 ||:  65%|█████████████████████████████████████████▉                       | 51/79 [04:47<02:34,  5.52s/it]"
     ]
    },
    {
     "name": "stdout",
     "output_type": "stream",
     "text": [
      "An exception occurred\n"
     ]
    },
    {
     "name": "stderr",
     "output_type": "stream",
     "text": [
      "\r",
      "loss: 1.2807 ||:  66%|██████████████████████████████████████████▊                      | 52/79 [04:53<02:32,  5.66s/it]"
     ]
    },
    {
     "name": "stdout",
     "output_type": "stream",
     "text": [
      "An exception occurred\n"
     ]
    },
    {
     "name": "stderr",
     "output_type": "stream",
     "text": [
      "\r",
      "loss: 1.2791 ||:  67%|███████████████████████████████████████████▌                     | 53/79 [04:59<02:31,  5.83s/it]"
     ]
    },
    {
     "name": "stdout",
     "output_type": "stream",
     "text": [
      "An exception occurred\n"
     ]
    },
    {
     "name": "stderr",
     "output_type": "stream",
     "text": [
      "\r",
      "loss: 1.2787 ||:  68%|████████████████████████████████████████████▍                    | 54/79 [05:04<02:21,  5.66s/it]"
     ]
    },
    {
     "name": "stdout",
     "output_type": "stream",
     "text": [
      "An exception occurred\n"
     ]
    },
    {
     "name": "stderr",
     "output_type": "stream",
     "text": [
      "\r",
      "loss: 1.2785 ||:  70%|█████████████████████████████████████████████▎                   | 55/79 [05:10<02:16,  5.68s/it]"
     ]
    },
    {
     "name": "stdout",
     "output_type": "stream",
     "text": [
      "An exception occurred\n"
     ]
    },
    {
     "name": "stderr",
     "output_type": "stream",
     "text": [
      "\r",
      "loss: 1.2774 ||:  71%|██████████████████████████████████████████████                   | 56/79 [05:15<02:05,  5.47s/it]"
     ]
    },
    {
     "name": "stdout",
     "output_type": "stream",
     "text": [
      "An exception occurred\n"
     ]
    },
    {
     "name": "stderr",
     "output_type": "stream",
     "text": [
      "\r",
      "loss: 1.2757 ||:  72%|██████████████████████████████████████████████▉                  | 57/79 [05:20<01:58,  5.37s/it]"
     ]
    },
    {
     "name": "stdout",
     "output_type": "stream",
     "text": [
      "An exception occurred\n"
     ]
    },
    {
     "name": "stderr",
     "output_type": "stream",
     "text": [
      "\r",
      "loss: 1.2747 ||:  73%|███████████████████████████████████████████████▋                 | 58/79 [05:26<01:55,  5.52s/it]"
     ]
    },
    {
     "name": "stdout",
     "output_type": "stream",
     "text": [
      "An exception occurred\n"
     ]
    },
    {
     "name": "stderr",
     "output_type": "stream",
     "text": [
      "\r",
      "loss: 1.2743 ||:  75%|████████████████████████████████████████████████▌                | 59/79 [05:31<01:47,  5.40s/it]"
     ]
    },
    {
     "name": "stdout",
     "output_type": "stream",
     "text": [
      "An exception occurred\n"
     ]
    },
    {
     "name": "stderr",
     "output_type": "stream",
     "text": [
      "\r",
      "loss: 1.2737 ||:  76%|█████████████████████████████████████████████████▎               | 60/79 [05:37<01:46,  5.60s/it]"
     ]
    },
    {
     "name": "stdout",
     "output_type": "stream",
     "text": [
      "An exception occurred\n"
     ]
    },
    {
     "name": "stderr",
     "output_type": "stream",
     "text": [
      "\r",
      "loss: 1.2727 ||:  77%|██████████████████████████████████████████████████▏              | 61/79 [05:43<01:41,  5.64s/it]"
     ]
    },
    {
     "name": "stdout",
     "output_type": "stream",
     "text": [
      "An exception occurred\n"
     ]
    },
    {
     "name": "stderr",
     "output_type": "stream",
     "text": [
      "\r",
      "loss: 1.2715 ||:  78%|███████████████████████████████████████████████████              | 62/79 [05:49<01:36,  5.69s/it]"
     ]
    },
    {
     "name": "stdout",
     "output_type": "stream",
     "text": [
      "An exception occurred\n"
     ]
    },
    {
     "name": "stderr",
     "output_type": "stream",
     "text": [
      "\r",
      "loss: 1.2707 ||:  80%|███████████████████████████████████████████████████▊             | 63/79 [05:54<01:31,  5.74s/it]"
     ]
    },
    {
     "name": "stdout",
     "output_type": "stream",
     "text": [
      "An exception occurred\n"
     ]
    },
    {
     "name": "stderr",
     "output_type": "stream",
     "text": [
      "\r",
      "loss: 1.2704 ||:  81%|████████████████████████████████████████████████████▋            | 64/79 [05:59<01:22,  5.50s/it]"
     ]
    },
    {
     "name": "stdout",
     "output_type": "stream",
     "text": [
      "An exception occurred\n"
     ]
    },
    {
     "name": "stderr",
     "output_type": "stream",
     "text": [
      "\r",
      "loss: 1.2694 ||:  82%|█████████████████████████████████████████████████████▍           | 65/79 [06:05<01:16,  5.49s/it]"
     ]
    },
    {
     "name": "stdout",
     "output_type": "stream",
     "text": [
      "An exception occurred\n"
     ]
    },
    {
     "name": "stderr",
     "output_type": "stream",
     "text": [
      "\r",
      "loss: 1.2691 ||:  84%|██████████████████████████████████████████████████████▎          | 66/79 [06:10<01:11,  5.48s/it]"
     ]
    },
    {
     "name": "stdout",
     "output_type": "stream",
     "text": [
      "An exception occurred\n"
     ]
    },
    {
     "name": "stderr",
     "output_type": "stream",
     "text": [
      "\r",
      "loss: 1.2687 ||:  85%|███████████████████████████████████████████████████████▏         | 67/79 [06:16<01:07,  5.66s/it]"
     ]
    },
    {
     "name": "stdout",
     "output_type": "stream",
     "text": [
      "An exception occurred\n"
     ]
    },
    {
     "name": "stderr",
     "output_type": "stream",
     "text": [
      "\r",
      "loss: 1.2680 ||:  86%|███████████████████████████████████████████████████████▉         | 68/79 [06:22<01:03,  5.74s/it]"
     ]
    },
    {
     "name": "stdout",
     "output_type": "stream",
     "text": [
      "An exception occurred\n"
     ]
    },
    {
     "name": "stderr",
     "output_type": "stream",
     "text": [
      "\r",
      "loss: 1.2680 ||:  87%|████████████████████████████████████████████████████████▊        | 69/79 [06:28<00:57,  5.77s/it]"
     ]
    },
    {
     "name": "stdout",
     "output_type": "stream",
     "text": [
      "An exception occurred\n"
     ]
    },
    {
     "name": "stderr",
     "output_type": "stream",
     "text": [
      "\r",
      "loss: 1.2672 ||:  89%|█████████████████████████████████████████████████████████▌       | 70/79 [06:34<00:51,  5.77s/it]"
     ]
    },
    {
     "name": "stdout",
     "output_type": "stream",
     "text": [
      "An exception occurred\n"
     ]
    },
    {
     "name": "stderr",
     "output_type": "stream",
     "text": [
      "\r",
      "loss: 1.2664 ||:  90%|██████████████████████████████████████████████████████████▍      | 71/79 [06:39<00:45,  5.64s/it]"
     ]
    },
    {
     "name": "stdout",
     "output_type": "stream",
     "text": [
      "An exception occurred\n"
     ]
    },
    {
     "name": "stderr",
     "output_type": "stream",
     "text": [
      "\r",
      "loss: 1.2660 ||:  91%|███████████████████████████████████████████████████████████▏     | 72/79 [06:44<00:38,  5.51s/it]"
     ]
    },
    {
     "name": "stdout",
     "output_type": "stream",
     "text": [
      "An exception occurred\n"
     ]
    },
    {
     "name": "stderr",
     "output_type": "stream",
     "text": [
      "\r",
      "loss: 1.2654 ||:  92%|████████████████████████████████████████████████████████████     | 73/79 [06:50<00:33,  5.52s/it]"
     ]
    },
    {
     "name": "stdout",
     "output_type": "stream",
     "text": [
      "An exception occurred\n"
     ]
    },
    {
     "name": "stderr",
     "output_type": "stream",
     "text": [
      "\r",
      "loss: 1.2640 ||:  94%|████████████████████████████████████████████████████████████▉    | 74/79 [06:56<00:27,  5.60s/it]"
     ]
    },
    {
     "name": "stdout",
     "output_type": "stream",
     "text": [
      "An exception occurred\n"
     ]
    },
    {
     "name": "stderr",
     "output_type": "stream",
     "text": [
      "\r",
      "loss: 1.2635 ||:  95%|█████████████████████████████████████████████████████████████▋   | 75/79 [07:01<00:22,  5.61s/it]"
     ]
    },
    {
     "name": "stdout",
     "output_type": "stream",
     "text": [
      "An exception occurred\n"
     ]
    },
    {
     "name": "stderr",
     "output_type": "stream",
     "text": [
      "\r",
      "loss: 1.2635 ||:  96%|██████████████████████████████████████████████████████████████▌  | 76/79 [07:07<00:16,  5.64s/it]"
     ]
    },
    {
     "name": "stdout",
     "output_type": "stream",
     "text": [
      "An exception occurred\n"
     ]
    },
    {
     "name": "stderr",
     "output_type": "stream",
     "text": [
      "\r",
      "loss: 1.2632 ||:  97%|███████████████████████████████████████████████████████████████▎ | 77/79 [07:12<00:10,  5.41s/it]"
     ]
    },
    {
     "name": "stdout",
     "output_type": "stream",
     "text": [
      "An exception occurred\n"
     ]
    },
    {
     "name": "stderr",
     "output_type": "stream",
     "text": [
      "\r",
      "loss: 1.2626 ||:  99%|████████████████████████████████████████████████████████████████▏| 78/79 [07:18<00:05,  5.56s/it]"
     ]
    },
    {
     "name": "stdout",
     "output_type": "stream",
     "text": [
      "An exception occurred\n"
     ]
    },
    {
     "name": "stderr",
     "output_type": "stream",
     "text": [
      "loss: 1.2606 ||: 100%|█████████████████████████████████████████████████████████████████| 79/79 [07:19<00:00,  5.56s/it]\n",
      "  0%|                                                                                           | 0/79 [00:00<?, ?it/s]"
     ]
    },
    {
     "name": "stdout",
     "output_type": "stream",
     "text": [
      "An exception occurred\n"
     ]
    },
    {
     "name": "stderr",
     "output_type": "stream",
     "text": [
      "\r",
      "loss: 1.1963 ||:   1%|▊                                                                 | 1/79 [00:05<06:52,  5.28s/it]"
     ]
    },
    {
     "name": "stdout",
     "output_type": "stream",
     "text": [
      "An exception occurred\n"
     ]
    },
    {
     "name": "stderr",
     "output_type": "stream",
     "text": [
      "\r",
      "loss: 1.1888 ||:   3%|█▋                                                                | 2/79 [00:11<07:13,  5.63s/it]"
     ]
    },
    {
     "name": "stdout",
     "output_type": "stream",
     "text": [
      "An exception occurred\n"
     ]
    },
    {
     "name": "stderr",
     "output_type": "stream",
     "text": [
      "\r",
      "loss: 1.1870 ||:   4%|██▌                                                               | 3/79 [00:18<07:23,  5.84s/it]"
     ]
    },
    {
     "name": "stdout",
     "output_type": "stream",
     "text": [
      "An exception occurred\n"
     ]
    },
    {
     "name": "stderr",
     "output_type": "stream",
     "text": [
      "\r",
      "loss: 1.2000 ||:   5%|███▎                                                              | 4/79 [00:23<07:09,  5.73s/it]"
     ]
    },
    {
     "name": "stdout",
     "output_type": "stream",
     "text": [
      "An exception occurred\n"
     ]
    },
    {
     "name": "stderr",
     "output_type": "stream",
     "text": [
      "\r",
      "loss: 1.1993 ||:   6%|████▏                                                             | 5/79 [00:29<07:03,  5.73s/it]"
     ]
    },
    {
     "name": "stdout",
     "output_type": "stream",
     "text": [
      "An exception occurred\n"
     ]
    },
    {
     "name": "stderr",
     "output_type": "stream",
     "text": [
      "\r",
      "loss: 1.2077 ||:   8%|█████                                                             | 6/79 [00:35<07:00,  5.77s/it]"
     ]
    },
    {
     "name": "stdout",
     "output_type": "stream",
     "text": [
      "An exception occurred\n"
     ]
    },
    {
     "name": "stderr",
     "output_type": "stream",
     "text": [
      "\r",
      "loss: 1.2022 ||:   9%|█████▊                                                            | 7/79 [00:40<06:44,  5.62s/it]"
     ]
    },
    {
     "name": "stdout",
     "output_type": "stream",
     "text": [
      "An exception occurred\n"
     ]
    },
    {
     "name": "stderr",
     "output_type": "stream",
     "text": [
      "loss: 1.1988 ||:  11%|███████▌                                                          | 9/79 [00:52<06:41,  5.73s/it]"
     ]
    },
    {
     "name": "stdout",
     "output_type": "stream",
     "text": [
      "An exception occurred\n"
     ]
    },
    {
     "name": "stderr",
     "output_type": "stream",
     "text": [
      "\r",
      "loss: 1.2063 ||:  13%|████████▏                                                        | 10/79 [00:58<06:41,  5.82s/it]"
     ]
    },
    {
     "name": "stdout",
     "output_type": "stream",
     "text": [
      "An exception occurred\n"
     ]
    },
    {
     "name": "stderr",
     "output_type": "stream",
     "text": [
      "\r",
      "loss: 1.2066 ||:  14%|█████████                                                        | 11/79 [01:03<06:25,  5.66s/it]"
     ]
    },
    {
     "name": "stdout",
     "output_type": "stream",
     "text": [
      "An exception occurred\n"
     ]
    },
    {
     "name": "stderr",
     "output_type": "stream",
     "text": [
      "\r",
      "loss: 1.2036 ||:  15%|█████████▊                                                       | 12/79 [01:08<06:10,  5.53s/it]"
     ]
    },
    {
     "name": "stdout",
     "output_type": "stream",
     "text": [
      "An exception occurred\n"
     ]
    },
    {
     "name": "stderr",
     "output_type": "stream",
     "text": [
      "\r",
      "loss: 1.2042 ||:  16%|██████████▋                                                      | 13/79 [01:14<06:05,  5.54s/it]"
     ]
    },
    {
     "name": "stdout",
     "output_type": "stream",
     "text": [
      "An exception occurred\n"
     ]
    },
    {
     "name": "stderr",
     "output_type": "stream",
     "text": [
      "\r",
      "loss: 1.2011 ||:  18%|███████████▌                                                     | 14/79 [01:19<06:03,  5.60s/it]"
     ]
    },
    {
     "name": "stdout",
     "output_type": "stream",
     "text": [
      "An exception occurred\n"
     ]
    },
    {
     "name": "stderr",
     "output_type": "stream",
     "text": [
      "\r",
      "loss: 1.1988 ||:  19%|████████████▎                                                    | 15/79 [01:25<05:55,  5.55s/it]"
     ]
    },
    {
     "name": "stdout",
     "output_type": "stream",
     "text": [
      "An exception occurred\n"
     ]
    },
    {
     "name": "stderr",
     "output_type": "stream",
     "text": [
      "\r",
      "loss: 1.1983 ||:  20%|█████████████▏                                                   | 16/79 [01:31<05:52,  5.60s/it]"
     ]
    },
    {
     "name": "stdout",
     "output_type": "stream",
     "text": [
      "An exception occurred\n"
     ]
    },
    {
     "name": "stderr",
     "output_type": "stream",
     "text": [
      "\r",
      "loss: 1.1961 ||:  22%|█████████████▉                                                   | 17/79 [01:36<05:46,  5.59s/it]"
     ]
    },
    {
     "name": "stdout",
     "output_type": "stream",
     "text": [
      "An exception occurred\n"
     ]
    },
    {
     "name": "stderr",
     "output_type": "stream",
     "text": [
      "\r",
      "loss: 1.1933 ||:  23%|██████████████▊                                                  | 18/79 [01:41<05:31,  5.44s/it]"
     ]
    },
    {
     "name": "stdout",
     "output_type": "stream",
     "text": [
      "An exception occurred\n"
     ]
    },
    {
     "name": "stderr",
     "output_type": "stream",
     "text": [
      "\r",
      "loss: 1.1953 ||:  24%|███████████████▋                                                 | 19/79 [01:48<05:42,  5.72s/it]"
     ]
    },
    {
     "name": "stdout",
     "output_type": "stream",
     "text": [
      "An exception occurred\n"
     ]
    },
    {
     "name": "stderr",
     "output_type": "stream",
     "text": [
      "\r",
      "loss: 1.1961 ||:  25%|████████████████▍                                                | 20/79 [01:54<05:50,  5.94s/it]"
     ]
    },
    {
     "name": "stdout",
     "output_type": "stream",
     "text": [
      "An exception occurred\n"
     ]
    },
    {
     "name": "stderr",
     "output_type": "stream",
     "text": [
      "\r",
      "loss: 1.1934 ||:  27%|█████████████████▎                                               | 21/79 [02:00<05:37,  5.82s/it]"
     ]
    },
    {
     "name": "stdout",
     "output_type": "stream",
     "text": [
      "An exception occurred\n"
     ]
    },
    {
     "name": "stderr",
     "output_type": "stream",
     "text": [
      "\r",
      "loss: 1.1920 ||:  28%|██████████████████                                               | 22/79 [02:06<05:33,  5.85s/it]"
     ]
    },
    {
     "name": "stdout",
     "output_type": "stream",
     "text": [
      "An exception occurred\n"
     ]
    },
    {
     "name": "stderr",
     "output_type": "stream",
     "text": [
      "\r",
      "loss: 1.1910 ||:  29%|██████████████████▉                                              | 23/79 [02:11<05:24,  5.80s/it]"
     ]
    },
    {
     "name": "stdout",
     "output_type": "stream",
     "text": [
      "An exception occurred\n"
     ]
    },
    {
     "name": "stderr",
     "output_type": "stream",
     "text": [
      "\r",
      "loss: 1.1886 ||:  30%|███████████████████▋                                             | 24/79 [02:16<05:05,  5.55s/it]"
     ]
    },
    {
     "name": "stdout",
     "output_type": "stream",
     "text": [
      "An exception occurred\n"
     ]
    },
    {
     "name": "stderr",
     "output_type": "stream",
     "text": [
      "\r",
      "loss: 1.1878 ||:  32%|████████████████████▌                                            | 25/79 [02:22<05:02,  5.60s/it]"
     ]
    },
    {
     "name": "stdout",
     "output_type": "stream",
     "text": [
      "An exception occurred\n"
     ]
    },
    {
     "name": "stderr",
     "output_type": "stream",
     "text": [
      "\r",
      "loss: 1.1894 ||:  33%|█████████████████████▍                                           | 26/79 [02:28<04:59,  5.65s/it]"
     ]
    },
    {
     "name": "stdout",
     "output_type": "stream",
     "text": [
      "An exception occurred\n"
     ]
    },
    {
     "name": "stderr",
     "output_type": "stream",
     "text": [
      "\r",
      "loss: 1.1894 ||:  34%|██████████████████████▏                                          | 27/79 [02:34<04:57,  5.71s/it]"
     ]
    },
    {
     "name": "stdout",
     "output_type": "stream",
     "text": [
      "An exception occurred\n"
     ]
    },
    {
     "name": "stderr",
     "output_type": "stream",
     "text": [
      "\r",
      "loss: 1.1879 ||:  35%|███████████████████████                                          | 28/79 [02:39<04:53,  5.75s/it]"
     ]
    },
    {
     "name": "stdout",
     "output_type": "stream",
     "text": [
      "An exception occurred\n"
     ]
    },
    {
     "name": "stderr",
     "output_type": "stream",
     "text": [
      "\r",
      "loss: 1.1884 ||:  37%|███████████████████████▊                                         | 29/79 [02:46<04:53,  5.87s/it]"
     ]
    },
    {
     "name": "stdout",
     "output_type": "stream",
     "text": [
      "An exception occurred\n"
     ]
    },
    {
     "name": "stderr",
     "output_type": "stream",
     "text": [
      "\r",
      "loss: 1.1897 ||:  38%|████████████████████████▋                                        | 30/79 [02:51<04:45,  5.83s/it]"
     ]
    },
    {
     "name": "stdout",
     "output_type": "stream",
     "text": [
      "An exception occurred\n"
     ]
    },
    {
     "name": "stderr",
     "output_type": "stream",
     "text": [
      "\r",
      "loss: 1.1903 ||:  39%|█████████████████████████▌                                       | 31/79 [02:57<04:33,  5.71s/it]"
     ]
    },
    {
     "name": "stdout",
     "output_type": "stream",
     "text": [
      "An exception occurred\n"
     ]
    },
    {
     "name": "stderr",
     "output_type": "stream",
     "text": [
      "\r",
      "loss: 1.1903 ||:  41%|██████████████████████████▎                                      | 32/79 [03:02<04:24,  5.62s/it]"
     ]
    },
    {
     "name": "stdout",
     "output_type": "stream",
     "text": [
      "An exception occurred\n"
     ]
    },
    {
     "name": "stderr",
     "output_type": "stream",
     "text": [
      "\r",
      "loss: 1.1902 ||:  42%|███████████████████████████▏                                     | 33/79 [03:07<04:07,  5.37s/it]"
     ]
    },
    {
     "name": "stdout",
     "output_type": "stream",
     "text": [
      "An exception occurred\n"
     ]
    },
    {
     "name": "stderr",
     "output_type": "stream",
     "text": [
      "\r",
      "loss: 1.1899 ||:  43%|███████████████████████████▉                                     | 34/79 [03:13<04:06,  5.48s/it]"
     ]
    },
    {
     "name": "stdout",
     "output_type": "stream",
     "text": [
      "An exception occurred\n"
     ]
    },
    {
     "name": "stderr",
     "output_type": "stream",
     "text": [
      "\r",
      "loss: 1.1897 ||:  44%|████████████████████████████▊                                    | 35/79 [03:18<04:00,  5.47s/it]"
     ]
    },
    {
     "name": "stdout",
     "output_type": "stream",
     "text": [
      "An exception occurred\n"
     ]
    },
    {
     "name": "stderr",
     "output_type": "stream",
     "text": [
      "\r",
      "loss: 1.1894 ||:  46%|█████████████████████████████▌                                   | 36/79 [03:23<03:49,  5.33s/it]"
     ]
    },
    {
     "name": "stdout",
     "output_type": "stream",
     "text": [
      "An exception occurred\n"
     ]
    },
    {
     "name": "stderr",
     "output_type": "stream",
     "text": [
      "\r",
      "loss: 1.1887 ||:  47%|██████████████████████████████▍                                  | 37/79 [03:28<03:43,  5.33s/it]"
     ]
    },
    {
     "name": "stdout",
     "output_type": "stream",
     "text": [
      "An exception occurred\n"
     ]
    },
    {
     "name": "stderr",
     "output_type": "stream",
     "text": [
      "\r",
      "loss: 1.1902 ||:  48%|███████████████████████████████▎                                 | 38/79 [03:35<03:50,  5.63s/it]"
     ]
    },
    {
     "name": "stdout",
     "output_type": "stream",
     "text": [
      "An exception occurred\n"
     ]
    },
    {
     "name": "stderr",
     "output_type": "stream",
     "text": [
      "\r",
      "loss: 1.1899 ||:  49%|████████████████████████████████                                 | 39/79 [03:41<03:51,  5.78s/it]"
     ]
    },
    {
     "name": "stdout",
     "output_type": "stream",
     "text": [
      "An exception occurred\n"
     ]
    },
    {
     "name": "stderr",
     "output_type": "stream",
     "text": [
      "\r",
      "loss: 1.1894 ||:  51%|████████████████████████████████▉                                | 40/79 [03:47<03:49,  5.88s/it]"
     ]
    },
    {
     "name": "stdout",
     "output_type": "stream",
     "text": [
      "An exception occurred\n"
     ]
    },
    {
     "name": "stderr",
     "output_type": "stream",
     "text": [
      "\r",
      "loss: 1.1901 ||:  52%|█████████████████████████████████▋                               | 41/79 [03:53<03:44,  5.91s/it]"
     ]
    },
    {
     "name": "stdout",
     "output_type": "stream",
     "text": [
      "An exception occurred\n"
     ]
    },
    {
     "name": "stderr",
     "output_type": "stream",
     "text": [
      "\r",
      "loss: 1.1901 ||:  53%|██████████████████████████████████▌                              | 42/79 [03:57<03:17,  5.33s/it]"
     ]
    },
    {
     "name": "stdout",
     "output_type": "stream",
     "text": [
      "An exception occurred\n"
     ]
    },
    {
     "name": "stderr",
     "output_type": "stream",
     "text": [
      "\r",
      "loss: 1.1897 ||:  54%|███████████████████████████████████▍                             | 43/79 [04:02<03:13,  5.38s/it]"
     ]
    },
    {
     "name": "stdout",
     "output_type": "stream",
     "text": [
      "An exception occurred\n"
     ]
    },
    {
     "name": "stderr",
     "output_type": "stream",
     "text": [
      "\r",
      "loss: 1.1891 ||:  56%|████████████████████████████████████▏                            | 44/79 [04:09<03:16,  5.62s/it]"
     ]
    },
    {
     "name": "stdout",
     "output_type": "stream",
     "text": [
      "An exception occurred\n"
     ]
    },
    {
     "name": "stderr",
     "output_type": "stream",
     "text": [
      "\r",
      "loss: 1.1890 ||:  57%|█████████████████████████████████████                            | 45/79 [04:14<03:06,  5.48s/it]"
     ]
    },
    {
     "name": "stdout",
     "output_type": "stream",
     "text": [
      "An exception occurred\n"
     ]
    },
    {
     "name": "stderr",
     "output_type": "stream",
     "text": [
      "\r",
      "loss: 1.1882 ||:  58%|█████████████████████████████████████▊                           | 46/79 [04:19<03:02,  5.52s/it]"
     ]
    },
    {
     "name": "stdout",
     "output_type": "stream",
     "text": [
      "An exception occurred\n"
     ]
    },
    {
     "name": "stderr",
     "output_type": "stream",
     "text": [
      "\r",
      "loss: 1.1885 ||:  59%|██████████████████████████████████████▋                          | 47/79 [04:25<02:56,  5.52s/it]"
     ]
    },
    {
     "name": "stdout",
     "output_type": "stream",
     "text": [
      "An exception occurred\n"
     ]
    },
    {
     "name": "stderr",
     "output_type": "stream",
     "text": [
      "\r",
      "loss: 1.1882 ||:  61%|███████████████████████████████████████▍                         | 48/79 [04:31<02:54,  5.61s/it]"
     ]
    },
    {
     "name": "stdout",
     "output_type": "stream",
     "text": [
      "An exception occurred\n"
     ]
    },
    {
     "name": "stderr",
     "output_type": "stream",
     "text": [
      "\r",
      "loss: 1.1880 ||:  62%|████████████████████████████████████████▎                        | 49/79 [04:37<02:52,  5.76s/it]"
     ]
    },
    {
     "name": "stdout",
     "output_type": "stream",
     "text": [
      "An exception occurred\n"
     ]
    },
    {
     "name": "stderr",
     "output_type": "stream",
     "text": [
      "\r",
      "loss: 1.1883 ||:  63%|█████████████████████████████████████████▏                       | 50/79 [04:42<02:44,  5.68s/it]"
     ]
    },
    {
     "name": "stdout",
     "output_type": "stream",
     "text": [
      "An exception occurred\n"
     ]
    },
    {
     "name": "stderr",
     "output_type": "stream",
     "text": [
      "\r",
      "loss: 1.1875 ||:  65%|█████████████████████████████████████████▉                       | 51/79 [04:48<02:41,  5.76s/it]"
     ]
    },
    {
     "name": "stdout",
     "output_type": "stream",
     "text": [
      "An exception occurred\n"
     ]
    },
    {
     "name": "stderr",
     "output_type": "stream",
     "text": [
      "\r",
      "loss: 1.1869 ||:  66%|██████████████████████████████████████████▊                      | 52/79 [04:54<02:31,  5.63s/it]"
     ]
    },
    {
     "name": "stdout",
     "output_type": "stream",
     "text": [
      "An exception occurred\n"
     ]
    },
    {
     "name": "stderr",
     "output_type": "stream",
     "text": [
      "\r",
      "loss: 1.1877 ||:  67%|███████████████████████████████████████████▌                     | 53/79 [04:59<02:25,  5.58s/it]"
     ]
    },
    {
     "name": "stdout",
     "output_type": "stream",
     "text": [
      "An exception occurred\n"
     ]
    },
    {
     "name": "stderr",
     "output_type": "stream",
     "text": [
      "\r",
      "loss: 1.1876 ||:  68%|████████████████████████████████████████████▍                    | 54/79 [05:05<02:24,  5.78s/it]"
     ]
    },
    {
     "name": "stdout",
     "output_type": "stream",
     "text": [
      "An exception occurred\n"
     ]
    },
    {
     "name": "stderr",
     "output_type": "stream",
     "text": [
      "\r",
      "loss: 1.1871 ||:  70%|█████████████████████████████████████████████▎                   | 55/79 [05:11<02:21,  5.90s/it]"
     ]
    },
    {
     "name": "stdout",
     "output_type": "stream",
     "text": [
      "An exception occurred\n"
     ]
    },
    {
     "name": "stderr",
     "output_type": "stream",
     "text": [
      "\r",
      "loss: 1.1864 ||:  71%|██████████████████████████████████████████████                   | 56/79 [05:17<02:13,  5.81s/it]"
     ]
    },
    {
     "name": "stdout",
     "output_type": "stream",
     "text": [
      "An exception occurred\n"
     ]
    },
    {
     "name": "stderr",
     "output_type": "stream",
     "text": [
      "\r",
      "loss: 1.1864 ||:  72%|██████████████████████████████████████████████▉                  | 57/79 [05:22<02:01,  5.52s/it]"
     ]
    },
    {
     "name": "stdout",
     "output_type": "stream",
     "text": [
      "An exception occurred\n"
     ]
    },
    {
     "name": "stderr",
     "output_type": "stream",
     "text": [
      "\r",
      "loss: 1.1860 ||:  73%|███████████████████████████████████████████████▋                 | 58/79 [05:27<01:50,  5.26s/it]"
     ]
    },
    {
     "name": "stdout",
     "output_type": "stream",
     "text": [
      "An exception occurred\n"
     ]
    },
    {
     "name": "stderr",
     "output_type": "stream",
     "text": [
      "\r",
      "loss: 1.1850 ||:  75%|████████████████████████████████████████████████▌                | 59/79 [05:32<01:45,  5.27s/it]"
     ]
    },
    {
     "name": "stdout",
     "output_type": "stream",
     "text": [
      "An exception occurred\n"
     ]
    },
    {
     "name": "stderr",
     "output_type": "stream",
     "text": [
      "\r",
      "loss: 1.1847 ||:  76%|█████████████████████████████████████████████████▎               | 60/79 [05:37<01:39,  5.23s/it]"
     ]
    },
    {
     "name": "stdout",
     "output_type": "stream",
     "text": [
      "An exception occurred\n"
     ]
    },
    {
     "name": "stderr",
     "output_type": "stream",
     "text": [
      "\r",
      "loss: 1.1847 ||:  77%|██████████████████████████████████████████████████▏              | 61/79 [05:43<01:38,  5.47s/it]"
     ]
    },
    {
     "name": "stdout",
     "output_type": "stream",
     "text": [
      "An exception occurred\n"
     ]
    },
    {
     "name": "stderr",
     "output_type": "stream",
     "text": [
      "\r",
      "loss: 1.1847 ||:  78%|███████████████████████████████████████████████████              | 62/79 [05:49<01:34,  5.55s/it]"
     ]
    },
    {
     "name": "stdout",
     "output_type": "stream",
     "text": [
      "An exception occurred\n"
     ]
    },
    {
     "name": "stderr",
     "output_type": "stream",
     "text": [
      "\r",
      "loss: 1.1843 ||:  80%|███████████████████████████████████████████████████▊             | 63/79 [05:54<01:26,  5.41s/it]"
     ]
    },
    {
     "name": "stdout",
     "output_type": "stream",
     "text": [
      "An exception occurred\n"
     ]
    },
    {
     "name": "stderr",
     "output_type": "stream",
     "text": [
      "\r",
      "loss: 1.1839 ||:  81%|████████████████████████████████████████████████████▋            | 64/79 [06:00<01:24,  5.63s/it]"
     ]
    },
    {
     "name": "stdout",
     "output_type": "stream",
     "text": [
      "An exception occurred\n"
     ]
    },
    {
     "name": "stderr",
     "output_type": "stream",
     "text": [
      "\r",
      "loss: 1.1840 ||:  82%|█████████████████████████████████████████████████████▍           | 65/79 [06:06<01:19,  5.69s/it]"
     ]
    },
    {
     "name": "stdout",
     "output_type": "stream",
     "text": [
      "An exception occurred\n"
     ]
    },
    {
     "name": "stderr",
     "output_type": "stream",
     "text": [
      "\r",
      "loss: 1.1836 ||:  84%|██████████████████████████████████████████████████████▎          | 66/79 [06:11<01:10,  5.40s/it]"
     ]
    },
    {
     "name": "stdout",
     "output_type": "stream",
     "text": [
      "An exception occurred\n"
     ]
    },
    {
     "name": "stderr",
     "output_type": "stream",
     "text": [
      "\r",
      "loss: 1.1829 ||:  85%|███████████████████████████████████████████████████████▏         | 67/79 [06:15<01:00,  5.04s/it]"
     ]
    },
    {
     "name": "stdout",
     "output_type": "stream",
     "text": [
      "An exception occurred\n"
     ]
    },
    {
     "name": "stderr",
     "output_type": "stream",
     "text": [
      "\r",
      "loss: 1.1824 ||:  86%|███████████████████████████████████████████████████████▉         | 68/79 [06:19<00:54,  4.92s/it]"
     ]
    },
    {
     "name": "stdout",
     "output_type": "stream",
     "text": [
      "An exception occurred\n"
     ]
    },
    {
     "name": "stderr",
     "output_type": "stream",
     "text": [
      "\r",
      "loss: 1.1820 ||:  87%|████████████████████████████████████████████████████████▊        | 69/79 [06:25<00:50,  5.04s/it]"
     ]
    },
    {
     "name": "stdout",
     "output_type": "stream",
     "text": [
      "An exception occurred\n"
     ]
    },
    {
     "name": "stderr",
     "output_type": "stream",
     "text": [
      "\r",
      "loss: 1.1823 ||:  89%|█████████████████████████████████████████████████████████▌       | 70/79 [06:30<00:45,  5.11s/it]"
     ]
    },
    {
     "name": "stdout",
     "output_type": "stream",
     "text": [
      "An exception occurred\n"
     ]
    },
    {
     "name": "stderr",
     "output_type": "stream",
     "text": [
      "\r",
      "loss: 1.1820 ||:  90%|██████████████████████████████████████████████████████████▍      | 71/79 [06:36<00:42,  5.31s/it]"
     ]
    },
    {
     "name": "stdout",
     "output_type": "stream",
     "text": [
      "An exception occurred\n"
     ]
    },
    {
     "name": "stderr",
     "output_type": "stream",
     "text": [
      "\r",
      "loss: 1.1814 ||:  91%|███████████████████████████████████████████████████████████▏     | 72/79 [06:42<00:38,  5.44s/it]"
     ]
    },
    {
     "name": "stdout",
     "output_type": "stream",
     "text": [
      "An exception occurred\n"
     ]
    },
    {
     "name": "stderr",
     "output_type": "stream",
     "text": [
      "\r",
      "loss: 1.1813 ||:  92%|████████████████████████████████████████████████████████████     | 73/79 [06:48<00:34,  5.74s/it]"
     ]
    },
    {
     "name": "stdout",
     "output_type": "stream",
     "text": [
      "An exception occurred\n"
     ]
    },
    {
     "name": "stderr",
     "output_type": "stream",
     "text": [
      "\r",
      "loss: 1.1812 ||:  94%|████████████████████████████████████████████████████████████▉    | 74/79 [06:54<00:28,  5.70s/it]"
     ]
    },
    {
     "name": "stdout",
     "output_type": "stream",
     "text": [
      "An exception occurred\n"
     ]
    },
    {
     "name": "stderr",
     "output_type": "stream",
     "text": [
      "\r",
      "loss: 1.1810 ||:  95%|█████████████████████████████████████████████████████████████▋   | 75/79 [06:58<00:21,  5.46s/it]"
     ]
    },
    {
     "name": "stdout",
     "output_type": "stream",
     "text": [
      "An exception occurred\n"
     ]
    },
    {
     "name": "stderr",
     "output_type": "stream",
     "text": [
      "\r",
      "loss: 1.1804 ||:  96%|██████████████████████████████████████████████████████████████▌  | 76/79 [07:04<00:16,  5.58s/it]"
     ]
    },
    {
     "name": "stdout",
     "output_type": "stream",
     "text": [
      "An exception occurred\n"
     ]
    },
    {
     "name": "stderr",
     "output_type": "stream",
     "text": [
      "\r",
      "loss: 1.1802 ||:  97%|███████████████████████████████████████████████████████████████▎ | 77/79 [07:10<00:11,  5.53s/it]"
     ]
    },
    {
     "name": "stdout",
     "output_type": "stream",
     "text": [
      "An exception occurred\n"
     ]
    },
    {
     "name": "stderr",
     "output_type": "stream",
     "text": [
      "\r",
      "loss: 1.1798 ||:  99%|████████████████████████████████████████████████████████████████▏| 78/79 [07:15<00:05,  5.60s/it]"
     ]
    },
    {
     "name": "stdout",
     "output_type": "stream",
     "text": [
      "An exception occurred\n"
     ]
    },
    {
     "name": "stderr",
     "output_type": "stream",
     "text": [
      "loss: 1.1786 ||: 100%|█████████████████████████████████████████████████████████████████| 79/79 [07:17<00:00,  5.53s/it]\n",
      "  0%|                                                                                           | 0/79 [00:00<?, ?it/s]"
     ]
    },
    {
     "name": "stdout",
     "output_type": "stream",
     "text": [
      "An exception occurred\n"
     ]
    },
    {
     "name": "stderr",
     "output_type": "stream",
     "text": [
      "\r",
      "loss: 1.1336 ||:   1%|▊                                                                 | 1/79 [00:05<07:30,  5.77s/it]"
     ]
    },
    {
     "name": "stdout",
     "output_type": "stream",
     "text": [
      "An exception occurred\n"
     ]
    },
    {
     "name": "stderr",
     "output_type": "stream",
     "text": [
      "\r",
      "loss: 1.1145 ||:   3%|█▋                                                                | 2/79 [00:11<07:23,  5.75s/it]"
     ]
    },
    {
     "name": "stdout",
     "output_type": "stream",
     "text": [
      "An exception occurred\n"
     ]
    },
    {
     "name": "stderr",
     "output_type": "stream",
     "text": [
      "\r",
      "loss: 1.1159 ||:   4%|██▌                                                               | 3/79 [00:17<07:23,  5.83s/it]"
     ]
    },
    {
     "name": "stdout",
     "output_type": "stream",
     "text": [
      "An exception occurred\n"
     ]
    },
    {
     "name": "stderr",
     "output_type": "stream",
     "text": [
      "\r",
      "loss: 1.1253 ||:   5%|███▎                                                              | 4/79 [00:22<06:58,  5.58s/it]"
     ]
    },
    {
     "name": "stdout",
     "output_type": "stream",
     "text": [
      "An exception occurred\n"
     ]
    },
    {
     "name": "stderr",
     "output_type": "stream",
     "text": [
      "\r",
      "loss: 1.1330 ||:   6%|████▏                                                             | 5/79 [00:28<07:01,  5.70s/it]"
     ]
    },
    {
     "name": "stdout",
     "output_type": "stream",
     "text": [
      "An exception occurred\n"
     ]
    },
    {
     "name": "stderr",
     "output_type": "stream",
     "text": [
      "\r",
      "loss: 1.1274 ||:   8%|█████                                                             | 6/79 [00:33<06:51,  5.64s/it]"
     ]
    },
    {
     "name": "stdout",
     "output_type": "stream",
     "text": [
      "An exception occurred\n"
     ]
    },
    {
     "name": "stderr",
     "output_type": "stream",
     "text": [
      "\r",
      "loss: 1.1256 ||:   9%|█████▊                                                            | 7/79 [00:39<06:50,  5.71s/it]"
     ]
    },
    {
     "name": "stdout",
     "output_type": "stream",
     "text": [
      "An exception occurred\n"
     ]
    },
    {
     "name": "stderr",
     "output_type": "stream",
     "text": [
      "\r",
      "loss: 1.1322 ||:  10%|██████▋                                                           | 8/79 [00:44<06:32,  5.52s/it]"
     ]
    },
    {
     "name": "stdout",
     "output_type": "stream",
     "text": [
      "An exception occurred\n"
     ]
    },
    {
     "name": "stderr",
     "output_type": "stream",
     "text": [
      "\r",
      "loss: 1.1269 ||:  11%|███████▌                                                          | 9/79 [00:50<06:25,  5.50s/it]"
     ]
    },
    {
     "name": "stdout",
     "output_type": "stream",
     "text": [
      "An exception occurred\n"
     ]
    },
    {
     "name": "stderr",
     "output_type": "stream",
     "text": [
      "\r",
      "loss: 1.1291 ||:  13%|████████▏                                                        | 10/79 [00:55<06:19,  5.50s/it]"
     ]
    },
    {
     "name": "stdout",
     "output_type": "stream",
     "text": [
      "An exception occurred\n"
     ]
    },
    {
     "name": "stderr",
     "output_type": "stream",
     "text": [
      "\r",
      "loss: 1.1318 ||:  14%|█████████                                                        | 11/79 [01:01<06:10,  5.45s/it]"
     ]
    },
    {
     "name": "stdout",
     "output_type": "stream",
     "text": [
      "An exception occurred\n"
     ]
    },
    {
     "name": "stderr",
     "output_type": "stream",
     "text": [
      "\r",
      "loss: 1.1297 ||:  15%|█████████▊                                                       | 12/79 [01:07<06:13,  5.58s/it]"
     ]
    },
    {
     "name": "stdout",
     "output_type": "stream",
     "text": [
      "An exception occurred\n"
     ]
    },
    {
     "name": "stderr",
     "output_type": "stream",
     "text": [
      "\r",
      "loss: 1.1310 ||:  16%|██████████▋                                                      | 13/79 [01:13<06:18,  5.74s/it]"
     ]
    },
    {
     "name": "stdout",
     "output_type": "stream",
     "text": [
      "An exception occurred\n"
     ]
    },
    {
     "name": "stderr",
     "output_type": "stream",
     "text": [
      "\r",
      "loss: 1.1292 ||:  18%|███████████▌                                                     | 14/79 [01:19<06:25,  5.93s/it]"
     ]
    },
    {
     "name": "stdout",
     "output_type": "stream",
     "text": [
      "An exception occurred\n"
     ]
    },
    {
     "name": "stderr",
     "output_type": "stream",
     "text": [
      "\r",
      "loss: 1.1282 ||:  19%|████████████▎                                                    | 15/79 [01:25<06:21,  5.97s/it]"
     ]
    },
    {
     "name": "stdout",
     "output_type": "stream",
     "text": [
      "An exception occurred\n"
     ]
    },
    {
     "name": "stderr",
     "output_type": "stream",
     "text": [
      "\r",
      "loss: 1.1279 ||:  20%|█████████████▏                                                   | 16/79 [01:31<06:10,  5.88s/it]"
     ]
    },
    {
     "name": "stdout",
     "output_type": "stream",
     "text": [
      "An exception occurred\n"
     ]
    },
    {
     "name": "stderr",
     "output_type": "stream",
     "text": [
      "\r",
      "loss: 1.1293 ||:  22%|█████████████▉                                                   | 17/79 [01:36<05:52,  5.68s/it]"
     ]
    },
    {
     "name": "stdout",
     "output_type": "stream",
     "text": [
      "An exception occurred\n"
     ]
    },
    {
     "name": "stderr",
     "output_type": "stream",
     "text": [
      "\r",
      "loss: 1.1308 ||:  23%|██████████████▊                                                  | 18/79 [01:41<05:27,  5.36s/it]"
     ]
    },
    {
     "name": "stdout",
     "output_type": "stream",
     "text": [
      "An exception occurred\n"
     ]
    },
    {
     "name": "stderr",
     "output_type": "stream",
     "text": [
      "\r",
      "loss: 1.1328 ||:  24%|███████████████▋                                                 | 19/79 [01:46<05:23,  5.40s/it]"
     ]
    },
    {
     "name": "stdout",
     "output_type": "stream",
     "text": [
      "An exception occurred\n"
     ]
    },
    {
     "name": "stderr",
     "output_type": "stream",
     "text": [
      "\r",
      "loss: 1.1332 ||:  25%|████████████████▍                                                | 20/79 [01:52<05:28,  5.57s/it]"
     ]
    },
    {
     "name": "stdout",
     "output_type": "stream",
     "text": [
      "An exception occurred\n"
     ]
    },
    {
     "name": "stderr",
     "output_type": "stream",
     "text": [
      "\r",
      "loss: 1.1336 ||:  27%|█████████████████▎                                               | 21/79 [01:58<05:25,  5.62s/it]"
     ]
    },
    {
     "name": "stdout",
     "output_type": "stream",
     "text": [
      "An exception occurred\n"
     ]
    },
    {
     "name": "stderr",
     "output_type": "stream",
     "text": [
      "\r",
      "loss: 1.1363 ||:  28%|██████████████████                                               | 22/79 [02:03<05:06,  5.37s/it]"
     ]
    },
    {
     "name": "stdout",
     "output_type": "stream",
     "text": [
      "An exception occurred\n"
     ]
    },
    {
     "name": "stderr",
     "output_type": "stream",
     "text": [
      "\r",
      "loss: 1.1355 ||:  29%|██████████████████▉                                              | 23/79 [02:09<05:17,  5.67s/it]"
     ]
    },
    {
     "name": "stdout",
     "output_type": "stream",
     "text": [
      "An exception occurred\n"
     ]
    },
    {
     "name": "stderr",
     "output_type": "stream",
     "text": [
      "\r",
      "loss: 1.1345 ||:  30%|███████████████████▋                                             | 24/79 [02:14<04:59,  5.45s/it]"
     ]
    },
    {
     "name": "stdout",
     "output_type": "stream",
     "text": [
      "An exception occurred\n"
     ]
    },
    {
     "name": "stderr",
     "output_type": "stream",
     "text": [
      "\r",
      "loss: 1.1331 ||:  32%|████████████████████▌                                            | 25/79 [02:19<04:43,  5.25s/it]"
     ]
    },
    {
     "name": "stdout",
     "output_type": "stream",
     "text": [
      "An exception occurred\n"
     ]
    },
    {
     "name": "stderr",
     "output_type": "stream",
     "text": [
      "\r",
      "loss: 1.1332 ||:  33%|█████████████████████▍                                           | 26/79 [02:24<04:42,  5.34s/it]"
     ]
    },
    {
     "name": "stdout",
     "output_type": "stream",
     "text": [
      "An exception occurred\n"
     ]
    },
    {
     "name": "stderr",
     "output_type": "stream",
     "text": [
      "\r",
      "loss: 1.1329 ||:  34%|██████████████████████▏                                          | 27/79 [02:30<04:45,  5.49s/it]"
     ]
    },
    {
     "name": "stdout",
     "output_type": "stream",
     "text": [
      "An exception occurred\n"
     ]
    },
    {
     "name": "stderr",
     "output_type": "stream",
     "text": [
      "\r",
      "loss: 1.1351 ||:  35%|███████████████████████                                          | 28/79 [02:35<04:29,  5.29s/it]"
     ]
    },
    {
     "name": "stdout",
     "output_type": "stream",
     "text": [
      "An exception occurred\n"
     ]
    },
    {
     "name": "stderr",
     "output_type": "stream",
     "text": [
      "\r",
      "loss: 1.1346 ||:  37%|███████████████████████▊                                         | 29/79 [02:40<04:23,  5.28s/it]"
     ]
    },
    {
     "name": "stdout",
     "output_type": "stream",
     "text": [
      "An exception occurred\n"
     ]
    },
    {
     "name": "stderr",
     "output_type": "stream",
     "text": [
      "\r",
      "loss: 1.1339 ||:  38%|████████████████████████▋                                        | 30/79 [02:45<04:09,  5.08s/it]"
     ]
    },
    {
     "name": "stdout",
     "output_type": "stream",
     "text": [
      "An exception occurred\n"
     ]
    },
    {
     "name": "stderr",
     "output_type": "stream",
     "text": [
      "loss: 1.1319 ||:  41%|██████████████████████████▎                                      | 32/79 [02:56<04:07,  5.27s/it]"
     ]
    },
    {
     "name": "stdout",
     "output_type": "stream",
     "text": [
      "An exception occurred\n"
     ]
    },
    {
     "name": "stderr",
     "output_type": "stream",
     "text": [
      "\r",
      "loss: 1.1324 ||:  42%|███████████████████████████▏                                     | 33/79 [03:02<04:10,  5.46s/it]"
     ]
    },
    {
     "name": "stdout",
     "output_type": "stream",
     "text": [
      "An exception occurred\n"
     ]
    },
    {
     "name": "stderr",
     "output_type": "stream",
     "text": [
      "\r",
      "loss: 1.1312 ||:  43%|███████████████████████████▉                                     | 34/79 [03:08<04:10,  5.57s/it]"
     ]
    },
    {
     "name": "stdout",
     "output_type": "stream",
     "text": [
      "An exception occurred\n"
     ]
    },
    {
     "name": "stderr",
     "output_type": "stream",
     "text": [
      "\r",
      "loss: 1.1312 ||:  44%|████████████████████████████▊                                    | 35/79 [03:14<04:15,  5.80s/it]"
     ]
    },
    {
     "name": "stdout",
     "output_type": "stream",
     "text": [
      "An exception occurred\n"
     ]
    },
    {
     "name": "stderr",
     "output_type": "stream",
     "text": [
      "\r",
      "loss: 1.1317 ||:  46%|█████████████████████████████▌                                   | 36/79 [03:20<04:10,  5.83s/it]"
     ]
    },
    {
     "name": "stdout",
     "output_type": "stream",
     "text": [
      "An exception occurred\n"
     ]
    },
    {
     "name": "stderr",
     "output_type": "stream",
     "text": [
      "\r",
      "loss: 1.1320 ||:  47%|██████████████████████████████▍                                  | 37/79 [03:26<04:09,  5.95s/it]"
     ]
    },
    {
     "name": "stdout",
     "output_type": "stream",
     "text": [
      "An exception occurred\n"
     ]
    },
    {
     "name": "stderr",
     "output_type": "stream",
     "text": [
      "\r",
      "loss: 1.1323 ||:  48%|███████████████████████████████▎                                 | 38/79 [03:32<04:00,  5.86s/it]"
     ]
    },
    {
     "name": "stdout",
     "output_type": "stream",
     "text": [
      "An exception occurred\n"
     ]
    },
    {
     "name": "stderr",
     "output_type": "stream",
     "text": [
      "\r",
      "loss: 1.1315 ||:  49%|████████████████████████████████                                 | 39/79 [03:38<03:55,  5.88s/it]"
     ]
    },
    {
     "name": "stdout",
     "output_type": "stream",
     "text": [
      "An exception occurred\n"
     ]
    },
    {
     "name": "stderr",
     "output_type": "stream",
     "text": [
      "\r",
      "loss: 1.1315 ||:  51%|████████████████████████████████▉                                | 40/79 [03:43<03:48,  5.87s/it]"
     ]
    },
    {
     "name": "stdout",
     "output_type": "stream",
     "text": [
      "An exception occurred\n"
     ]
    },
    {
     "name": "stderr",
     "output_type": "stream",
     "text": [
      "\r",
      "loss: 1.1314 ||:  52%|█████████████████████████████████▋                               | 41/79 [03:49<03:40,  5.81s/it]"
     ]
    },
    {
     "name": "stdout",
     "output_type": "stream",
     "text": [
      "An exception occurred\n"
     ]
    },
    {
     "name": "stderr",
     "output_type": "stream",
     "text": [
      "\r",
      "loss: 1.1317 ||:  53%|██████████████████████████████████▌                              | 42/79 [03:55<03:36,  5.85s/it]"
     ]
    },
    {
     "name": "stdout",
     "output_type": "stream",
     "text": [
      "An exception occurred\n"
     ]
    },
    {
     "name": "stderr",
     "output_type": "stream",
     "text": [
      "\r",
      "loss: 1.1320 ||:  54%|███████████████████████████████████▍                             | 43/79 [04:00<03:24,  5.69s/it]"
     ]
    },
    {
     "name": "stdout",
     "output_type": "stream",
     "text": [
      "An exception occurred\n"
     ]
    },
    {
     "name": "stderr",
     "output_type": "stream",
     "text": [
      "\r",
      "loss: 1.1320 ||:  56%|████████████████████████████████████▏                            | 44/79 [04:06<03:20,  5.74s/it]"
     ]
    },
    {
     "name": "stdout",
     "output_type": "stream",
     "text": [
      "An exception occurred\n"
     ]
    },
    {
     "name": "stderr",
     "output_type": "stream",
     "text": [
      "\r",
      "loss: 1.1317 ||:  57%|█████████████████████████████████████                            | 45/79 [04:12<03:13,  5.69s/it]"
     ]
    },
    {
     "name": "stdout",
     "output_type": "stream",
     "text": [
      "An exception occurred\n"
     ]
    },
    {
     "name": "stderr",
     "output_type": "stream",
     "text": [
      "\r",
      "loss: 1.1318 ||:  58%|█████████████████████████████████████▊                           | 46/79 [04:18<03:09,  5.75s/it]"
     ]
    },
    {
     "name": "stdout",
     "output_type": "stream",
     "text": [
      "An exception occurred\n"
     ]
    },
    {
     "name": "stderr",
     "output_type": "stream",
     "text": [
      "\r",
      "loss: 1.1309 ||:  59%|██████████████████████████████████████▋                          | 47/79 [04:24<03:06,  5.83s/it]"
     ]
    },
    {
     "name": "stdout",
     "output_type": "stream",
     "text": [
      "An exception occurred\n"
     ]
    },
    {
     "name": "stderr",
     "output_type": "stream",
     "text": [
      "\r",
      "loss: 1.1303 ||:  61%|███████████████████████████████████████▍                         | 48/79 [04:29<02:59,  5.79s/it]"
     ]
    },
    {
     "name": "stdout",
     "output_type": "stream",
     "text": [
      "An exception occurred\n"
     ]
    },
    {
     "name": "stderr",
     "output_type": "stream",
     "text": [
      "\r",
      "loss: 1.1305 ||:  62%|████████████████████████████████████████▎                        | 49/79 [04:36<02:57,  5.92s/it]"
     ]
    },
    {
     "name": "stdout",
     "output_type": "stream",
     "text": [
      "An exception occurred\n"
     ]
    },
    {
     "name": "stderr",
     "output_type": "stream",
     "text": [
      "\r",
      "loss: 1.1296 ||:  63%|█████████████████████████████████████████▏                       | 50/79 [04:42<02:56,  6.07s/it]"
     ]
    },
    {
     "name": "stdout",
     "output_type": "stream",
     "text": [
      "An exception occurred\n"
     ]
    },
    {
     "name": "stderr",
     "output_type": "stream",
     "text": [
      "\r",
      "loss: 1.1299 ||:  65%|█████████████████████████████████████████▉                       | 51/79 [04:47<02:44,  5.89s/it]"
     ]
    },
    {
     "name": "stdout",
     "output_type": "stream",
     "text": [
      "An exception occurred\n"
     ]
    },
    {
     "name": "stderr",
     "output_type": "stream",
     "text": [
      "\r",
      "loss: 1.1297 ||:  66%|██████████████████████████████████████████▊                      | 52/79 [04:54<02:43,  6.05s/it]"
     ]
    },
    {
     "name": "stdout",
     "output_type": "stream",
     "text": [
      "An exception occurred\n"
     ]
    },
    {
     "name": "stderr",
     "output_type": "stream",
     "text": [
      "\r",
      "loss: 1.1292 ||:  67%|███████████████████████████████████████████▌                     | 53/79 [05:00<02:33,  5.92s/it]"
     ]
    },
    {
     "name": "stdout",
     "output_type": "stream",
     "text": [
      "An exception occurred\n"
     ]
    },
    {
     "name": "stderr",
     "output_type": "stream",
     "text": [
      "\r",
      "loss: 1.1289 ||:  68%|████████████████████████████████████████████▍                    | 54/79 [05:04<02:18,  5.53s/it]"
     ]
    },
    {
     "name": "stdout",
     "output_type": "stream",
     "text": [
      "An exception occurred\n"
     ]
    },
    {
     "name": "stderr",
     "output_type": "stream",
     "text": [
      "\r",
      "loss: 1.1284 ||:  70%|█████████████████████████████████████████████▎                   | 55/79 [05:09<02:08,  5.34s/it]"
     ]
    },
    {
     "name": "stdout",
     "output_type": "stream",
     "text": [
      "An exception occurred\n"
     ]
    },
    {
     "name": "stderr",
     "output_type": "stream",
     "text": [
      "\r",
      "loss: 1.1287 ||:  71%|██████████████████████████████████████████████                   | 56/79 [05:14<02:00,  5.22s/it]"
     ]
    },
    {
     "name": "stdout",
     "output_type": "stream",
     "text": [
      "An exception occurred\n"
     ]
    },
    {
     "name": "stderr",
     "output_type": "stream",
     "text": [
      "\r",
      "loss: 1.1298 ||:  72%|██████████████████████████████████████████████▉                  | 57/79 [05:19<01:54,  5.18s/it]"
     ]
    },
    {
     "name": "stdout",
     "output_type": "stream",
     "text": [
      "An exception occurred\n"
     ]
    },
    {
     "name": "stderr",
     "output_type": "stream",
     "text": [
      "\r",
      "loss: 1.1298 ||:  73%|███████████████████████████████████████████████▋                 | 58/79 [05:25<01:52,  5.34s/it]"
     ]
    },
    {
     "name": "stdout",
     "output_type": "stream",
     "text": [
      "An exception occurred\n"
     ]
    },
    {
     "name": "stderr",
     "output_type": "stream",
     "text": [
      "\r",
      "loss: 1.1285 ||:  75%|████████████████████████████████████████████████▌                | 59/79 [05:30<01:46,  5.31s/it]"
     ]
    },
    {
     "name": "stdout",
     "output_type": "stream",
     "text": [
      "An exception occurred\n"
     ]
    },
    {
     "name": "stderr",
     "output_type": "stream",
     "text": [
      "\r",
      "loss: 1.1286 ||:  76%|█████████████████████████████████████████████████▎               | 60/79 [05:35<01:41,  5.35s/it]"
     ]
    },
    {
     "name": "stdout",
     "output_type": "stream",
     "text": [
      "An exception occurred\n"
     ]
    },
    {
     "name": "stderr",
     "output_type": "stream",
     "text": [
      "\r",
      "loss: 1.1284 ||:  77%|██████████████████████████████████████████████████▏              | 61/79 [05:41<01:38,  5.45s/it]"
     ]
    },
    {
     "name": "stdout",
     "output_type": "stream",
     "text": [
      "An exception occurred\n"
     ]
    },
    {
     "name": "stderr",
     "output_type": "stream",
     "text": [
      "\r",
      "loss: 1.1282 ||:  78%|███████████████████████████████████████████████████              | 62/79 [05:47<01:35,  5.59s/it]"
     ]
    },
    {
     "name": "stdout",
     "output_type": "stream",
     "text": [
      "An exception occurred\n"
     ]
    },
    {
     "name": "stderr",
     "output_type": "stream",
     "text": [
      "\r",
      "loss: 1.1284 ||:  80%|███████████████████████████████████████████████████▊             | 63/79 [05:53<01:30,  5.64s/it]"
     ]
    },
    {
     "name": "stdout",
     "output_type": "stream",
     "text": [
      "An exception occurred\n"
     ]
    },
    {
     "name": "stderr",
     "output_type": "stream",
     "text": [
      "\r",
      "loss: 1.1285 ||:  81%|████████████████████████████████████████████████████▋            | 64/79 [05:59<01:26,  5.75s/it]"
     ]
    },
    {
     "name": "stdout",
     "output_type": "stream",
     "text": [
      "An exception occurred\n"
     ]
    },
    {
     "name": "stderr",
     "output_type": "stream",
     "text": [
      "\r",
      "loss: 1.1282 ||:  82%|█████████████████████████████████████████████████████▍           | 65/79 [06:05<01:20,  5.78s/it]"
     ]
    },
    {
     "name": "stdout",
     "output_type": "stream",
     "text": [
      "An exception occurred\n"
     ]
    },
    {
     "name": "stderr",
     "output_type": "stream",
     "text": [
      "\r",
      "loss: 1.1285 ||:  84%|██████████████████████████████████████████████████████▎          | 66/79 [06:10<01:15,  5.77s/it]"
     ]
    },
    {
     "name": "stdout",
     "output_type": "stream",
     "text": [
      "An exception occurred\n"
     ]
    },
    {
     "name": "stderr",
     "output_type": "stream",
     "text": [
      "\r",
      "loss: 1.1287 ||:  85%|███████████████████████████████████████████████████████▏         | 67/79 [06:16<01:09,  5.82s/it]"
     ]
    },
    {
     "name": "stdout",
     "output_type": "stream",
     "text": [
      "An exception occurred\n"
     ]
    },
    {
     "name": "stderr",
     "output_type": "stream",
     "text": [
      "\r",
      "loss: 1.1292 ||:  86%|███████████████████████████████████████████████████████▉         | 68/79 [06:22<01:04,  5.86s/it]"
     ]
    },
    {
     "name": "stdout",
     "output_type": "stream",
     "text": [
      "An exception occurred\n"
     ]
    },
    {
     "name": "stderr",
     "output_type": "stream",
     "text": [
      "\r",
      "loss: 1.1291 ||:  87%|████████████████████████████████████████████████████████▊        | 69/79 [06:28<00:57,  5.72s/it]"
     ]
    },
    {
     "name": "stdout",
     "output_type": "stream",
     "text": [
      "An exception occurred\n"
     ]
    },
    {
     "name": "stderr",
     "output_type": "stream",
     "text": [
      "\r",
      "loss: 1.1286 ||:  89%|█████████████████████████████████████████████████████████▌       | 70/79 [06:33<00:51,  5.68s/it]"
     ]
    },
    {
     "name": "stdout",
     "output_type": "stream",
     "text": [
      "An exception occurred\n"
     ]
    },
    {
     "name": "stderr",
     "output_type": "stream",
     "text": [
      "\r",
      "loss: 1.1282 ||:  90%|██████████████████████████████████████████████████████████▍      | 71/79 [06:39<00:45,  5.67s/it]"
     ]
    },
    {
     "name": "stdout",
     "output_type": "stream",
     "text": [
      "An exception occurred\n"
     ]
    },
    {
     "name": "stderr",
     "output_type": "stream",
     "text": [
      "\r",
      "loss: 1.1285 ||:  91%|███████████████████████████████████████████████████████████▏     | 72/79 [06:45<00:39,  5.71s/it]"
     ]
    },
    {
     "name": "stdout",
     "output_type": "stream",
     "text": [
      "An exception occurred\n"
     ]
    },
    {
     "name": "stderr",
     "output_type": "stream",
     "text": [
      "\r",
      "loss: 1.1288 ||:  92%|████████████████████████████████████████████████████████████     | 73/79 [06:51<00:34,  5.83s/it]"
     ]
    },
    {
     "name": "stdout",
     "output_type": "stream",
     "text": [
      "An exception occurred\n"
     ]
    },
    {
     "name": "stderr",
     "output_type": "stream",
     "text": [
      "\r",
      "loss: 1.1287 ||:  94%|████████████████████████████████████████████████████████████▉    | 74/79 [06:56<00:27,  5.55s/it]"
     ]
    },
    {
     "name": "stdout",
     "output_type": "stream",
     "text": [
      "An exception occurred\n"
     ]
    },
    {
     "name": "stderr",
     "output_type": "stream",
     "text": [
      "\r",
      "loss: 1.1291 ||:  95%|█████████████████████████████████████████████████████████████▋   | 75/79 [07:01<00:22,  5.55s/it]"
     ]
    },
    {
     "name": "stdout",
     "output_type": "stream",
     "text": [
      "An exception occurred\n"
     ]
    },
    {
     "name": "stderr",
     "output_type": "stream",
     "text": [
      "\r",
      "loss: 1.1289 ||:  96%|██████████████████████████████████████████████████████████████▌  | 76/79 [07:07<00:16,  5.62s/it]"
     ]
    },
    {
     "name": "stdout",
     "output_type": "stream",
     "text": [
      "An exception occurred\n"
     ]
    },
    {
     "name": "stderr",
     "output_type": "stream",
     "text": [
      "\r",
      "loss: 1.1295 ||:  97%|███████████████████████████████████████████████████████████████▎ | 77/79 [07:12<00:11,  5.51s/it]"
     ]
    },
    {
     "name": "stdout",
     "output_type": "stream",
     "text": [
      "An exception occurred\n"
     ]
    },
    {
     "name": "stderr",
     "output_type": "stream",
     "text": [
      "\r",
      "loss: 1.1297 ||:  99%|████████████████████████████████████████████████████████████████▏| 78/79 [07:17<00:05,  5.27s/it]"
     ]
    },
    {
     "name": "stdout",
     "output_type": "stream",
     "text": [
      "An exception occurred\n"
     ]
    },
    {
     "name": "stderr",
     "output_type": "stream",
     "text": [
      "loss: 1.1287 ||: 100%|█████████████████████████████████████████████████████████████████| 79/79 [07:18<00:00,  5.55s/it]\n",
      "  0%|                                                                                           | 0/79 [00:00<?, ?it/s]"
     ]
    },
    {
     "name": "stdout",
     "output_type": "stream",
     "text": [
      "An exception occurred\n"
     ]
    },
    {
     "name": "stderr",
     "output_type": "stream",
     "text": [
      "\r",
      "loss: 1.1088 ||:   1%|▊                                                                 | 1/79 [00:05<07:15,  5.58s/it]"
     ]
    },
    {
     "name": "stdout",
     "output_type": "stream",
     "text": [
      "An exception occurred\n"
     ]
    },
    {
     "name": "stderr",
     "output_type": "stream",
     "text": [
      "\r",
      "loss: 1.1170 ||:   3%|█▋                                                                | 2/79 [00:11<07:11,  5.60s/it]"
     ]
    },
    {
     "name": "stdout",
     "output_type": "stream",
     "text": [
      "An exception occurred\n"
     ]
    },
    {
     "name": "stderr",
     "output_type": "stream",
     "text": [
      "\r",
      "loss: 1.1240 ||:   4%|██▌                                                               | 3/79 [00:16<06:49,  5.39s/it]"
     ]
    },
    {
     "name": "stdout",
     "output_type": "stream",
     "text": [
      "An exception occurred\n"
     ]
    },
    {
     "name": "stderr",
     "output_type": "stream",
     "text": [
      "\r",
      "loss: 1.1215 ||:   5%|███▎                                                              | 4/79 [00:21<06:49,  5.46s/it]"
     ]
    },
    {
     "name": "stdout",
     "output_type": "stream",
     "text": [
      "An exception occurred\n"
     ]
    },
    {
     "name": "stderr",
     "output_type": "stream",
     "text": [
      "\r",
      "loss: 1.1339 ||:   6%|████▏                                                             | 5/79 [00:27<06:41,  5.42s/it]"
     ]
    },
    {
     "name": "stdout",
     "output_type": "stream",
     "text": [
      "An exception occurred\n"
     ]
    },
    {
     "name": "stderr",
     "output_type": "stream",
     "text": [
      "\r",
      "loss: 1.1301 ||:   8%|█████                                                             | 6/79 [00:33<06:54,  5.68s/it]"
     ]
    },
    {
     "name": "stdout",
     "output_type": "stream",
     "text": [
      "An exception occurred\n"
     ]
    },
    {
     "name": "stderr",
     "output_type": "stream",
     "text": [
      "\r",
      "loss: 1.1203 ||:   9%|█████▊                                                            | 7/79 [00:38<06:37,  5.52s/it]"
     ]
    },
    {
     "name": "stdout",
     "output_type": "stream",
     "text": [
      "An exception occurred\n"
     ]
    },
    {
     "name": "stderr",
     "output_type": "stream",
     "text": [
      "\r",
      "loss: 1.1154 ||:  10%|██████▋                                                           | 8/79 [00:43<06:16,  5.31s/it]"
     ]
    },
    {
     "name": "stdout",
     "output_type": "stream",
     "text": [
      "An exception occurred\n"
     ]
    },
    {
     "name": "stderr",
     "output_type": "stream",
     "text": [
      "\r",
      "loss: 1.1159 ||:  11%|███████▌                                                          | 9/79 [00:49<06:22,  5.46s/it]"
     ]
    },
    {
     "name": "stdout",
     "output_type": "stream",
     "text": [
      "An exception occurred\n"
     ]
    },
    {
     "name": "stderr",
     "output_type": "stream",
     "text": [
      "\r",
      "loss: 1.1171 ||:  13%|████████▏                                                        | 10/79 [00:55<06:28,  5.63s/it]"
     ]
    },
    {
     "name": "stdout",
     "output_type": "stream",
     "text": [
      "An exception occurred\n"
     ]
    },
    {
     "name": "stderr",
     "output_type": "stream",
     "text": [
      "\r",
      "loss: 1.1141 ||:  14%|█████████                                                        | 11/79 [01:00<06:20,  5.60s/it]"
     ]
    },
    {
     "name": "stdout",
     "output_type": "stream",
     "text": [
      "An exception occurred\n"
     ]
    },
    {
     "name": "stderr",
     "output_type": "stream",
     "text": [
      "\r",
      "loss: 1.1087 ||:  15%|█████████▊                                                       | 12/79 [01:06<06:22,  5.71s/it]"
     ]
    },
    {
     "name": "stdout",
     "output_type": "stream",
     "text": [
      "An exception occurred\n"
     ]
    },
    {
     "name": "stderr",
     "output_type": "stream",
     "text": [
      "\r",
      "loss: 1.1057 ||:  16%|██████████▋                                                      | 13/79 [01:12<06:13,  5.66s/it]"
     ]
    },
    {
     "name": "stdout",
     "output_type": "stream",
     "text": [
      "An exception occurred\n"
     ]
    },
    {
     "name": "stderr",
     "output_type": "stream",
     "text": [
      "\r",
      "loss: 1.1075 ||:  18%|███████████▌                                                     | 14/79 [01:17<06:05,  5.63s/it]"
     ]
    },
    {
     "name": "stdout",
     "output_type": "stream",
     "text": [
      "An exception occurred\n"
     ]
    },
    {
     "name": "stderr",
     "output_type": "stream",
     "text": [
      "\r",
      "loss: 1.1072 ||:  19%|████████████▎                                                    | 15/79 [01:23<06:02,  5.66s/it]"
     ]
    },
    {
     "name": "stdout",
     "output_type": "stream",
     "text": [
      "An exception occurred\n"
     ]
    },
    {
     "name": "stderr",
     "output_type": "stream",
     "text": [
      "\r",
      "loss: 1.1052 ||:  20%|█████████████▏                                                   | 16/79 [01:29<06:01,  5.74s/it]"
     ]
    },
    {
     "name": "stdout",
     "output_type": "stream",
     "text": [
      "An exception occurred\n"
     ]
    },
    {
     "name": "stderr",
     "output_type": "stream",
     "text": [
      "\r",
      "loss: 1.1045 ||:  22%|█████████████▉                                                   | 17/79 [01:35<05:56,  5.76s/it]"
     ]
    },
    {
     "name": "stdout",
     "output_type": "stream",
     "text": [
      "An exception occurred\n"
     ]
    },
    {
     "name": "stderr",
     "output_type": "stream",
     "text": [
      "\r",
      "loss: 1.1042 ||:  23%|██████████████▊                                                  | 18/79 [01:41<05:54,  5.81s/it]"
     ]
    },
    {
     "name": "stdout",
     "output_type": "stream",
     "text": [
      "An exception occurred\n"
     ]
    },
    {
     "name": "stderr",
     "output_type": "stream",
     "text": [
      "\r",
      "loss: 1.1037 ||:  24%|███████████████▋                                                 | 19/79 [01:47<05:53,  5.88s/it]"
     ]
    },
    {
     "name": "stdout",
     "output_type": "stream",
     "text": [
      "An exception occurred\n"
     ]
    },
    {
     "name": "stderr",
     "output_type": "stream",
     "text": [
      "\r",
      "loss: 1.1027 ||:  25%|████████████████▍                                                | 20/79 [01:52<05:42,  5.80s/it]"
     ]
    },
    {
     "name": "stdout",
     "output_type": "stream",
     "text": [
      "An exception occurred\n"
     ]
    },
    {
     "name": "stderr",
     "output_type": "stream",
     "text": [
      "\r",
      "loss: 1.1030 ||:  27%|█████████████████▎                                               | 21/79 [01:57<05:24,  5.60s/it]"
     ]
    },
    {
     "name": "stdout",
     "output_type": "stream",
     "text": [
      "An exception occurred\n"
     ]
    },
    {
     "name": "stderr",
     "output_type": "stream",
     "text": [
      "\r",
      "loss: 1.1025 ||:  28%|██████████████████                                               | 22/79 [02:03<05:17,  5.56s/it]"
     ]
    },
    {
     "name": "stdout",
     "output_type": "stream",
     "text": [
      "An exception occurred\n"
     ]
    },
    {
     "name": "stderr",
     "output_type": "stream",
     "text": [
      "\r",
      "loss: 1.1025 ||:  29%|██████████████████▉                                              | 23/79 [02:08<05:03,  5.43s/it]"
     ]
    },
    {
     "name": "stdout",
     "output_type": "stream",
     "text": [
      "An exception occurred\n"
     ]
    },
    {
     "name": "stderr",
     "output_type": "stream",
     "text": [
      "\r",
      "loss: 1.1022 ||:  30%|███████████████████▋                                             | 24/79 [02:13<04:58,  5.43s/it]"
     ]
    },
    {
     "name": "stdout",
     "output_type": "stream",
     "text": [
      "An exception occurred\n"
     ]
    },
    {
     "name": "stderr",
     "output_type": "stream",
     "text": [
      "\r",
      "loss: 1.1023 ||:  32%|████████████████████▌                                            | 25/79 [02:20<05:03,  5.62s/it]"
     ]
    },
    {
     "name": "stdout",
     "output_type": "stream",
     "text": [
      "An exception occurred\n"
     ]
    },
    {
     "name": "stderr",
     "output_type": "stream",
     "text": [
      "\r",
      "loss: 1.1009 ||:  33%|█████████████████████▍                                           | 26/79 [02:26<05:04,  5.75s/it]"
     ]
    },
    {
     "name": "stdout",
     "output_type": "stream",
     "text": [
      "An exception occurred\n"
     ]
    },
    {
     "name": "stderr",
     "output_type": "stream",
     "text": [
      "\r",
      "loss: 1.1014 ||:  34%|██████████████████████▏                                          | 27/79 [02:31<04:54,  5.67s/it]"
     ]
    },
    {
     "name": "stdout",
     "output_type": "stream",
     "text": [
      "An exception occurred\n"
     ]
    },
    {
     "name": "stderr",
     "output_type": "stream",
     "text": [
      "\r",
      "loss: 1.1000 ||:  35%|███████████████████████                                          | 28/79 [02:37<04:55,  5.79s/it]"
     ]
    },
    {
     "name": "stdout",
     "output_type": "stream",
     "text": [
      "An exception occurred\n"
     ]
    },
    {
     "name": "stderr",
     "output_type": "stream",
     "text": [
      "\r",
      "loss: 1.0985 ||:  37%|███████████████████████▊                                         | 29/79 [02:42<04:35,  5.51s/it]"
     ]
    },
    {
     "name": "stdout",
     "output_type": "stream",
     "text": [
      "An exception occurred\n"
     ]
    },
    {
     "name": "stderr",
     "output_type": "stream",
     "text": [
      "\r",
      "loss: 1.1000 ||:  38%|████████████████████████▋                                        | 30/79 [02:48<04:35,  5.62s/it]"
     ]
    },
    {
     "name": "stdout",
     "output_type": "stream",
     "text": [
      "An exception occurred\n"
     ]
    },
    {
     "name": "stderr",
     "output_type": "stream",
     "text": [
      "\r",
      "loss: 1.1006 ||:  39%|█████████████████████████▌                                       | 31/79 [02:54<04:33,  5.69s/it]"
     ]
    },
    {
     "name": "stdout",
     "output_type": "stream",
     "text": [
      "An exception occurred\n"
     ]
    },
    {
     "name": "stderr",
     "output_type": "stream",
     "text": [
      "\r",
      "loss: 1.1016 ||:  41%|██████████████████████████▎                                      | 32/79 [03:00<04:35,  5.86s/it]"
     ]
    },
    {
     "name": "stdout",
     "output_type": "stream",
     "text": [
      "An exception occurred\n"
     ]
    },
    {
     "name": "stderr",
     "output_type": "stream",
     "text": [
      "\r",
      "loss: 1.1016 ||:  42%|███████████████████████████▏                                     | 33/79 [03:06<04:30,  5.87s/it]"
     ]
    },
    {
     "name": "stdout",
     "output_type": "stream",
     "text": [
      "An exception occurred\n"
     ]
    },
    {
     "name": "stderr",
     "output_type": "stream",
     "text": [
      "\r",
      "loss: 1.1009 ||:  43%|███████████████████████████▉                                     | 34/79 [03:11<04:17,  5.73s/it]"
     ]
    },
    {
     "name": "stdout",
     "output_type": "stream",
     "text": [
      "An exception occurred\n"
     ]
    },
    {
     "name": "stderr",
     "output_type": "stream",
     "text": [
      "\r",
      "loss: 1.1002 ||:  44%|████████████████████████████▊                                    | 35/79 [03:17<04:14,  5.78s/it]"
     ]
    },
    {
     "name": "stdout",
     "output_type": "stream",
     "text": [
      "An exception occurred\n"
     ]
    },
    {
     "name": "stderr",
     "output_type": "stream",
     "text": [
      "\r",
      "loss: 1.0999 ||:  46%|█████████████████████████████▌                                   | 36/79 [03:23<04:09,  5.81s/it]"
     ]
    },
    {
     "name": "stdout",
     "output_type": "stream",
     "text": [
      "An exception occurred\n"
     ]
    },
    {
     "name": "stderr",
     "output_type": "stream",
     "text": [
      "\r",
      "loss: 1.1007 ||:  47%|██████████████████████████████▍                                  | 37/79 [03:29<04:02,  5.77s/it]"
     ]
    },
    {
     "name": "stdout",
     "output_type": "stream",
     "text": [
      "An exception occurred\n"
     ]
    },
    {
     "name": "stderr",
     "output_type": "stream",
     "text": [
      "\r",
      "loss: 1.0994 ||:  48%|███████████████████████████████▎                                 | 38/79 [03:35<03:58,  5.82s/it]"
     ]
    },
    {
     "name": "stdout",
     "output_type": "stream",
     "text": [
      "An exception occurred\n"
     ]
    },
    {
     "name": "stderr",
     "output_type": "stream",
     "text": [
      "\r",
      "loss: 1.0993 ||:  49%|████████████████████████████████                                 | 39/79 [03:39<03:40,  5.52s/it]"
     ]
    },
    {
     "name": "stdout",
     "output_type": "stream",
     "text": [
      "An exception occurred\n"
     ]
    },
    {
     "name": "stderr",
     "output_type": "stream",
     "text": [
      "\r",
      "loss: 1.0993 ||:  51%|████████████████████████████████▉                                | 40/79 [03:45<03:37,  5.57s/it]"
     ]
    },
    {
     "name": "stdout",
     "output_type": "stream",
     "text": [
      "An exception occurred\n"
     ]
    },
    {
     "name": "stderr",
     "output_type": "stream",
     "text": [
      "\r",
      "loss: 1.0997 ||:  52%|█████████████████████████████████▋                               | 41/79 [03:51<03:32,  5.60s/it]"
     ]
    },
    {
     "name": "stdout",
     "output_type": "stream",
     "text": [
      "An exception occurred\n"
     ]
    },
    {
     "name": "stderr",
     "output_type": "stream",
     "text": [
      "\r",
      "loss: 1.0986 ||:  53%|██████████████████████████████████▌                              | 42/79 [03:56<03:23,  5.49s/it]"
     ]
    },
    {
     "name": "stdout",
     "output_type": "stream",
     "text": [
      "An exception occurred\n"
     ]
    },
    {
     "name": "stderr",
     "output_type": "stream",
     "text": [
      "\r",
      "loss: 1.0979 ||:  54%|███████████████████████████████████▍                             | 43/79 [04:02<03:24,  5.68s/it]"
     ]
    },
    {
     "name": "stdout",
     "output_type": "stream",
     "text": [
      "An exception occurred\n"
     ]
    },
    {
     "name": "stderr",
     "output_type": "stream",
     "text": [
      "\r",
      "loss: 1.0983 ||:  56%|████████████████████████████████████▏                            | 44/79 [04:09<03:26,  5.89s/it]"
     ]
    },
    {
     "name": "stdout",
     "output_type": "stream",
     "text": [
      "An exception occurred\n"
     ]
    },
    {
     "name": "stderr",
     "output_type": "stream",
     "text": [
      "\r",
      "loss: 1.0979 ||:  57%|█████████████████████████████████████                            | 45/79 [04:15<03:22,  5.95s/it]"
     ]
    },
    {
     "name": "stdout",
     "output_type": "stream",
     "text": [
      "An exception occurred\n"
     ]
    },
    {
     "name": "stderr",
     "output_type": "stream",
     "text": [
      "\r",
      "loss: 1.0978 ||:  58%|█████████████████████████████████████▊                           | 46/79 [04:21<03:16,  5.96s/it]"
     ]
    },
    {
     "name": "stdout",
     "output_type": "stream",
     "text": [
      "An exception occurred\n"
     ]
    },
    {
     "name": "stderr",
     "output_type": "stream",
     "text": [
      "\r",
      "loss: 1.0966 ||:  59%|██████████████████████████████████████▋                          | 47/79 [04:26<03:09,  5.92s/it]"
     ]
    },
    {
     "name": "stdout",
     "output_type": "stream",
     "text": [
      "An exception occurred\n"
     ]
    },
    {
     "name": "stderr",
     "output_type": "stream",
     "text": [
      "\r",
      "loss: 1.0978 ||:  61%|███████████████████████████████████████▍                         | 48/79 [04:32<03:02,  5.89s/it]"
     ]
    },
    {
     "name": "stdout",
     "output_type": "stream",
     "text": [
      "An exception occurred\n"
     ]
    },
    {
     "name": "stderr",
     "output_type": "stream",
     "text": [
      "\r",
      "loss: 1.0972 ||:  62%|████████████████████████████████████████▎                        | 49/79 [04:37<02:49,  5.66s/it]"
     ]
    },
    {
     "name": "stdout",
     "output_type": "stream",
     "text": [
      "An exception occurred\n"
     ]
    },
    {
     "name": "stderr",
     "output_type": "stream",
     "text": [
      "\r",
      "loss: 1.0974 ||:  63%|█████████████████████████████████████████▏                       | 50/79 [04:43<02:39,  5.51s/it]"
     ]
    },
    {
     "name": "stdout",
     "output_type": "stream",
     "text": [
      "An exception occurred\n"
     ]
    },
    {
     "name": "stderr",
     "output_type": "stream",
     "text": [
      "\r",
      "loss: 1.0971 ||:  65%|█████████████████████████████████████████▉                       | 51/79 [04:48<02:35,  5.55s/it]"
     ]
    },
    {
     "name": "stdout",
     "output_type": "stream",
     "text": [
      "An exception occurred\n"
     ]
    },
    {
     "name": "stderr",
     "output_type": "stream",
     "text": [
      "\r",
      "loss: 1.0974 ||:  66%|██████████████████████████████████████████▊                      | 52/79 [04:53<02:26,  5.44s/it]"
     ]
    },
    {
     "name": "stdout",
     "output_type": "stream",
     "text": [
      "An exception occurred\n"
     ]
    },
    {
     "name": "stderr",
     "output_type": "stream",
     "text": [
      "\r",
      "loss: 1.0976 ||:  67%|███████████████████████████████████████████▌                     | 53/79 [04:59<02:26,  5.62s/it]"
     ]
    },
    {
     "name": "stdout",
     "output_type": "stream",
     "text": [
      "An exception occurred\n"
     ]
    },
    {
     "name": "stderr",
     "output_type": "stream",
     "text": [
      "\r",
      "loss: 1.0973 ||:  68%|████████████████████████████████████████████▍                    | 54/79 [05:06<02:28,  5.93s/it]"
     ]
    },
    {
     "name": "stdout",
     "output_type": "stream",
     "text": [
      "An exception occurred\n"
     ]
    },
    {
     "name": "stderr",
     "output_type": "stream",
     "text": [
      "\r",
      "loss: 1.0975 ||:  70%|█████████████████████████████████████████████▎                   | 55/79 [05:12<02:19,  5.83s/it]"
     ]
    },
    {
     "name": "stdout",
     "output_type": "stream",
     "text": [
      "An exception occurred\n"
     ]
    },
    {
     "name": "stderr",
     "output_type": "stream",
     "text": [
      "\r",
      "loss: 1.0967 ||:  71%|██████████████████████████████████████████████                   | 56/79 [05:17<02:11,  5.70s/it]"
     ]
    },
    {
     "name": "stdout",
     "output_type": "stream",
     "text": [
      "An exception occurred\n"
     ]
    },
    {
     "name": "stderr",
     "output_type": "stream",
     "text": [
      "\r",
      "loss: 1.0961 ||:  72%|██████████████████████████████████████████████▉                  | 57/79 [05:23<02:06,  5.76s/it]"
     ]
    },
    {
     "name": "stdout",
     "output_type": "stream",
     "text": [
      "An exception occurred\n"
     ]
    },
    {
     "name": "stderr",
     "output_type": "stream",
     "text": [
      "\r",
      "loss: 1.0955 ||:  73%|███████████████████████████████████████████████▋                 | 58/79 [05:29<02:00,  5.74s/it]"
     ]
    },
    {
     "name": "stdout",
     "output_type": "stream",
     "text": [
      "An exception occurred\n"
     ]
    },
    {
     "name": "stderr",
     "output_type": "stream",
     "text": [
      "\r",
      "loss: 1.0954 ||:  75%|████████████████████████████████████████████████▌                | 59/79 [05:34<01:54,  5.74s/it]"
     ]
    },
    {
     "name": "stdout",
     "output_type": "stream",
     "text": [
      "An exception occurred\n"
     ]
    },
    {
     "name": "stderr",
     "output_type": "stream",
     "text": [
      "\r",
      "loss: 1.0957 ||:  76%|█████████████████████████████████████████████████▎               | 60/79 [05:39<01:44,  5.52s/it]"
     ]
    },
    {
     "name": "stdout",
     "output_type": "stream",
     "text": [
      "An exception occurred\n"
     ]
    },
    {
     "name": "stderr",
     "output_type": "stream",
     "text": [
      "\r",
      "loss: 1.0951 ||:  77%|██████████████████████████████████████████████████▏              | 61/79 [05:45<01:41,  5.62s/it]"
     ]
    },
    {
     "name": "stdout",
     "output_type": "stream",
     "text": [
      "An exception occurred\n"
     ]
    },
    {
     "name": "stderr",
     "output_type": "stream",
     "text": [
      "\r",
      "loss: 1.0950 ||:  78%|███████████████████████████████████████████████████              | 62/79 [05:51<01:36,  5.70s/it]"
     ]
    },
    {
     "name": "stdout",
     "output_type": "stream",
     "text": [
      "An exception occurred\n"
     ]
    },
    {
     "name": "stderr",
     "output_type": "stream",
     "text": [
      "\r",
      "loss: 1.0948 ||:  80%|███████████████████████████████████████████████████▊             | 63/79 [05:57<01:29,  5.59s/it]"
     ]
    },
    {
     "name": "stdout",
     "output_type": "stream",
     "text": [
      "An exception occurred\n"
     ]
    },
    {
     "name": "stderr",
     "output_type": "stream",
     "text": [
      "\r",
      "loss: 1.0942 ||:  81%|████████████████████████████████████████████████████▋            | 64/79 [06:02<01:22,  5.51s/it]"
     ]
    },
    {
     "name": "stdout",
     "output_type": "stream",
     "text": [
      "An exception occurred\n"
     ]
    },
    {
     "name": "stderr",
     "output_type": "stream",
     "text": [
      "\r",
      "loss: 1.0942 ||:  82%|█████████████████████████████████████████████████████▍           | 65/79 [06:07<01:15,  5.38s/it]"
     ]
    },
    {
     "name": "stdout",
     "output_type": "stream",
     "text": [
      "An exception occurred\n"
     ]
    },
    {
     "name": "stderr",
     "output_type": "stream",
     "text": [
      "\r",
      "loss: 1.0945 ||:  84%|██████████████████████████████████████████████████████▎          | 66/79 [06:12<01:09,  5.34s/it]"
     ]
    },
    {
     "name": "stdout",
     "output_type": "stream",
     "text": [
      "An exception occurred\n"
     ]
    },
    {
     "name": "stderr",
     "output_type": "stream",
     "text": [
      "\r",
      "loss: 1.0946 ||:  85%|███████████████████████████████████████████████████████▏         | 67/79 [06:19<01:10,  5.84s/it]"
     ]
    },
    {
     "name": "stdout",
     "output_type": "stream",
     "text": [
      "An exception occurred\n"
     ]
    },
    {
     "name": "stderr",
     "output_type": "stream",
     "text": [
      "\r",
      "loss: 1.0954 ||:  86%|███████████████████████████████████████████████████████▉         | 68/79 [06:25<01:04,  5.90s/it]"
     ]
    },
    {
     "name": "stdout",
     "output_type": "stream",
     "text": [
      "An exception occurred\n"
     ]
    },
    {
     "name": "stderr",
     "output_type": "stream",
     "text": [
      "\r",
      "loss: 1.0949 ||:  87%|████████████████████████████████████████████████████████▊        | 69/79 [06:30<00:55,  5.56s/it]"
     ]
    },
    {
     "name": "stdout",
     "output_type": "stream",
     "text": [
      "An exception occurred\n"
     ]
    },
    {
     "name": "stderr",
     "output_type": "stream",
     "text": [
      "\r",
      "loss: 1.0948 ||:  89%|█████████████████████████████████████████████████████████▌       | 70/79 [06:36<00:52,  5.79s/it]"
     ]
    },
    {
     "name": "stdout",
     "output_type": "stream",
     "text": [
      "An exception occurred\n"
     ]
    },
    {
     "name": "stderr",
     "output_type": "stream",
     "text": [
      "\r",
      "loss: 1.0943 ||:  90%|██████████████████████████████████████████████████████████▍      | 71/79 [06:42<00:46,  5.87s/it]"
     ]
    },
    {
     "name": "stdout",
     "output_type": "stream",
     "text": [
      "An exception occurred\n"
     ]
    },
    {
     "name": "stderr",
     "output_type": "stream",
     "text": [
      "\r",
      "loss: 1.0937 ||:  91%|███████████████████████████████████████████████████████████▏     | 72/79 [06:48<00:41,  5.92s/it]"
     ]
    },
    {
     "name": "stdout",
     "output_type": "stream",
     "text": [
      "An exception occurred\n"
     ]
    },
    {
     "name": "stderr",
     "output_type": "stream",
     "text": [
      "\r",
      "loss: 1.0940 ||:  92%|████████████████████████████████████████████████████████████     | 73/79 [06:54<00:35,  5.97s/it]"
     ]
    },
    {
     "name": "stdout",
     "output_type": "stream",
     "text": [
      "An exception occurred\n"
     ]
    },
    {
     "name": "stderr",
     "output_type": "stream",
     "text": [
      "\r",
      "loss: 1.0941 ||:  94%|████████████████████████████████████████████████████████████▉    | 74/79 [07:00<00:28,  5.75s/it]"
     ]
    },
    {
     "name": "stdout",
     "output_type": "stream",
     "text": [
      "An exception occurred\n"
     ]
    },
    {
     "name": "stderr",
     "output_type": "stream",
     "text": [
      "\r",
      "loss: 1.0942 ||:  95%|█████████████████████████████████████████████████████████████▋   | 75/79 [07:06<00:23,  5.83s/it]"
     ]
    },
    {
     "name": "stdout",
     "output_type": "stream",
     "text": [
      "An exception occurred\n"
     ]
    },
    {
     "name": "stderr",
     "output_type": "stream",
     "text": [
      "\r",
      "loss: 1.0935 ||:  96%|██████████████████████████████████████████████████████████████▌  | 76/79 [07:11<00:17,  5.70s/it]"
     ]
    },
    {
     "name": "stdout",
     "output_type": "stream",
     "text": [
      "An exception occurred\n"
     ]
    },
    {
     "name": "stderr",
     "output_type": "stream",
     "text": [
      "\r",
      "loss: 1.0934 ||:  97%|███████████████████████████████████████████████████████████████▎ | 77/79 [07:16<00:11,  5.51s/it]"
     ]
    },
    {
     "name": "stdout",
     "output_type": "stream",
     "text": [
      "An exception occurred\n"
     ]
    },
    {
     "name": "stderr",
     "output_type": "stream",
     "text": [
      "\r",
      "loss: 1.0931 ||:  99%|████████████████████████████████████████████████████████████████▏| 78/79 [07:22<00:05,  5.53s/it]"
     ]
    },
    {
     "name": "stdout",
     "output_type": "stream",
     "text": [
      "An exception occurred\n"
     ]
    },
    {
     "name": "stderr",
     "output_type": "stream",
     "text": [
      "loss: 1.0919 ||: 100%|█████████████████████████████████████████████████████████████████| 79/79 [07:23<00:00,  5.61s/it]\n",
      "  0%|                                                                                           | 0/79 [00:00<?, ?it/s]"
     ]
    },
    {
     "name": "stdout",
     "output_type": "stream",
     "text": [
      "An exception occurred\n"
     ]
    },
    {
     "name": "stderr",
     "output_type": "stream",
     "text": [
      "\r",
      "loss: 1.0640 ||:   1%|▊                                                                 | 1/79 [00:04<06:06,  4.70s/it]"
     ]
    },
    {
     "name": "stdout",
     "output_type": "stream",
     "text": [
      "An exception occurred\n"
     ]
    },
    {
     "name": "stderr",
     "output_type": "stream",
     "text": [
      "\r",
      "loss: 1.0741 ||:   3%|█▋                                                                | 2/79 [00:09<06:09,  4.79s/it]"
     ]
    },
    {
     "name": "stdout",
     "output_type": "stream",
     "text": [
      "An exception occurred\n"
     ]
    },
    {
     "name": "stderr",
     "output_type": "stream",
     "text": [
      "\r",
      "loss: 1.0770 ||:   4%|██▌                                                               | 3/79 [00:15<06:35,  5.20s/it]"
     ]
    },
    {
     "name": "stdout",
     "output_type": "stream",
     "text": [
      "An exception occurred\n"
     ]
    },
    {
     "name": "stderr",
     "output_type": "stream",
     "text": [
      "\r",
      "loss: 1.0685 ||:   5%|███▎                                                              | 4/79 [00:21<06:50,  5.48s/it]"
     ]
    },
    {
     "name": "stdout",
     "output_type": "stream",
     "text": [
      "An exception occurred\n"
     ]
    },
    {
     "name": "stderr",
     "output_type": "stream",
     "text": [
      "\r",
      "loss: 1.0670 ||:   6%|████▏                                                             | 5/79 [00:28<07:07,  5.78s/it]"
     ]
    },
    {
     "name": "stdout",
     "output_type": "stream",
     "text": [
      "An exception occurred\n"
     ]
    },
    {
     "name": "stderr",
     "output_type": "stream",
     "text": [
      "\r",
      "loss: 1.0671 ||:   8%|█████                                                             | 6/79 [00:34<07:07,  5.86s/it]"
     ]
    },
    {
     "name": "stdout",
     "output_type": "stream",
     "text": [
      "An exception occurred\n"
     ]
    },
    {
     "name": "stderr",
     "output_type": "stream",
     "text": [
      "\r",
      "loss: 1.0683 ||:   9%|█████▊                                                            | 7/79 [00:40<07:07,  5.94s/it]"
     ]
    },
    {
     "name": "stdout",
     "output_type": "stream",
     "text": [
      "An exception occurred\n"
     ]
    },
    {
     "name": "stderr",
     "output_type": "stream",
     "text": [
      "\r",
      "loss: 1.0628 ||:  10%|██████▋                                                           | 8/79 [00:46<07:02,  5.95s/it]"
     ]
    },
    {
     "name": "stdout",
     "output_type": "stream",
     "text": [
      "An exception occurred\n"
     ]
    },
    {
     "name": "stderr",
     "output_type": "stream",
     "text": [
      "\r",
      "loss: 1.0633 ||:  11%|███████▌                                                          | 9/79 [00:50<06:22,  5.47s/it]"
     ]
    },
    {
     "name": "stdout",
     "output_type": "stream",
     "text": [
      "An exception occurred\n"
     ]
    },
    {
     "name": "stderr",
     "output_type": "stream",
     "text": [
      "\r",
      "loss: 1.0635 ||:  13%|████████▏                                                        | 10/79 [00:56<06:26,  5.61s/it]"
     ]
    },
    {
     "name": "stdout",
     "output_type": "stream",
     "text": [
      "An exception occurred\n"
     ]
    },
    {
     "name": "stderr",
     "output_type": "stream",
     "text": [
      "\r",
      "loss: 1.0634 ||:  14%|█████████                                                        | 11/79 [01:02<06:16,  5.54s/it]"
     ]
    },
    {
     "name": "stdout",
     "output_type": "stream",
     "text": [
      "An exception occurred\n"
     ]
    },
    {
     "name": "stderr",
     "output_type": "stream",
     "text": [
      "\r",
      "loss: 1.0665 ||:  15%|█████████▊                                                       | 12/79 [01:07<06:05,  5.45s/it]"
     ]
    },
    {
     "name": "stdout",
     "output_type": "stream",
     "text": [
      "An exception occurred\n"
     ]
    },
    {
     "name": "stderr",
     "output_type": "stream",
     "text": [
      "\r",
      "loss: 1.0691 ||:  16%|██████████▋                                                      | 13/79 [01:13<06:06,  5.55s/it]"
     ]
    },
    {
     "name": "stdout",
     "output_type": "stream",
     "text": [
      "An exception occurred\n"
     ]
    },
    {
     "name": "stderr",
     "output_type": "stream",
     "text": [
      "\r",
      "loss: 1.0698 ||:  18%|███████████▌                                                     | 14/79 [01:19<06:06,  5.64s/it]"
     ]
    },
    {
     "name": "stdout",
     "output_type": "stream",
     "text": [
      "An exception occurred\n"
     ]
    },
    {
     "name": "stderr",
     "output_type": "stream",
     "text": [
      "\r",
      "loss: 1.0689 ||:  19%|████████████▎                                                    | 15/79 [01:25<06:06,  5.72s/it]"
     ]
    },
    {
     "name": "stdout",
     "output_type": "stream",
     "text": [
      "An exception occurred\n"
     ]
    },
    {
     "name": "stderr",
     "output_type": "stream",
     "text": [
      "\r",
      "loss: 1.0689 ||:  20%|█████████████▏                                                   | 16/79 [01:31<06:07,  5.83s/it]"
     ]
    },
    {
     "name": "stdout",
     "output_type": "stream",
     "text": [
      "An exception occurred\n"
     ]
    },
    {
     "name": "stderr",
     "output_type": "stream",
     "text": [
      "\r",
      "loss: 1.0690 ||:  22%|█████████████▉                                                   | 17/79 [01:36<05:57,  5.77s/it]"
     ]
    },
    {
     "name": "stdout",
     "output_type": "stream",
     "text": [
      "An exception occurred\n"
     ]
    },
    {
     "name": "stderr",
     "output_type": "stream",
     "text": [
      "\r",
      "loss: 1.0678 ||:  23%|██████████████▊                                                  | 18/79 [01:41<05:31,  5.44s/it]"
     ]
    },
    {
     "name": "stdout",
     "output_type": "stream",
     "text": [
      "An exception occurred\n"
     ]
    },
    {
     "name": "stderr",
     "output_type": "stream",
     "text": [
      "\r",
      "loss: 1.0666 ||:  24%|███████████████▋                                                 | 19/79 [01:46<05:14,  5.24s/it]"
     ]
    },
    {
     "name": "stdout",
     "output_type": "stream",
     "text": [
      "An exception occurred\n"
     ]
    },
    {
     "name": "stderr",
     "output_type": "stream",
     "text": [
      "\r",
      "loss: 1.0641 ||:  25%|████████████████▍                                                | 20/79 [01:51<05:06,  5.19s/it]"
     ]
    },
    {
     "name": "stdout",
     "output_type": "stream",
     "text": [
      "An exception occurred\n"
     ]
    },
    {
     "name": "stderr",
     "output_type": "stream",
     "text": [
      "\r",
      "loss: 1.0640 ||:  27%|█████████████████▎                                               | 21/79 [01:56<05:05,  5.27s/it]"
     ]
    },
    {
     "name": "stdout",
     "output_type": "stream",
     "text": [
      "An exception occurred\n"
     ]
    },
    {
     "name": "stderr",
     "output_type": "stream",
     "text": [
      "\r",
      "loss: 1.0632 ||:  28%|██████████████████                                               | 22/79 [02:03<05:25,  5.72s/it]"
     ]
    },
    {
     "name": "stdout",
     "output_type": "stream",
     "text": [
      "An exception occurred\n"
     ]
    },
    {
     "name": "stderr",
     "output_type": "stream",
     "text": [
      "\r",
      "loss: 1.0628 ||:  29%|██████████████████▉                                              | 23/79 [02:09<05:27,  5.85s/it]"
     ]
    },
    {
     "name": "stdout",
     "output_type": "stream",
     "text": [
      "An exception occurred\n"
     ]
    },
    {
     "name": "stderr",
     "output_type": "stream",
     "text": [
      "\r",
      "loss: 1.0627 ||:  30%|███████████████████▋                                             | 24/79 [02:14<05:08,  5.60s/it]"
     ]
    },
    {
     "name": "stdout",
     "output_type": "stream",
     "text": [
      "An exception occurred\n"
     ]
    },
    {
     "name": "stderr",
     "output_type": "stream",
     "text": [
      "\r",
      "loss: 1.0640 ||:  32%|████████████████████▌                                            | 25/79 [02:19<04:55,  5.48s/it]"
     ]
    },
    {
     "name": "stdout",
     "output_type": "stream",
     "text": [
      "An exception occurred\n"
     ]
    },
    {
     "name": "stderr",
     "output_type": "stream",
     "text": [
      "\r",
      "loss: 1.0644 ||:  33%|█████████████████████▍                                           | 26/79 [02:25<04:47,  5.43s/it]"
     ]
    },
    {
     "name": "stdout",
     "output_type": "stream",
     "text": [
      "An exception occurred\n"
     ]
    },
    {
     "name": "stderr",
     "output_type": "stream",
     "text": [
      "\r",
      "loss: 1.0646 ||:  34%|██████████████████████▏                                          | 27/79 [02:30<04:36,  5.31s/it]"
     ]
    },
    {
     "name": "stdout",
     "output_type": "stream",
     "text": [
      "An exception occurred\n"
     ]
    },
    {
     "name": "stderr",
     "output_type": "stream",
     "text": [
      "\r",
      "loss: 1.0637 ||:  35%|███████████████████████                                          | 28/79 [02:36<04:37,  5.45s/it]"
     ]
    },
    {
     "name": "stdout",
     "output_type": "stream",
     "text": [
      "An exception occurred\n"
     ]
    },
    {
     "name": "stderr",
     "output_type": "stream",
     "text": [
      "\r",
      "loss: 1.0636 ||:  37%|███████████████████████▊                                         | 29/79 [02:40<04:24,  5.29s/it]"
     ]
    },
    {
     "name": "stdout",
     "output_type": "stream",
     "text": [
      "An exception occurred\n"
     ]
    },
    {
     "name": "stderr",
     "output_type": "stream",
     "text": [
      "\r",
      "loss: 1.0643 ||:  38%|████████████████████████▋                                        | 30/79 [02:46<04:16,  5.23s/it]"
     ]
    },
    {
     "name": "stdout",
     "output_type": "stream",
     "text": [
      "An exception occurred\n"
     ]
    },
    {
     "name": "stderr",
     "output_type": "stream",
     "text": [
      "\r",
      "loss: 1.0644 ||:  39%|█████████████████████████▌                                       | 31/79 [02:52<04:22,  5.47s/it]"
     ]
    },
    {
     "name": "stdout",
     "output_type": "stream",
     "text": [
      "An exception occurred\n"
     ]
    },
    {
     "name": "stderr",
     "output_type": "stream",
     "text": [
      "\r",
      "loss: 1.0654 ||:  41%|██████████████████████████▎                                      | 32/79 [02:58<04:27,  5.70s/it]"
     ]
    },
    {
     "name": "stdout",
     "output_type": "stream",
     "text": [
      "An exception occurred\n"
     ]
    },
    {
     "name": "stderr",
     "output_type": "stream",
     "text": [
      "\r",
      "loss: 1.0665 ||:  42%|███████████████████████████▏                                     | 33/79 [03:03<04:15,  5.56s/it]"
     ]
    },
    {
     "name": "stdout",
     "output_type": "stream",
     "text": [
      "An exception occurred\n"
     ]
    },
    {
     "name": "stderr",
     "output_type": "stream",
     "text": [
      "\r",
      "loss: 1.0658 ||:  43%|███████████████████████████▉                                     | 34/79 [03:09<04:13,  5.64s/it]"
     ]
    },
    {
     "name": "stdout",
     "output_type": "stream",
     "text": [
      "An exception occurred\n"
     ]
    },
    {
     "name": "stderr",
     "output_type": "stream",
     "text": [
      "\r",
      "loss: 1.0666 ||:  44%|████████████████████████████▊                                    | 35/79 [03:14<04:07,  5.62s/it]"
     ]
    },
    {
     "name": "stdout",
     "output_type": "stream",
     "text": [
      "An exception occurred\n"
     ]
    },
    {
     "name": "stderr",
     "output_type": "stream",
     "text": [
      "\r",
      "loss: 1.0668 ||:  46%|█████████████████████████████▌                                   | 36/79 [03:19<03:54,  5.45s/it]"
     ]
    },
    {
     "name": "stdout",
     "output_type": "stream",
     "text": [
      "An exception occurred\n"
     ]
    },
    {
     "name": "stderr",
     "output_type": "stream",
     "text": [
      "\r",
      "loss: 1.0662 ||:  47%|██████████████████████████████▍                                  | 37/79 [03:25<03:49,  5.47s/it]"
     ]
    },
    {
     "name": "stdout",
     "output_type": "stream",
     "text": [
      "An exception occurred\n"
     ]
    },
    {
     "name": "stderr",
     "output_type": "stream",
     "text": [
      "\r",
      "loss: 1.0666 ||:  48%|███████████████████████████████▎                                 | 38/79 [03:30<03:44,  5.48s/it]"
     ]
    },
    {
     "name": "stdout",
     "output_type": "stream",
     "text": [
      "An exception occurred\n"
     ]
    },
    {
     "name": "stderr",
     "output_type": "stream",
     "text": [
      "\r",
      "loss: 1.0664 ||:  49%|████████████████████████████████                                 | 39/79 [03:37<03:53,  5.85s/it]"
     ]
    },
    {
     "name": "stdout",
     "output_type": "stream",
     "text": [
      "An exception occurred\n"
     ]
    },
    {
     "name": "stderr",
     "output_type": "stream",
     "text": [
      "\r",
      "loss: 1.0657 ||:  51%|████████████████████████████████▉                                | 40/79 [03:44<03:59,  6.13s/it]"
     ]
    },
    {
     "name": "stdout",
     "output_type": "stream",
     "text": [
      "An exception occurred\n"
     ]
    },
    {
     "name": "stderr",
     "output_type": "stream",
     "text": [
      "\r",
      "loss: 1.0661 ||:  52%|█████████████████████████████████▋                               | 41/79 [03:50<03:51,  6.09s/it]"
     ]
    },
    {
     "name": "stdout",
     "output_type": "stream",
     "text": [
      "An exception occurred\n"
     ]
    },
    {
     "name": "stderr",
     "output_type": "stream",
     "text": [
      "\r",
      "loss: 1.0672 ||:  53%|██████████████████████████████████▌                              | 42/79 [03:56<03:40,  5.97s/it]"
     ]
    },
    {
     "name": "stdout",
     "output_type": "stream",
     "text": [
      "An exception occurred\n"
     ]
    },
    {
     "name": "stderr",
     "output_type": "stream",
     "text": [
      "\r",
      "loss: 1.0669 ||:  54%|███████████████████████████████████▍                             | 43/79 [04:02<03:36,  6.02s/it]"
     ]
    },
    {
     "name": "stdout",
     "output_type": "stream",
     "text": [
      "An exception occurred\n"
     ]
    },
    {
     "name": "stderr",
     "output_type": "stream",
     "text": [
      "\r",
      "loss: 1.0672 ||:  56%|████████████████████████████████████▏                            | 44/79 [04:07<03:25,  5.87s/it]"
     ]
    },
    {
     "name": "stdout",
     "output_type": "stream",
     "text": [
      "An exception occurred\n"
     ]
    },
    {
     "name": "stderr",
     "output_type": "stream",
     "text": [
      "\r",
      "loss: 1.0678 ||:  57%|█████████████████████████████████████                            | 45/79 [04:14<03:24,  6.00s/it]"
     ]
    },
    {
     "name": "stdout",
     "output_type": "stream",
     "text": [
      "An exception occurred\n"
     ]
    },
    {
     "name": "stderr",
     "output_type": "stream",
     "text": [
      "\r",
      "loss: 1.0672 ||:  58%|█████████████████████████████████████▊                           | 46/79 [04:19<03:14,  5.89s/it]"
     ]
    },
    {
     "name": "stdout",
     "output_type": "stream",
     "text": [
      "An exception occurred\n"
     ]
    },
    {
     "name": "stderr",
     "output_type": "stream",
     "text": [
      "\r",
      "loss: 1.0677 ||:  59%|██████████████████████████████████████▋                          | 47/79 [04:25<03:08,  5.89s/it]"
     ]
    },
    {
     "name": "stdout",
     "output_type": "stream",
     "text": [
      "An exception occurred\n"
     ]
    },
    {
     "name": "stderr",
     "output_type": "stream",
     "text": [
      "loss: 1.0683 ||:  62%|████████████████████████████████████████▎                        | 49/79 [04:37<02:55,  5.86s/it]"
     ]
    },
    {
     "name": "stdout",
     "output_type": "stream",
     "text": [
      "An exception occurred\n"
     ]
    },
    {
     "name": "stderr",
     "output_type": "stream",
     "text": [
      "\r",
      "loss: 1.0683 ||:  63%|█████████████████████████████████████████▏                       | 50/79 [04:42<02:41,  5.56s/it]"
     ]
    },
    {
     "name": "stdout",
     "output_type": "stream",
     "text": [
      "An exception occurred\n"
     ]
    },
    {
     "name": "stderr",
     "output_type": "stream",
     "text": [
      "\r",
      "loss: 1.0677 ||:  65%|█████████████████████████████████████████▉                       | 51/79 [04:47<02:35,  5.54s/it]"
     ]
    },
    {
     "name": "stdout",
     "output_type": "stream",
     "text": [
      "An exception occurred\n"
     ]
    },
    {
     "name": "stderr",
     "output_type": "stream",
     "text": [
      "\r",
      "loss: 1.0665 ||:  66%|██████████████████████████████████████████▊                      | 52/79 [04:53<02:31,  5.63s/it]"
     ]
    },
    {
     "name": "stdout",
     "output_type": "stream",
     "text": [
      "An exception occurred\n"
     ]
    },
    {
     "name": "stderr",
     "output_type": "stream",
     "text": [
      "\r",
      "loss: 1.0658 ||:  67%|███████████████████████████████████████████▌                     | 53/79 [04:58<02:24,  5.55s/it]"
     ]
    },
    {
     "name": "stdout",
     "output_type": "stream",
     "text": [
      "An exception occurred\n"
     ]
    },
    {
     "name": "stderr",
     "output_type": "stream",
     "text": [
      "\r",
      "loss: 1.0651 ||:  68%|████████████████████████████████████████████▍                    | 54/79 [05:04<02:17,  5.51s/it]"
     ]
    },
    {
     "name": "stdout",
     "output_type": "stream",
     "text": [
      "An exception occurred\n"
     ]
    },
    {
     "name": "stderr",
     "output_type": "stream",
     "text": [
      "\r",
      "loss: 1.0657 ||:  70%|█████████████████████████████████████████████▎                   | 55/79 [05:10<02:15,  5.65s/it]"
     ]
    },
    {
     "name": "stdout",
     "output_type": "stream",
     "text": [
      "An exception occurred\n"
     ]
    },
    {
     "name": "stderr",
     "output_type": "stream",
     "text": [
      "\r",
      "loss: 1.0652 ||:  71%|██████████████████████████████████████████████                   | 56/79 [05:17<02:19,  6.05s/it]"
     ]
    },
    {
     "name": "stdout",
     "output_type": "stream",
     "text": [
      "An exception occurred\n"
     ]
    },
    {
     "name": "stderr",
     "output_type": "stream",
     "text": [
      "\r",
      "loss: 1.0654 ||:  72%|██████████████████████████████████████████████▉                  | 57/79 [05:24<02:19,  6.33s/it]"
     ]
    },
    {
     "name": "stdout",
     "output_type": "stream",
     "text": [
      "An exception occurred\n"
     ]
    },
    {
     "name": "stderr",
     "output_type": "stream",
     "text": [
      "\r",
      "loss: 1.0659 ||:  73%|███████████████████████████████████████████████▋                 | 58/79 [05:31<02:19,  6.66s/it]"
     ]
    },
    {
     "name": "stdout",
     "output_type": "stream",
     "text": [
      "An exception occurred\n"
     ]
    },
    {
     "name": "stderr",
     "output_type": "stream",
     "text": [
      "\r",
      "loss: 1.0659 ||:  75%|████████████████████████████████████████████████▌                | 59/79 [05:36<02:05,  6.25s/it]"
     ]
    },
    {
     "name": "stdout",
     "output_type": "stream",
     "text": [
      "An exception occurred\n"
     ]
    },
    {
     "name": "stderr",
     "output_type": "stream",
     "text": [
      "\r",
      "loss: 1.0651 ||:  76%|█████████████████████████████████████████████████▎               | 60/79 [05:42<01:57,  6.21s/it]"
     ]
    },
    {
     "name": "stdout",
     "output_type": "stream",
     "text": [
      "An exception occurred\n"
     ]
    },
    {
     "name": "stderr",
     "output_type": "stream",
     "text": [
      "\r",
      "loss: 1.0653 ||:  77%|██████████████████████████████████████████████████▏              | 61/79 [05:48<01:47,  5.98s/it]"
     ]
    },
    {
     "name": "stdout",
     "output_type": "stream",
     "text": [
      "An exception occurred\n"
     ]
    },
    {
     "name": "stderr",
     "output_type": "stream",
     "text": [
      "\r",
      "loss: 1.0644 ||:  78%|███████████████████████████████████████████████████              | 62/79 [05:54<01:43,  6.08s/it]"
     ]
    },
    {
     "name": "stdout",
     "output_type": "stream",
     "text": [
      "An exception occurred\n"
     ]
    },
    {
     "name": "stderr",
     "output_type": "stream",
     "text": [
      "\r",
      "loss: 1.0646 ||:  80%|███████████████████████████████████████████████████▊             | 63/79 [05:59<01:32,  5.79s/it]"
     ]
    },
    {
     "name": "stdout",
     "output_type": "stream",
     "text": [
      "An exception occurred\n"
     ]
    },
    {
     "name": "stderr",
     "output_type": "stream",
     "text": [
      "\r",
      "loss: 1.0646 ||:  81%|████████████████████████████████████████████████████▋            | 64/79 [06:05<01:25,  5.68s/it]"
     ]
    },
    {
     "name": "stdout",
     "output_type": "stream",
     "text": [
      "An exception occurred\n"
     ]
    },
    {
     "name": "stderr",
     "output_type": "stream",
     "text": [
      "\r",
      "loss: 1.0644 ||:  82%|█████████████████████████████████████████████████████▍           | 65/79 [06:10<01:18,  5.64s/it]"
     ]
    },
    {
     "name": "stdout",
     "output_type": "stream",
     "text": [
      "An exception occurred\n"
     ]
    },
    {
     "name": "stderr",
     "output_type": "stream",
     "text": [
      "\r",
      "loss: 1.0647 ||:  84%|██████████████████████████████████████████████████████▎          | 66/79 [06:16<01:13,  5.67s/it]"
     ]
    },
    {
     "name": "stdout",
     "output_type": "stream",
     "text": [
      "An exception occurred\n"
     ]
    },
    {
     "name": "stderr",
     "output_type": "stream",
     "text": [
      "\r",
      "loss: 1.0647 ||:  85%|███████████████████████████████████████████████████████▏         | 67/79 [06:21<01:05,  5.47s/it]"
     ]
    },
    {
     "name": "stdout",
     "output_type": "stream",
     "text": [
      "An exception occurred\n"
     ]
    },
    {
     "name": "stderr",
     "output_type": "stream",
     "text": [
      "\r",
      "loss: 1.0648 ||:  86%|███████████████████████████████████████████████████████▉         | 68/79 [06:26<00:59,  5.39s/it]"
     ]
    },
    {
     "name": "stdout",
     "output_type": "stream",
     "text": [
      "An exception occurred\n"
     ]
    },
    {
     "name": "stderr",
     "output_type": "stream",
     "text": [
      "\r",
      "loss: 1.0646 ||:  87%|████████████████████████████████████████████████████████▊        | 69/79 [06:31<00:51,  5.19s/it]"
     ]
    },
    {
     "name": "stdout",
     "output_type": "stream",
     "text": [
      "An exception occurred\n"
     ]
    },
    {
     "name": "stderr",
     "output_type": "stream",
     "text": [
      "\r",
      "loss: 1.0653 ||:  89%|█████████████████████████████████████████████████████████▌       | 70/79 [06:37<00:47,  5.33s/it]"
     ]
    },
    {
     "name": "stdout",
     "output_type": "stream",
     "text": [
      "An exception occurred\n"
     ]
    },
    {
     "name": "stderr",
     "output_type": "stream",
     "text": [
      "\r",
      "loss: 1.0648 ||:  90%|██████████████████████████████████████████████████████████▍      | 71/79 [06:42<00:42,  5.35s/it]"
     ]
    },
    {
     "name": "stdout",
     "output_type": "stream",
     "text": [
      "An exception occurred\n"
     ]
    },
    {
     "name": "stderr",
     "output_type": "stream",
     "text": [
      "\r",
      "loss: 1.0646 ||:  91%|███████████████████████████████████████████████████████████▏     | 72/79 [06:47<00:36,  5.26s/it]"
     ]
    },
    {
     "name": "stdout",
     "output_type": "stream",
     "text": [
      "An exception occurred\n"
     ]
    },
    {
     "name": "stderr",
     "output_type": "stream",
     "text": [
      "\r",
      "loss: 1.0647 ||:  92%|████████████████████████████████████████████████████████████     | 73/79 [06:53<00:33,  5.55s/it]"
     ]
    },
    {
     "name": "stdout",
     "output_type": "stream",
     "text": [
      "An exception occurred\n"
     ]
    },
    {
     "name": "stderr",
     "output_type": "stream",
     "text": [
      "\r",
      "loss: 1.0647 ||:  94%|████████████████████████████████████████████████████████████▉    | 74/79 [06:59<00:27,  5.57s/it]"
     ]
    },
    {
     "name": "stdout",
     "output_type": "stream",
     "text": [
      "An exception occurred\n"
     ]
    },
    {
     "name": "stderr",
     "output_type": "stream",
     "text": [
      "\r",
      "loss: 1.0649 ||:  95%|█████████████████████████████████████████████████████████████▋   | 75/79 [07:05<00:23,  5.78s/it]"
     ]
    },
    {
     "name": "stdout",
     "output_type": "stream",
     "text": [
      "An exception occurred\n"
     ]
    },
    {
     "name": "stderr",
     "output_type": "stream",
     "text": [
      "\r",
      "loss: 1.0649 ||:  96%|██████████████████████████████████████████████████████████████▌  | 76/79 [07:11<00:17,  5.68s/it]"
     ]
    },
    {
     "name": "stdout",
     "output_type": "stream",
     "text": [
      "An exception occurred\n"
     ]
    },
    {
     "name": "stderr",
     "output_type": "stream",
     "text": [
      "\r",
      "loss: 1.0642 ||:  97%|███████████████████████████████████████████████████████████████▎ | 77/79 [07:16<00:11,  5.58s/it]"
     ]
    },
    {
     "name": "stdout",
     "output_type": "stream",
     "text": [
      "An exception occurred\n"
     ]
    },
    {
     "name": "stderr",
     "output_type": "stream",
     "text": [
      "\r",
      "loss: 1.0643 ||:  99%|████████████████████████████████████████████████████████████████▏| 78/79 [07:21<00:05,  5.33s/it]"
     ]
    },
    {
     "name": "stdout",
     "output_type": "stream",
     "text": [
      "An exception occurred\n"
     ]
    },
    {
     "name": "stderr",
     "output_type": "stream",
     "text": [
      "loss: 1.0639 ||: 100%|█████████████████████████████████████████████████████████████████| 79/79 [07:22<00:00,  5.60s/it]\n",
      "  0%|                                                                                           | 0/79 [00:00<?, ?it/s]"
     ]
    },
    {
     "name": "stdout",
     "output_type": "stream",
     "text": [
      "An exception occurred\n"
     ]
    },
    {
     "name": "stderr",
     "output_type": "stream",
     "text": [
      "\r",
      "loss: 1.0365 ||:   1%|▊                                                                 | 1/79 [00:05<07:34,  5.82s/it]"
     ]
    },
    {
     "name": "stdout",
     "output_type": "stream",
     "text": [
      "An exception occurred\n"
     ]
    },
    {
     "name": "stderr",
     "output_type": "stream",
     "text": [
      "\r",
      "loss: 1.0431 ||:   3%|█▋                                                                | 2/79 [00:11<07:19,  5.71s/it]"
     ]
    },
    {
     "name": "stdout",
     "output_type": "stream",
     "text": [
      "An exception occurred\n"
     ]
    },
    {
     "name": "stderr",
     "output_type": "stream",
     "text": [
      "\r",
      "loss: 1.0395 ||:   4%|██▌                                                               | 3/79 [00:16<06:57,  5.49s/it]"
     ]
    },
    {
     "name": "stdout",
     "output_type": "stream",
     "text": [
      "An exception occurred\n"
     ]
    },
    {
     "name": "stderr",
     "output_type": "stream",
     "text": [
      "\r",
      "loss: 1.0406 ||:   5%|███▎                                                              | 4/79 [00:21<06:50,  5.48s/it]"
     ]
    },
    {
     "name": "stdout",
     "output_type": "stream",
     "text": [
      "An exception occurred\n"
     ]
    },
    {
     "name": "stderr",
     "output_type": "stream",
     "text": [
      "\r",
      "loss: 1.0401 ||:   6%|████▏                                                             | 5/79 [00:26<06:37,  5.37s/it]"
     ]
    },
    {
     "name": "stdout",
     "output_type": "stream",
     "text": [
      "An exception occurred\n"
     ]
    },
    {
     "name": "stderr",
     "output_type": "stream",
     "text": [
      "\r",
      "loss: 1.0528 ||:   8%|█████                                                             | 6/79 [00:32<06:28,  5.33s/it]"
     ]
    },
    {
     "name": "stdout",
     "output_type": "stream",
     "text": [
      "An exception occurred\n"
     ]
    },
    {
     "name": "stderr",
     "output_type": "stream",
     "text": [
      "\r",
      "loss: 1.0490 ||:   9%|█████▊                                                            | 7/79 [00:37<06:27,  5.38s/it]"
     ]
    },
    {
     "name": "stdout",
     "output_type": "stream",
     "text": [
      "An exception occurred\n"
     ]
    },
    {
     "name": "stderr",
     "output_type": "stream",
     "text": [
      "\r",
      "loss: 1.0498 ||:  10%|██████▋                                                           | 8/79 [00:43<06:26,  5.45s/it]"
     ]
    },
    {
     "name": "stdout",
     "output_type": "stream",
     "text": [
      "An exception occurred\n"
     ]
    },
    {
     "name": "stderr",
     "output_type": "stream",
     "text": [
      "\r",
      "loss: 1.0542 ||:  11%|███████▌                                                          | 9/79 [00:49<06:31,  5.60s/it]"
     ]
    },
    {
     "name": "stdout",
     "output_type": "stream",
     "text": [
      "An exception occurred\n"
     ]
    },
    {
     "name": "stderr",
     "output_type": "stream",
     "text": [
      "\r",
      "loss: 1.0483 ||:  13%|████████▏                                                        | 10/79 [00:54<06:31,  5.67s/it]"
     ]
    },
    {
     "name": "stdout",
     "output_type": "stream",
     "text": [
      "An exception occurred\n"
     ]
    },
    {
     "name": "stderr",
     "output_type": "stream",
     "text": [
      "\r",
      "loss: 1.0459 ||:  14%|█████████                                                        | 11/79 [00:59<06:11,  5.46s/it]"
     ]
    },
    {
     "name": "stdout",
     "output_type": "stream",
     "text": [
      "An exception occurred\n"
     ]
    },
    {
     "name": "stderr",
     "output_type": "stream",
     "text": [
      "\r",
      "loss: 1.0443 ||:  15%|█████████▊                                                       | 12/79 [01:05<06:02,  5.41s/it]"
     ]
    },
    {
     "name": "stdout",
     "output_type": "stream",
     "text": [
      "An exception occurred\n"
     ]
    },
    {
     "name": "stderr",
     "output_type": "stream",
     "text": [
      "\r",
      "loss: 1.0417 ||:  16%|██████████▋                                                      | 13/79 [01:11<06:08,  5.58s/it]"
     ]
    },
    {
     "name": "stdout",
     "output_type": "stream",
     "text": [
      "An exception occurred\n"
     ]
    },
    {
     "name": "stderr",
     "output_type": "stream",
     "text": [
      "\r",
      "loss: 1.0383 ||:  18%|███████████▌                                                     | 14/79 [01:17<06:11,  5.71s/it]"
     ]
    },
    {
     "name": "stdout",
     "output_type": "stream",
     "text": [
      "An exception occurred\n"
     ]
    },
    {
     "name": "stderr",
     "output_type": "stream",
     "text": [
      "\r",
      "loss: 1.0387 ||:  19%|████████████▎                                                    | 15/79 [01:22<05:57,  5.59s/it]"
     ]
    },
    {
     "name": "stdout",
     "output_type": "stream",
     "text": [
      "An exception occurred\n"
     ]
    },
    {
     "name": "stderr",
     "output_type": "stream",
     "text": [
      "\r",
      "loss: 1.0375 ||:  20%|█████████████▏                                                   | 16/79 [01:27<05:44,  5.47s/it]"
     ]
    },
    {
     "name": "stdout",
     "output_type": "stream",
     "text": [
      "An exception occurred\n"
     ]
    },
    {
     "name": "stderr",
     "output_type": "stream",
     "text": [
      "\r",
      "loss: 1.0372 ||:  22%|█████████████▉                                                   | 17/79 [01:33<05:42,  5.53s/it]"
     ]
    },
    {
     "name": "stdout",
     "output_type": "stream",
     "text": [
      "An exception occurred\n"
     ]
    },
    {
     "name": "stderr",
     "output_type": "stream",
     "text": [
      "\r",
      "loss: 1.0372 ||:  23%|██████████████▊                                                  | 18/79 [01:39<05:41,  5.61s/it]"
     ]
    },
    {
     "name": "stdout",
     "output_type": "stream",
     "text": [
      "An exception occurred\n"
     ]
    },
    {
     "name": "stderr",
     "output_type": "stream",
     "text": [
      "\r",
      "loss: 1.0388 ||:  24%|███████████████▋                                                 | 19/79 [01:43<05:21,  5.35s/it]"
     ]
    },
    {
     "name": "stdout",
     "output_type": "stream",
     "text": [
      "An exception occurred\n"
     ]
    },
    {
     "name": "stderr",
     "output_type": "stream",
     "text": [
      "\r",
      "loss: 1.0371 ||:  25%|████████████████▍                                                | 20/79 [01:49<05:15,  5.35s/it]"
     ]
    },
    {
     "name": "stdout",
     "output_type": "stream",
     "text": [
      "An exception occurred\n"
     ]
    },
    {
     "name": "stderr",
     "output_type": "stream",
     "text": [
      "\r",
      "loss: 1.0380 ||:  27%|█████████████████▎                                               | 21/79 [01:55<05:22,  5.55s/it]"
     ]
    },
    {
     "name": "stdout",
     "output_type": "stream",
     "text": [
      "An exception occurred\n"
     ]
    },
    {
     "name": "stderr",
     "output_type": "stream",
     "text": [
      "\r",
      "loss: 1.0407 ||:  28%|██████████████████                                               | 22/79 [01:59<04:59,  5.25s/it]"
     ]
    },
    {
     "name": "stdout",
     "output_type": "stream",
     "text": [
      "An exception occurred\n"
     ]
    },
    {
     "name": "stderr",
     "output_type": "stream",
     "text": [
      "\r",
      "loss: 1.0434 ||:  29%|██████████████████▉                                              | 23/79 [02:04<04:52,  5.22s/it]"
     ]
    },
    {
     "name": "stdout",
     "output_type": "stream",
     "text": [
      "An exception occurred\n"
     ]
    },
    {
     "name": "stderr",
     "output_type": "stream",
     "text": [
      "loss: 1.0453 ||:  32%|████████████████████▌                                            | 25/79 [02:15<04:47,  5.32s/it]"
     ]
    },
    {
     "name": "stdout",
     "output_type": "stream",
     "text": [
      "An exception occurred\n"
     ]
    },
    {
     "name": "stderr",
     "output_type": "stream",
     "text": [
      "\r",
      "loss: 1.0451 ||:  33%|█████████████████████▍                                           | 26/79 [02:21<04:47,  5.42s/it]"
     ]
    },
    {
     "name": "stdout",
     "output_type": "stream",
     "text": [
      "An exception occurred\n"
     ]
    },
    {
     "name": "stderr",
     "output_type": "stream",
     "text": [
      "\r",
      "loss: 1.0461 ||:  34%|██████████████████████▏                                          | 27/79 [02:27<04:50,  5.59s/it]"
     ]
    },
    {
     "name": "stdout",
     "output_type": "stream",
     "text": [
      "An exception occurred\n"
     ]
    },
    {
     "name": "stderr",
     "output_type": "stream",
     "text": [
      "\r",
      "loss: 1.0460 ||:  35%|███████████████████████                                          | 28/79 [02:32<04:39,  5.47s/it]"
     ]
    },
    {
     "name": "stdout",
     "output_type": "stream",
     "text": [
      "An exception occurred\n"
     ]
    },
    {
     "name": "stderr",
     "output_type": "stream",
     "text": [
      "\r",
      "loss: 1.0453 ||:  37%|███████████████████████▊                                         | 29/79 [02:38<04:33,  5.47s/it]"
     ]
    },
    {
     "name": "stdout",
     "output_type": "stream",
     "text": [
      "An exception occurred\n"
     ]
    },
    {
     "name": "stderr",
     "output_type": "stream",
     "text": [
      "\r",
      "loss: 1.0450 ||:  38%|████████████████████████▋                                        | 30/79 [02:43<04:31,  5.54s/it]"
     ]
    },
    {
     "name": "stdout",
     "output_type": "stream",
     "text": [
      "An exception occurred\n"
     ]
    },
    {
     "name": "stderr",
     "output_type": "stream",
     "text": [
      "\r",
      "loss: 1.0467 ||:  39%|█████████████████████████▌                                       | 31/79 [02:49<04:29,  5.62s/it]"
     ]
    },
    {
     "name": "stdout",
     "output_type": "stream",
     "text": [
      "An exception occurred\n"
     ]
    },
    {
     "name": "stderr",
     "output_type": "stream",
     "text": [
      "\r",
      "loss: 1.0457 ||:  41%|██████████████████████████▎                                      | 32/79 [02:55<04:33,  5.81s/it]"
     ]
    },
    {
     "name": "stdout",
     "output_type": "stream",
     "text": [
      "An exception occurred\n"
     ]
    },
    {
     "name": "stderr",
     "output_type": "stream",
     "text": [
      "\r",
      "loss: 1.0466 ||:  42%|███████████████████████████▏                                     | 33/79 [03:01<04:26,  5.80s/it]"
     ]
    },
    {
     "name": "stdout",
     "output_type": "stream",
     "text": [
      "An exception occurred\n"
     ]
    },
    {
     "name": "stderr",
     "output_type": "stream",
     "text": [
      "\r",
      "loss: 1.0461 ||:  43%|███████████████████████████▉                                     | 34/79 [03:07<04:24,  5.87s/it]"
     ]
    },
    {
     "name": "stdout",
     "output_type": "stream",
     "text": [
      "An exception occurred\n"
     ]
    },
    {
     "name": "stderr",
     "output_type": "stream",
     "text": [
      "\r",
      "loss: 1.0447 ||:  44%|████████████████████████████▊                                    | 35/79 [03:13<04:16,  5.83s/it]"
     ]
    },
    {
     "name": "stdout",
     "output_type": "stream",
     "text": [
      "An exception occurred\n"
     ]
    },
    {
     "name": "stderr",
     "output_type": "stream",
     "text": [
      "\r",
      "loss: 1.0431 ||:  46%|█████████████████████████████▌                                   | 36/79 [03:19<04:15,  5.95s/it]"
     ]
    },
    {
     "name": "stdout",
     "output_type": "stream",
     "text": [
      "An exception occurred\n"
     ]
    },
    {
     "name": "stderr",
     "output_type": "stream",
     "text": [
      "\r",
      "loss: 1.0427 ||:  47%|██████████████████████████████▍                                  | 37/79 [03:25<04:02,  5.78s/it]"
     ]
    },
    {
     "name": "stdout",
     "output_type": "stream",
     "text": [
      "An exception occurred\n"
     ]
    },
    {
     "name": "stderr",
     "output_type": "stream",
     "text": [
      "\r",
      "loss: 1.0415 ||:  48%|███████████████████████████████▎                                 | 38/79 [03:31<04:02,  5.92s/it]"
     ]
    },
    {
     "name": "stdout",
     "output_type": "stream",
     "text": [
      "An exception occurred\n"
     ]
    },
    {
     "name": "stderr",
     "output_type": "stream",
     "text": [
      "\r",
      "loss: 1.0414 ||:  49%|████████████████████████████████                                 | 39/79 [03:37<03:55,  5.90s/it]"
     ]
    },
    {
     "name": "stdout",
     "output_type": "stream",
     "text": [
      "An exception occurred\n"
     ]
    },
    {
     "name": "stderr",
     "output_type": "stream",
     "text": [
      "\r",
      "loss: 1.0408 ||:  51%|████████████████████████████████▉                                | 40/79 [03:43<03:50,  5.91s/it]"
     ]
    },
    {
     "name": "stdout",
     "output_type": "stream",
     "text": [
      "An exception occurred\n"
     ]
    },
    {
     "name": "stderr",
     "output_type": "stream",
     "text": [
      "\r",
      "loss: 1.0416 ||:  52%|█████████████████████████████████▋                               | 41/79 [03:48<03:39,  5.78s/it]"
     ]
    },
    {
     "name": "stdout",
     "output_type": "stream",
     "text": [
      "An exception occurred\n"
     ]
    },
    {
     "name": "stderr",
     "output_type": "stream",
     "text": [
      "\r",
      "loss: 1.0417 ||:  53%|██████████████████████████████████▌                              | 42/79 [03:54<03:34,  5.81s/it]"
     ]
    },
    {
     "name": "stdout",
     "output_type": "stream",
     "text": [
      "An exception occurred\n"
     ]
    },
    {
     "name": "stderr",
     "output_type": "stream",
     "text": [
      "\r",
      "loss: 1.0420 ||:  54%|███████████████████████████████████▍                             | 43/79 [04:00<03:31,  5.88s/it]"
     ]
    },
    {
     "name": "stdout",
     "output_type": "stream",
     "text": [
      "An exception occurred\n"
     ]
    },
    {
     "name": "stderr",
     "output_type": "stream",
     "text": [
      "\r",
      "loss: 1.0419 ||:  56%|████████████████████████████████████▏                            | 44/79 [04:06<03:23,  5.80s/it]"
     ]
    },
    {
     "name": "stdout",
     "output_type": "stream",
     "text": [
      "An exception occurred\n"
     ]
    },
    {
     "name": "stderr",
     "output_type": "stream",
     "text": [
      "\r",
      "loss: 1.0426 ||:  57%|█████████████████████████████████████                            | 45/79 [04:11<03:15,  5.76s/it]"
     ]
    },
    {
     "name": "stdout",
     "output_type": "stream",
     "text": [
      "An exception occurred\n"
     ]
    },
    {
     "name": "stderr",
     "output_type": "stream",
     "text": [
      "\r",
      "loss: 1.0430 ||:  58%|█████████████████████████████████████▊                           | 46/79 [04:17<03:08,  5.70s/it]"
     ]
    },
    {
     "name": "stdout",
     "output_type": "stream",
     "text": [
      "An exception occurred\n"
     ]
    },
    {
     "name": "stderr",
     "output_type": "stream",
     "text": [
      "\r",
      "loss: 1.0431 ||:  59%|██████████████████████████████████████▋                          | 47/79 [04:22<02:55,  5.49s/it]"
     ]
    },
    {
     "name": "stdout",
     "output_type": "stream",
     "text": [
      "An exception occurred\n"
     ]
    },
    {
     "name": "stderr",
     "output_type": "stream",
     "text": [
      "\r",
      "loss: 1.0426 ||:  61%|███████████████████████████████████████▍                         | 48/79 [04:28<02:51,  5.55s/it]"
     ]
    },
    {
     "name": "stdout",
     "output_type": "stream",
     "text": [
      "An exception occurred\n"
     ]
    },
    {
     "name": "stderr",
     "output_type": "stream",
     "text": [
      "\r",
      "loss: 1.0433 ||:  62%|████████████████████████████████████████▎                        | 49/79 [04:34<02:49,  5.66s/it]"
     ]
    },
    {
     "name": "stdout",
     "output_type": "stream",
     "text": [
      "An exception occurred\n"
     ]
    },
    {
     "name": "stderr",
     "output_type": "stream",
     "text": [
      "\r",
      "loss: 1.0440 ||:  63%|█████████████████████████████████████████▏                       | 50/79 [04:39<02:44,  5.69s/it]"
     ]
    },
    {
     "name": "stdout",
     "output_type": "stream",
     "text": [
      "An exception occurred\n"
     ]
    },
    {
     "name": "stderr",
     "output_type": "stream",
     "text": [
      "\r",
      "loss: 1.0434 ||:  65%|█████████████████████████████████████████▉                       | 51/79 [04:45<02:36,  5.57s/it]"
     ]
    },
    {
     "name": "stdout",
     "output_type": "stream",
     "text": [
      "An exception occurred\n"
     ]
    },
    {
     "name": "stderr",
     "output_type": "stream",
     "text": [
      "\r",
      "loss: 1.0432 ||:  66%|██████████████████████████████████████████▊                      | 52/79 [04:50<02:29,  5.54s/it]"
     ]
    },
    {
     "name": "stdout",
     "output_type": "stream",
     "text": [
      "An exception occurred\n"
     ]
    },
    {
     "name": "stderr",
     "output_type": "stream",
     "text": [
      "\r",
      "loss: 1.0415 ||:  67%|███████████████████████████████████████████▌                     | 53/79 [04:56<02:23,  5.53s/it]"
     ]
    },
    {
     "name": "stdout",
     "output_type": "stream",
     "text": [
      "An exception occurred\n"
     ]
    },
    {
     "name": "stderr",
     "output_type": "stream",
     "text": [
      "\r",
      "loss: 1.0406 ||:  68%|████████████████████████████████████████████▍                    | 54/79 [05:01<02:19,  5.59s/it]"
     ]
    },
    {
     "name": "stdout",
     "output_type": "stream",
     "text": [
      "An exception occurred\n"
     ]
    },
    {
     "name": "stderr",
     "output_type": "stream",
     "text": [
      "\r",
      "loss: 1.0410 ||:  70%|█████████████████████████████████████████████▎                   | 55/79 [05:06<02:09,  5.39s/it]"
     ]
    },
    {
     "name": "stdout",
     "output_type": "stream",
     "text": [
      "An exception occurred\n"
     ]
    },
    {
     "name": "stderr",
     "output_type": "stream",
     "text": [
      "\r",
      "loss: 1.0407 ||:  71%|██████████████████████████████████████████████                   | 56/79 [05:12<02:05,  5.48s/it]"
     ]
    },
    {
     "name": "stdout",
     "output_type": "stream",
     "text": [
      "An exception occurred\n"
     ]
    },
    {
     "name": "stderr",
     "output_type": "stream",
     "text": [
      "\r",
      "loss: 1.0414 ||:  72%|██████████████████████████████████████████████▉                  | 57/79 [05:18<02:04,  5.65s/it]"
     ]
    },
    {
     "name": "stdout",
     "output_type": "stream",
     "text": [
      "An exception occurred\n"
     ]
    },
    {
     "name": "stderr",
     "output_type": "stream",
     "text": [
      "\r",
      "loss: 1.0412 ||:  73%|███████████████████████████████████████████████▋                 | 58/79 [05:23<01:55,  5.49s/it]"
     ]
    },
    {
     "name": "stdout",
     "output_type": "stream",
     "text": [
      "An exception occurred\n"
     ]
    },
    {
     "name": "stderr",
     "output_type": "stream",
     "text": [
      "\r",
      "loss: 1.0411 ||:  75%|████████████████████████████████████████████████▌                | 59/79 [05:29<01:51,  5.57s/it]"
     ]
    },
    {
     "name": "stdout",
     "output_type": "stream",
     "text": [
      "An exception occurred\n"
     ]
    },
    {
     "name": "stderr",
     "output_type": "stream",
     "text": [
      "\r",
      "loss: 1.0410 ||:  76%|█████████████████████████████████████████████████▎               | 60/79 [05:34<01:42,  5.38s/it]"
     ]
    },
    {
     "name": "stdout",
     "output_type": "stream",
     "text": [
      "An exception occurred\n"
     ]
    },
    {
     "name": "stderr",
     "output_type": "stream",
     "text": [
      "\r",
      "loss: 1.0408 ||:  77%|██████████████████████████████████████████████████▏              | 61/79 [05:39<01:37,  5.43s/it]"
     ]
    },
    {
     "name": "stdout",
     "output_type": "stream",
     "text": [
      "An exception occurred\n"
     ]
    },
    {
     "name": "stderr",
     "output_type": "stream",
     "text": [
      "\r",
      "loss: 1.0412 ||:  78%|███████████████████████████████████████████████████              | 62/79 [05:44<01:30,  5.31s/it]"
     ]
    },
    {
     "name": "stdout",
     "output_type": "stream",
     "text": [
      "An exception occurred\n"
     ]
    },
    {
     "name": "stderr",
     "output_type": "stream",
     "text": [
      "\r",
      "loss: 1.0412 ||:  80%|███████████████████████████████████████████████████▊             | 63/79 [05:50<01:24,  5.31s/it]"
     ]
    },
    {
     "name": "stdout",
     "output_type": "stream",
     "text": [
      "An exception occurred\n"
     ]
    },
    {
     "name": "stderr",
     "output_type": "stream",
     "text": [
      "\r",
      "loss: 1.0408 ||:  81%|████████████████████████████████████████████████████▋            | 64/79 [05:55<01:17,  5.19s/it]"
     ]
    },
    {
     "name": "stdout",
     "output_type": "stream",
     "text": [
      "An exception occurred\n"
     ]
    },
    {
     "name": "stderr",
     "output_type": "stream",
     "text": [
      "\r",
      "loss: 1.0411 ||:  82%|█████████████████████████████████████████████████████▍           | 65/79 [06:00<01:13,  5.22s/it]"
     ]
    },
    {
     "name": "stdout",
     "output_type": "stream",
     "text": [
      "An exception occurred\n"
     ]
    },
    {
     "name": "stderr",
     "output_type": "stream",
     "text": [
      "\r",
      "loss: 1.0411 ||:  84%|██████████████████████████████████████████████████████▎          | 66/79 [06:05<01:09,  5.34s/it]"
     ]
    },
    {
     "name": "stdout",
     "output_type": "stream",
     "text": [
      "An exception occurred\n"
     ]
    },
    {
     "name": "stderr",
     "output_type": "stream",
     "text": [
      "\r",
      "loss: 1.0414 ||:  85%|███████████████████████████████████████████████████████▏         | 67/79 [06:11<01:04,  5.36s/it]"
     ]
    },
    {
     "name": "stdout",
     "output_type": "stream",
     "text": [
      "An exception occurred\n"
     ]
    },
    {
     "name": "stderr",
     "output_type": "stream",
     "text": [
      "\r",
      "loss: 1.0416 ||:  86%|███████████████████████████████████████████████████████▉         | 68/79 [06:17<01:00,  5.54s/it]"
     ]
    },
    {
     "name": "stdout",
     "output_type": "stream",
     "text": [
      "An exception occurred\n"
     ]
    },
    {
     "name": "stderr",
     "output_type": "stream",
     "text": [
      "\r",
      "loss: 1.0418 ||:  87%|████████████████████████████████████████████████████████▊        | 69/79 [06:23<00:57,  5.73s/it]"
     ]
    },
    {
     "name": "stdout",
     "output_type": "stream",
     "text": [
      "An exception occurred\n"
     ]
    },
    {
     "name": "stderr",
     "output_type": "stream",
     "text": [
      "\r",
      "loss: 1.0423 ||:  89%|█████████████████████████████████████████████████████████▌       | 70/79 [06:28<00:49,  5.54s/it]"
     ]
    },
    {
     "name": "stdout",
     "output_type": "stream",
     "text": [
      "An exception occurred\n"
     ]
    },
    {
     "name": "stderr",
     "output_type": "stream",
     "text": [
      "\r",
      "loss: 1.0417 ||:  90%|██████████████████████████████████████████████████████████▍      | 71/79 [06:35<00:47,  5.91s/it]"
     ]
    },
    {
     "name": "stdout",
     "output_type": "stream",
     "text": [
      "An exception occurred\n"
     ]
    },
    {
     "name": "stderr",
     "output_type": "stream",
     "text": [
      "\r",
      "loss: 1.0417 ||:  91%|███████████████████████████████████████████████████████████▏     | 72/79 [06:41<00:40,  5.84s/it]"
     ]
    },
    {
     "name": "stdout",
     "output_type": "stream",
     "text": [
      "An exception occurred\n"
     ]
    },
    {
     "name": "stderr",
     "output_type": "stream",
     "text": [
      "\r",
      "loss: 1.0416 ||:  92%|████████████████████████████████████████████████████████████     | 73/79 [06:47<00:35,  5.92s/it]"
     ]
    },
    {
     "name": "stdout",
     "output_type": "stream",
     "text": [
      "An exception occurred\n"
     ]
    },
    {
     "name": "stderr",
     "output_type": "stream",
     "text": [
      "\r",
      "loss: 1.0420 ||:  94%|████████████████████████████████████████████████████████████▉    | 74/79 [06:52<00:29,  5.85s/it]"
     ]
    },
    {
     "name": "stdout",
     "output_type": "stream",
     "text": [
      "An exception occurred\n"
     ]
    },
    {
     "name": "stderr",
     "output_type": "stream",
     "text": [
      "\r",
      "loss: 1.0428 ||:  95%|█████████████████████████████████████████████████████████████▋   | 75/79 [06:58<00:23,  5.86s/it]"
     ]
    },
    {
     "name": "stdout",
     "output_type": "stream",
     "text": [
      "An exception occurred\n"
     ]
    },
    {
     "name": "stderr",
     "output_type": "stream",
     "text": [
      "\r",
      "loss: 1.0427 ||:  96%|██████████████████████████████████████████████████████████████▌  | 76/79 [07:04<00:17,  5.80s/it]"
     ]
    },
    {
     "name": "stdout",
     "output_type": "stream",
     "text": [
      "An exception occurred\n"
     ]
    },
    {
     "name": "stderr",
     "output_type": "stream",
     "text": [
      "\r",
      "loss: 1.0422 ||:  97%|███████████████████████████████████████████████████████████████▎ | 77/79 [07:09<00:11,  5.67s/it]"
     ]
    },
    {
     "name": "stdout",
     "output_type": "stream",
     "text": [
      "An exception occurred\n"
     ]
    },
    {
     "name": "stderr",
     "output_type": "stream",
     "text": [
      "\r",
      "loss: 1.0417 ||:  99%|████████████████████████████████████████████████████████████████▏| 78/79 [07:16<00:05,  5.89s/it]"
     ]
    },
    {
     "name": "stdout",
     "output_type": "stream",
     "text": [
      "An exception occurred\n"
     ]
    },
    {
     "name": "stderr",
     "output_type": "stream",
     "text": [
      "loss: 1.0430 ||: 100%|█████████████████████████████████████████████████████████████████| 79/79 [07:17<00:00,  5.53s/it]\n",
      "  0%|                                                                                           | 0/79 [00:00<?, ?it/s]"
     ]
    },
    {
     "name": "stdout",
     "output_type": "stream",
     "text": [
      "An exception occurred\n"
     ]
    },
    {
     "name": "stderr",
     "output_type": "stream",
     "text": [
      "\r",
      "loss: 1.0097 ||:   1%|▊                                                                 | 1/79 [00:05<07:20,  5.65s/it]"
     ]
    },
    {
     "name": "stdout",
     "output_type": "stream",
     "text": [
      "An exception occurred\n"
     ]
    },
    {
     "name": "stderr",
     "output_type": "stream",
     "text": [
      "\r",
      "loss: 1.0111 ||:   3%|█▋                                                                | 2/79 [00:11<07:15,  5.66s/it]"
     ]
    },
    {
     "name": "stdout",
     "output_type": "stream",
     "text": [
      "An exception occurred\n"
     ]
    },
    {
     "name": "stderr",
     "output_type": "stream",
     "text": [
      "\r",
      "loss: 1.0289 ||:   4%|██▌                                                               | 3/79 [00:16<07:06,  5.62s/it]"
     ]
    },
    {
     "name": "stdout",
     "output_type": "stream",
     "text": [
      "An exception occurred\n"
     ]
    },
    {
     "name": "stderr",
     "output_type": "stream",
     "text": [
      "\r",
      "loss: 1.0330 ||:   5%|███▎                                                              | 4/79 [00:22<06:56,  5.55s/it]"
     ]
    },
    {
     "name": "stdout",
     "output_type": "stream",
     "text": [
      "An exception occurred\n"
     ]
    },
    {
     "name": "stderr",
     "output_type": "stream",
     "text": [
      "\r",
      "loss: 1.0270 ||:   6%|████▏                                                             | 5/79 [00:27<06:52,  5.57s/it]"
     ]
    },
    {
     "name": "stdout",
     "output_type": "stream",
     "text": [
      "An exception occurred\n"
     ]
    },
    {
     "name": "stderr",
     "output_type": "stream",
     "text": [
      "\r",
      "loss: 1.0244 ||:   8%|█████                                                             | 6/79 [00:33<06:42,  5.52s/it]"
     ]
    },
    {
     "name": "stdout",
     "output_type": "stream",
     "text": [
      "An exception occurred\n"
     ]
    },
    {
     "name": "stderr",
     "output_type": "stream",
     "text": [
      "\r",
      "loss: 1.0269 ||:   9%|█████▊                                                            | 7/79 [00:39<07:00,  5.85s/it]"
     ]
    },
    {
     "name": "stdout",
     "output_type": "stream",
     "text": [
      "An exception occurred\n"
     ]
    },
    {
     "name": "stderr",
     "output_type": "stream",
     "text": [
      "\r",
      "loss: 1.0257 ||:  10%|██████▋                                                           | 8/79 [00:45<07:00,  5.92s/it]"
     ]
    },
    {
     "name": "stdout",
     "output_type": "stream",
     "text": [
      "An exception occurred\n"
     ]
    },
    {
     "name": "stderr",
     "output_type": "stream",
     "text": [
      "\r",
      "loss: 1.0252 ||:  11%|███████▌                                                          | 9/79 [00:51<06:45,  5.80s/it]"
     ]
    },
    {
     "name": "stdout",
     "output_type": "stream",
     "text": [
      "An exception occurred\n"
     ]
    },
    {
     "name": "stderr",
     "output_type": "stream",
     "text": [
      "\r",
      "loss: 1.0263 ||:  13%|████████▏                                                        | 10/79 [00:57<06:42,  5.84s/it]"
     ]
    },
    {
     "name": "stdout",
     "output_type": "stream",
     "text": [
      "An exception occurred\n"
     ]
    },
    {
     "name": "stderr",
     "output_type": "stream",
     "text": [
      "\r",
      "loss: 1.0296 ||:  14%|█████████                                                        | 11/79 [01:02<06:25,  5.67s/it]"
     ]
    },
    {
     "name": "stdout",
     "output_type": "stream",
     "text": [
      "An exception occurred\n"
     ]
    },
    {
     "name": "stderr",
     "output_type": "stream",
     "text": [
      "\r",
      "loss: 1.0285 ||:  15%|█████████▊                                                       | 12/79 [01:09<06:37,  5.93s/it]"
     ]
    },
    {
     "name": "stdout",
     "output_type": "stream",
     "text": [
      "An exception occurred\n"
     ]
    },
    {
     "name": "stderr",
     "output_type": "stream",
     "text": [
      "\r",
      "loss: 1.0281 ||:  16%|██████████▋                                                      | 13/79 [01:15<06:35,  5.98s/it]"
     ]
    },
    {
     "name": "stdout",
     "output_type": "stream",
     "text": [
      "An exception occurred\n"
     ]
    },
    {
     "name": "stderr",
     "output_type": "stream",
     "text": [
      "\r",
      "loss: 1.0254 ||:  18%|███████████▌                                                     | 14/79 [01:21<06:31,  6.02s/it]"
     ]
    },
    {
     "name": "stdout",
     "output_type": "stream",
     "text": [
      "An exception occurred\n"
     ]
    },
    {
     "name": "stderr",
     "output_type": "stream",
     "text": [
      "\r",
      "loss: 1.0258 ||:  19%|████████████▎                                                    | 15/79 [01:26<06:08,  5.75s/it]"
     ]
    },
    {
     "name": "stdout",
     "output_type": "stream",
     "text": [
      "An exception occurred\n"
     ]
    },
    {
     "name": "stderr",
     "output_type": "stream",
     "text": [
      "\r",
      "loss: 1.0266 ||:  20%|█████████████▏                                                   | 16/79 [01:32<06:02,  5.76s/it]"
     ]
    },
    {
     "name": "stdout",
     "output_type": "stream",
     "text": [
      "An exception occurred\n"
     ]
    },
    {
     "name": "stderr",
     "output_type": "stream",
     "text": [
      "\r",
      "loss: 1.0284 ||:  22%|█████████████▉                                                   | 17/79 [01:37<05:50,  5.66s/it]"
     ]
    },
    {
     "name": "stdout",
     "output_type": "stream",
     "text": [
      "An exception occurred\n"
     ]
    },
    {
     "name": "stderr",
     "output_type": "stream",
     "text": [
      "\r",
      "loss: 1.0284 ||:  23%|██████████████▊                                                  | 18/79 [01:43<05:43,  5.63s/it]"
     ]
    },
    {
     "name": "stdout",
     "output_type": "stream",
     "text": [
      "An exception occurred\n"
     ]
    },
    {
     "name": "stderr",
     "output_type": "stream",
     "text": [
      "\r",
      "loss: 1.0280 ||:  24%|███████████████▋                                                 | 19/79 [01:49<05:46,  5.78s/it]"
     ]
    },
    {
     "name": "stdout",
     "output_type": "stream",
     "text": [
      "An exception occurred\n"
     ]
    },
    {
     "name": "stderr",
     "output_type": "stream",
     "text": [
      "\r",
      "loss: 1.0278 ||:  25%|████████████████▍                                                | 20/79 [01:55<05:41,  5.79s/it]"
     ]
    },
    {
     "name": "stdout",
     "output_type": "stream",
     "text": [
      "An exception occurred\n"
     ]
    },
    {
     "name": "stderr",
     "output_type": "stream",
     "text": [
      "\r",
      "loss: 1.0269 ||:  27%|█████████████████▎                                               | 21/79 [02:01<05:39,  5.86s/it]"
     ]
    },
    {
     "name": "stdout",
     "output_type": "stream",
     "text": [
      "An exception occurred\n"
     ]
    },
    {
     "name": "stderr",
     "output_type": "stream",
     "text": [
      "\r",
      "loss: 1.0272 ||:  28%|██████████████████                                               | 22/79 [02:07<05:35,  5.89s/it]"
     ]
    },
    {
     "name": "stdout",
     "output_type": "stream",
     "text": [
      "An exception occurred\n"
     ]
    },
    {
     "name": "stderr",
     "output_type": "stream",
     "text": [
      "\r",
      "loss: 1.0289 ||:  29%|██████████████████▉                                              | 23/79 [02:13<05:35,  5.99s/it]"
     ]
    },
    {
     "name": "stdout",
     "output_type": "stream",
     "text": [
      "An exception occurred\n"
     ]
    },
    {
     "name": "stderr",
     "output_type": "stream",
     "text": [
      "\r",
      "loss: 1.0279 ||:  30%|███████████████████▋                                             | 24/79 [02:19<05:36,  6.12s/it]"
     ]
    },
    {
     "name": "stdout",
     "output_type": "stream",
     "text": [
      "An exception occurred\n"
     ]
    },
    {
     "name": "stderr",
     "output_type": "stream",
     "text": [
      "\r",
      "loss: 1.0288 ||:  32%|████████████████████▌                                            | 25/79 [02:25<05:24,  6.01s/it]"
     ]
    },
    {
     "name": "stdout",
     "output_type": "stream",
     "text": [
      "An exception occurred\n"
     ]
    },
    {
     "name": "stderr",
     "output_type": "stream",
     "text": [
      "\r",
      "loss: 1.0288 ||:  33%|█████████████████████▍                                           | 26/79 [02:31<05:14,  5.93s/it]"
     ]
    },
    {
     "name": "stdout",
     "output_type": "stream",
     "text": [
      "An exception occurred\n"
     ]
    },
    {
     "name": "stderr",
     "output_type": "stream",
     "text": [
      "\r",
      "loss: 1.0293 ||:  34%|██████████████████████▏                                          | 27/79 [02:37<05:08,  5.94s/it]"
     ]
    },
    {
     "name": "stdout",
     "output_type": "stream",
     "text": [
      "An exception occurred\n"
     ]
    },
    {
     "name": "stderr",
     "output_type": "stream",
     "text": [
      "\r",
      "loss: 1.0286 ||:  35%|███████████████████████                                          | 28/79 [02:43<05:03,  5.94s/it]"
     ]
    },
    {
     "name": "stdout",
     "output_type": "stream",
     "text": [
      "An exception occurred\n"
     ]
    },
    {
     "name": "stderr",
     "output_type": "stream",
     "text": [
      "\r",
      "loss: 1.0283 ||:  37%|███████████████████████▊                                         | 29/79 [02:49<05:00,  6.01s/it]"
     ]
    },
    {
     "name": "stdout",
     "output_type": "stream",
     "text": [
      "An exception occurred\n"
     ]
    },
    {
     "name": "stderr",
     "output_type": "stream",
     "text": [
      "\r",
      "loss: 1.0275 ||:  38%|████████████████████████▋                                        | 30/79 [02:55<04:56,  6.05s/it]"
     ]
    },
    {
     "name": "stdout",
     "output_type": "stream",
     "text": [
      "An exception occurred\n"
     ]
    },
    {
     "name": "stderr",
     "output_type": "stream",
     "text": [
      "\r",
      "loss: 1.0269 ||:  39%|█████████████████████████▌                                       | 31/79 [03:01<04:48,  6.02s/it]"
     ]
    },
    {
     "name": "stdout",
     "output_type": "stream",
     "text": [
      "An exception occurred\n"
     ]
    },
    {
     "name": "stderr",
     "output_type": "stream",
     "text": [
      "\r",
      "loss: 1.0273 ||:  41%|██████████████████████████▎                                      | 32/79 [03:06<04:31,  5.77s/it]"
     ]
    },
    {
     "name": "stdout",
     "output_type": "stream",
     "text": [
      "An exception occurred\n"
     ]
    },
    {
     "name": "stderr",
     "output_type": "stream",
     "text": [
      "\r",
      "loss: 1.0263 ||:  42%|███████████████████████████▏                                     | 33/79 [03:12<04:26,  5.80s/it]"
     ]
    },
    {
     "name": "stdout",
     "output_type": "stream",
     "text": [
      "An exception occurred\n"
     ]
    },
    {
     "name": "stderr",
     "output_type": "stream",
     "text": [
      "\r",
      "loss: 1.0248 ||:  43%|███████████████████████████▉                                     | 34/79 [03:18<04:22,  5.83s/it]"
     ]
    },
    {
     "name": "stdout",
     "output_type": "stream",
     "text": [
      "An exception occurred\n"
     ]
    },
    {
     "name": "stderr",
     "output_type": "stream",
     "text": [
      "\r",
      "loss: 1.0241 ||:  44%|████████████████████████████▊                                    | 35/79 [03:24<04:16,  5.83s/it]"
     ]
    },
    {
     "name": "stdout",
     "output_type": "stream",
     "text": [
      "An exception occurred\n"
     ]
    },
    {
     "name": "stderr",
     "output_type": "stream",
     "text": [
      "\r",
      "loss: 1.0243 ||:  46%|█████████████████████████████▌                                   | 36/79 [03:30<04:14,  5.93s/it]"
     ]
    },
    {
     "name": "stdout",
     "output_type": "stream",
     "text": [
      "An exception occurred\n"
     ]
    },
    {
     "name": "stderr",
     "output_type": "stream",
     "text": [
      "\r",
      "loss: 1.0242 ||:  47%|██████████████████████████████▍                                  | 37/79 [03:36<04:15,  6.08s/it]"
     ]
    },
    {
     "name": "stdout",
     "output_type": "stream",
     "text": [
      "An exception occurred\n"
     ]
    },
    {
     "name": "stderr",
     "output_type": "stream",
     "text": [
      "\r",
      "loss: 1.0241 ||:  48%|███████████████████████████████▎                                 | 38/79 [03:41<03:49,  5.59s/it]"
     ]
    },
    {
     "name": "stdout",
     "output_type": "stream",
     "text": [
      "An exception occurred\n"
     ]
    },
    {
     "name": "stderr",
     "output_type": "stream",
     "text": [
      "\r",
      "loss: 1.0244 ||:  49%|████████████████████████████████                                 | 39/79 [03:46<03:37,  5.44s/it]"
     ]
    },
    {
     "name": "stdout",
     "output_type": "stream",
     "text": [
      "An exception occurred\n"
     ]
    },
    {
     "name": "stderr",
     "output_type": "stream",
     "text": [
      "\r",
      "loss: 1.0246 ||:  51%|████████████████████████████████▉                                | 40/79 [03:51<03:25,  5.26s/it]"
     ]
    },
    {
     "name": "stdout",
     "output_type": "stream",
     "text": [
      "An exception occurred\n"
     ]
    },
    {
     "name": "stderr",
     "output_type": "stream",
     "text": [
      "\r",
      "loss: 1.0242 ||:  52%|█████████████████████████████████▋                               | 41/79 [03:56<03:15,  5.13s/it]"
     ]
    },
    {
     "name": "stdout",
     "output_type": "stream",
     "text": [
      "An exception occurred\n"
     ]
    },
    {
     "name": "stderr",
     "output_type": "stream",
     "text": [
      "\r",
      "loss: 1.0235 ||:  53%|██████████████████████████████████▌                              | 42/79 [04:01<03:08,  5.08s/it]"
     ]
    },
    {
     "name": "stdout",
     "output_type": "stream",
     "text": [
      "An exception occurred\n"
     ]
    },
    {
     "name": "stderr",
     "output_type": "stream",
     "text": [
      "\r",
      "loss: 1.0232 ||:  54%|███████████████████████████████████▍                             | 43/79 [04:06<03:10,  5.30s/it]"
     ]
    },
    {
     "name": "stdout",
     "output_type": "stream",
     "text": [
      "An exception occurred\n"
     ]
    },
    {
     "name": "stderr",
     "output_type": "stream",
     "text": [
      "\r",
      "loss: 1.0227 ||:  56%|████████████████████████████████████▏                            | 44/79 [04:13<03:15,  5.59s/it]"
     ]
    },
    {
     "name": "stdout",
     "output_type": "stream",
     "text": [
      "An exception occurred\n"
     ]
    },
    {
     "name": "stderr",
     "output_type": "stream",
     "text": [
      "\r",
      "loss: 1.0224 ||:  57%|█████████████████████████████████████                            | 45/79 [04:19<03:12,  5.66s/it]"
     ]
    },
    {
     "name": "stdout",
     "output_type": "stream",
     "text": [
      "An exception occurred\n"
     ]
    },
    {
     "name": "stderr",
     "output_type": "stream",
     "text": [
      "\r",
      "loss: 1.0225 ||:  58%|█████████████████████████████████████▊                           | 46/79 [04:24<03:07,  5.68s/it]"
     ]
    },
    {
     "name": "stdout",
     "output_type": "stream",
     "text": [
      "An exception occurred\n"
     ]
    },
    {
     "name": "stderr",
     "output_type": "stream",
     "text": [
      "\r",
      "loss: 1.0221 ||:  59%|██████████████████████████████████████▋                          | 47/79 [04:30<03:04,  5.76s/it]"
     ]
    },
    {
     "name": "stdout",
     "output_type": "stream",
     "text": [
      "An exception occurred\n"
     ]
    },
    {
     "name": "stderr",
     "output_type": "stream",
     "text": [
      "\r",
      "loss: 1.0219 ||:  61%|███████████████████████████████████████▍                         | 48/79 [04:36<02:56,  5.69s/it]"
     ]
    },
    {
     "name": "stdout",
     "output_type": "stream",
     "text": [
      "An exception occurred\n"
     ]
    },
    {
     "name": "stderr",
     "output_type": "stream",
     "text": [
      "\r",
      "loss: 1.0223 ||:  62%|████████████████████████████████████████▎                        | 49/79 [04:41<02:50,  5.68s/it]"
     ]
    },
    {
     "name": "stdout",
     "output_type": "stream",
     "text": [
      "An exception occurred\n"
     ]
    },
    {
     "name": "stderr",
     "output_type": "stream",
     "text": [
      "\r",
      "loss: 1.0226 ||:  63%|█████████████████████████████████████████▏                       | 50/79 [04:47<02:42,  5.61s/it]"
     ]
    },
    {
     "name": "stdout",
     "output_type": "stream",
     "text": [
      "An exception occurred\n"
     ]
    },
    {
     "name": "stderr",
     "output_type": "stream",
     "text": [
      "\r",
      "loss: 1.0228 ||:  65%|█████████████████████████████████████████▉                       | 51/79 [04:52<02:37,  5.61s/it]"
     ]
    },
    {
     "name": "stdout",
     "output_type": "stream",
     "text": [
      "An exception occurred\n"
     ]
    },
    {
     "name": "stderr",
     "output_type": "stream",
     "text": [
      "\r",
      "loss: 1.0223 ||:  66%|██████████████████████████████████████████▊                      | 52/79 [04:58<02:34,  5.70s/it]"
     ]
    },
    {
     "name": "stdout",
     "output_type": "stream",
     "text": [
      "An exception occurred\n"
     ]
    },
    {
     "name": "stderr",
     "output_type": "stream",
     "text": [
      "\r",
      "loss: 1.0219 ||:  67%|███████████████████████████████████████████▌                     | 53/79 [05:05<02:36,  6.02s/it]"
     ]
    },
    {
     "name": "stdout",
     "output_type": "stream",
     "text": [
      "An exception occurred\n"
     ]
    },
    {
     "name": "stderr",
     "output_type": "stream",
     "text": [
      "\r",
      "loss: 1.0210 ||:  68%|████████████████████████████████████████████▍                    | 54/79 [05:11<02:31,  6.05s/it]"
     ]
    },
    {
     "name": "stdout",
     "output_type": "stream",
     "text": [
      "An exception occurred\n"
     ]
    },
    {
     "name": "stderr",
     "output_type": "stream",
     "text": [
      "\r",
      "loss: 1.0219 ||:  70%|█████████████████████████████████████████████▎                   | 55/79 [05:17<02:25,  6.07s/it]"
     ]
    },
    {
     "name": "stdout",
     "output_type": "stream",
     "text": [
      "An exception occurred\n"
     ]
    },
    {
     "name": "stderr",
     "output_type": "stream",
     "text": [
      "\r",
      "loss: 1.0213 ||:  71%|██████████████████████████████████████████████                   | 56/79 [05:23<02:14,  5.83s/it]"
     ]
    },
    {
     "name": "stdout",
     "output_type": "stream",
     "text": [
      "An exception occurred\n"
     ]
    },
    {
     "name": "stderr",
     "output_type": "stream",
     "text": [
      "\r",
      "loss: 1.0217 ||:  72%|██████████████████████████████████████████████▉                  | 57/79 [05:28<02:07,  5.78s/it]"
     ]
    },
    {
     "name": "stdout",
     "output_type": "stream",
     "text": [
      "An exception occurred\n"
     ]
    },
    {
     "name": "stderr",
     "output_type": "stream",
     "text": [
      "\r",
      "loss: 1.0218 ||:  73%|███████████████████████████████████████████████▋                 | 58/79 [05:35<02:05,  5.99s/it]"
     ]
    },
    {
     "name": "stdout",
     "output_type": "stream",
     "text": [
      "An exception occurred\n"
     ]
    },
    {
     "name": "stderr",
     "output_type": "stream",
     "text": [
      "\r",
      "loss: 1.0219 ||:  75%|████████████████████████████████████████████████▌                | 59/79 [05:40<01:57,  5.87s/it]"
     ]
    },
    {
     "name": "stdout",
     "output_type": "stream",
     "text": [
      "An exception occurred\n"
     ]
    },
    {
     "name": "stderr",
     "output_type": "stream",
     "text": [
      "\r",
      "loss: 1.0210 ||:  76%|█████████████████████████████████████████████████▎               | 60/79 [05:46<01:48,  5.69s/it]"
     ]
    },
    {
     "name": "stdout",
     "output_type": "stream",
     "text": [
      "An exception occurred\n"
     ]
    },
    {
     "name": "stderr",
     "output_type": "stream",
     "text": [
      "\r",
      "loss: 1.0211 ||:  77%|██████████████████████████████████████████████████▏              | 61/79 [05:51<01:38,  5.48s/it]"
     ]
    },
    {
     "name": "stdout",
     "output_type": "stream",
     "text": [
      "An exception occurred\n"
     ]
    },
    {
     "name": "stderr",
     "output_type": "stream",
     "text": [
      "\r",
      "loss: 1.0212 ||:  78%|███████████████████████████████████████████████████              | 62/79 [05:57<01:38,  5.79s/it]"
     ]
    },
    {
     "name": "stdout",
     "output_type": "stream",
     "text": [
      "An exception occurred\n"
     ]
    },
    {
     "name": "stderr",
     "output_type": "stream",
     "text": [
      "\r",
      "loss: 1.0215 ||:  80%|███████████████████████████████████████████████████▊             | 63/79 [06:03<01:31,  5.72s/it]"
     ]
    },
    {
     "name": "stdout",
     "output_type": "stream",
     "text": [
      "An exception occurred\n"
     ]
    },
    {
     "name": "stderr",
     "output_type": "stream",
     "text": [
      "\r",
      "loss: 1.0216 ||:  81%|████████████████████████████████████████████████████▋            | 64/79 [06:08<01:23,  5.60s/it]"
     ]
    },
    {
     "name": "stdout",
     "output_type": "stream",
     "text": [
      "An exception occurred\n"
     ]
    },
    {
     "name": "stderr",
     "output_type": "stream",
     "text": [
      "\r",
      "loss: 1.0215 ||:  82%|█████████████████████████████████████████████████████▍           | 65/79 [06:13<01:15,  5.38s/it]"
     ]
    },
    {
     "name": "stdout",
     "output_type": "stream",
     "text": [
      "An exception occurred\n"
     ]
    },
    {
     "name": "stderr",
     "output_type": "stream",
     "text": [
      "\r",
      "loss: 1.0220 ||:  84%|██████████████████████████████████████████████████████▎          | 66/79 [06:19<01:12,  5.57s/it]"
     ]
    },
    {
     "name": "stdout",
     "output_type": "stream",
     "text": [
      "An exception occurred\n"
     ]
    },
    {
     "name": "stderr",
     "output_type": "stream",
     "text": [
      "\r",
      "loss: 1.0220 ||:  85%|███████████████████████████████████████████████████████▏         | 67/79 [06:24<01:06,  5.57s/it]"
     ]
    },
    {
     "name": "stdout",
     "output_type": "stream",
     "text": [
      "An exception occurred\n"
     ]
    },
    {
     "name": "stderr",
     "output_type": "stream",
     "text": [
      "\r",
      "loss: 1.0225 ||:  86%|███████████████████████████████████████████████████████▉         | 68/79 [06:30<01:00,  5.51s/it]"
     ]
    },
    {
     "name": "stdout",
     "output_type": "stream",
     "text": [
      "An exception occurred\n"
     ]
    },
    {
     "name": "stderr",
     "output_type": "stream",
     "text": [
      "\r",
      "loss: 1.0226 ||:  87%|████████████████████████████████████████████████████████▊        | 69/79 [06:35<00:52,  5.28s/it]"
     ]
    },
    {
     "name": "stdout",
     "output_type": "stream",
     "text": [
      "An exception occurred\n"
     ]
    },
    {
     "name": "stderr",
     "output_type": "stream",
     "text": [
      "\r",
      "loss: 1.0223 ||:  89%|█████████████████████████████████████████████████████████▌       | 70/79 [06:41<00:51,  5.72s/it]"
     ]
    },
    {
     "name": "stdout",
     "output_type": "stream",
     "text": [
      "An exception occurred\n"
     ]
    },
    {
     "name": "stderr",
     "output_type": "stream",
     "text": [
      "\r",
      "loss: 1.0220 ||:  90%|██████████████████████████████████████████████████████████▍      | 71/79 [06:47<00:44,  5.56s/it]"
     ]
    },
    {
     "name": "stdout",
     "output_type": "stream",
     "text": [
      "An exception occurred\n"
     ]
    },
    {
     "name": "stderr",
     "output_type": "stream",
     "text": [
      "\r",
      "loss: 1.0225 ||:  91%|███████████████████████████████████████████████████████████▏     | 72/79 [06:52<00:39,  5.65s/it]"
     ]
    },
    {
     "name": "stdout",
     "output_type": "stream",
     "text": [
      "An exception occurred\n"
     ]
    },
    {
     "name": "stderr",
     "output_type": "stream",
     "text": [
      "\r",
      "loss: 1.0223 ||:  92%|████████████████████████████████████████████████████████████     | 73/79 [06:57<00:32,  5.49s/it]"
     ]
    },
    {
     "name": "stdout",
     "output_type": "stream",
     "text": [
      "An exception occurred\n"
     ]
    },
    {
     "name": "stderr",
     "output_type": "stream",
     "text": [
      "\r",
      "loss: 1.0225 ||:  94%|████████████████████████████████████████████████████████████▉    | 74/79 [07:04<00:29,  5.82s/it]"
     ]
    },
    {
     "name": "stdout",
     "output_type": "stream",
     "text": [
      "An exception occurred\n"
     ]
    },
    {
     "name": "stderr",
     "output_type": "stream",
     "text": [
      "\r",
      "loss: 1.0223 ||:  95%|█████████████████████████████████████████████████████████████▋   | 75/79 [07:10<00:23,  5.75s/it]"
     ]
    },
    {
     "name": "stdout",
     "output_type": "stream",
     "text": [
      "An exception occurred\n"
     ]
    },
    {
     "name": "stderr",
     "output_type": "stream",
     "text": [
      "\r",
      "loss: 1.0226 ||:  96%|██████████████████████████████████████████████████████████████▌  | 76/79 [07:15<00:17,  5.75s/it]"
     ]
    },
    {
     "name": "stdout",
     "output_type": "stream",
     "text": [
      "An exception occurred\n"
     ]
    },
    {
     "name": "stderr",
     "output_type": "stream",
     "text": [
      "\r",
      "loss: 1.0221 ||:  97%|███████████████████████████████████████████████████████████████▎ | 77/79 [07:20<00:11,  5.53s/it]"
     ]
    },
    {
     "name": "stdout",
     "output_type": "stream",
     "text": [
      "An exception occurred\n"
     ]
    },
    {
     "name": "stderr",
     "output_type": "stream",
     "text": [
      "\r",
      "loss: 1.0221 ||:  99%|████████████████████████████████████████████████████████████████▏| 78/79 [07:26<00:05,  5.39s/it]"
     ]
    },
    {
     "name": "stdout",
     "output_type": "stream",
     "text": [
      "An exception occurred\n"
     ]
    },
    {
     "name": "stderr",
     "output_type": "stream",
     "text": [
      "loss: 1.0230 ||: 100%|█████████████████████████████████████████████████████████████████| 79/79 [07:26<00:00,  5.66s/it]\n"
     ]
    },
    {
     "data": {
      "text/plain": [
       "{'best_epoch': 9,\n",
       " 'peak_cpu_memory_MB': 0,\n",
       " 'training_duration': '1:13:36.336172',\n",
       " 'training_start_epoch': 0,\n",
       " 'training_epochs': 9,\n",
       " 'epoch': 9,\n",
       " 'training_loss': 1.0230346827567378,\n",
       " 'training_cpu_memory_MB': 0.0}"
      ]
     },
     "execution_count": 446,
     "metadata": {},
     "output_type": "execute_result"
    }
   ],
   "source": [
    "trainer = Trainer(model=model,\n",
    "                  optimizer=optimizer,\n",
    "                  iterator=iterator,\n",
    "                  train_dataset=instances,\n",
    "                  num_epochs=20)\n",
    "trainer.train()"
   ]
  },
  {
   "cell_type": "code",
   "execution_count": 347,
   "metadata": {
    "colab": {},
    "colab_type": "code",
    "id": "BGL-MrZpH1ly"
   },
   "outputs": [],
   "source": [
    "def predict(text: str, model: Model) -> float:\n",
    "    tokenizer = CharacterTokenizer()\n",
    "    tokens = tokenizer.tokenize(text)\n",
    "    \n",
    "    token_indexers = {'tokens': SingleIdTokenIndexer()}\n",
    "    instance = tokens_to_instance(tokens, token_indexers)\n",
    "    output = model.forward_on_instance(instance)\n",
    "    print(output)"
   ]
  },
  {
   "cell_type": "markdown",
   "metadata": {
    "colab_type": "text",
    "id": "sB_gVjdRJBNU"
   },
   "source": [
    "Instead of calculating the perplexity of sentences, let's see which loss is associated to the sentence."
   ]
  },
  {
   "cell_type": "code",
   "execution_count": 460,
   "metadata": {
    "colab": {
     "base_uri": "https://localhost:8080/",
     "height": 69
    },
    "colab_type": "code",
    "id": "bHNyRLUiMMfi",
    "outputId": "8921d84c-5d9d-4b16-d23b-bef52adacfa4",
    "scrolled": true
   },
   "outputs": [
    {
     "name": "stdout",
     "output_type": "stream",
     "text": [
      "distribution of the regression model with a continuous variables@@UNKNOWN@@redect statistical test in r@@UNKNOWN@@repect the same da\n"
     ]
    }
   ],
   "source": [
    "\n",
    "\n",
    "sentence = \"distribution\"\n",
    "\n",
    "\n",
    "for _ in range(100):\n",
    "  t=predict(sentence, model)\n",
    "\n",
    "  sentence=sentence+t['nextCaracter'].text\n",
    "print(sentence)\n",
    "\n",
    "\n",
    "\n",
    "\n"
   ]
  },
  {
   "cell_type": "markdown",
   "metadata": {
    "colab_type": "text",
    "id": "d5xKrdD7JNC7"
   },
   "source": [
    "The sentence with words such as \"Southern California\" and \"San Diego way\"  scores worse than the sentence that makes no grammatical sense.\n",
    "\n",
    "These words are not found in the training dataset and the model has had no opportunity to learn about their associated character sequences.\n",
    "\n",
    "## Text generation\n"
   ]
  },
  {
   "cell_type": "code",
   "execution_count": 136,
   "metadata": {},
   "outputs": [
    {
     "name": "stdout",
     "output_type": "stream",
     "text": [
      "{'loss': tensor([-3.6887, -3.8121, -3.6887, -3.7709, -3.6877, -3.7277, -3.7258, -3.7607,\n",
      "        -3.7670, -3.7773, -3.7353, -3.8029, -3.7438, -3.7261, -3.7671, -3.7849,\n",
      "        -3.6975, -3.7456, -3.7873, -3.6754, -3.6870, -3.7058, -3.7248, -3.7133,\n",
      "        -3.7031, -3.7003, -3.7902, -3.6809, -3.7846, -3.7556, -3.7391, -3.7068,\n",
      "        -3.7770, -3.7845, -3.7832, -3.7101, -3.7536, -3.7359, -3.7083, -3.6868,\n",
      "        -3.7837, -3.7256], grad_fn=<LogSoftmaxBackward>)}\n"
     ]
    }
   ],
   "source": [
    "output = model.generateN()\n",
    "print(output)"
   ]
  },
  {
   "cell_type": "code",
   "execution_count": 1,
   "metadata": {
    "colab": {
     "base_uri": "https://localhost:8080/",
     "height": 885
    },
    "colab_type": "code",
    "id": "vpINqF64MP5E",
    "outputId": "d7d36ee9-a24b-4daa-86e4-8cf0548490af"
   },
   "outputs": [
    {
     "ename": "NameError",
     "evalue": "name 'model' is not defined",
     "output_type": "error",
     "traceback": [
      "\u001b[1;31m---------------------------------------------------------------------------\u001b[0m",
      "\u001b[1;31mNameError\u001b[0m                                 Traceback (most recent call last)",
      "\u001b[1;32m<ipython-input-1-0a891875ea20>\u001b[0m in \u001b[0;36m<module>\u001b[1;34m\u001b[0m\n\u001b[0;32m      1\u001b[0m \u001b[1;32mfor\u001b[0m \u001b[0m_\u001b[0m \u001b[1;32min\u001b[0m \u001b[0mrange\u001b[0m\u001b[1;33m(\u001b[0m\u001b[1;36m50\u001b[0m\u001b[1;33m)\u001b[0m\u001b[1;33m:\u001b[0m\u001b[1;33m\u001b[0m\u001b[1;33m\u001b[0m\u001b[0m\n\u001b[1;32m----> 2\u001b[1;33m     \u001b[0mtokens\u001b[0m\u001b[1;33m,\u001b[0m \u001b[0m_\u001b[0m \u001b[1;33m=\u001b[0m \u001b[0mmodel\u001b[0m\u001b[1;33m.\u001b[0m\u001b[0mgenerate\u001b[0m\u001b[1;33m(\u001b[0m\u001b[1;33m)\u001b[0m\u001b[1;33m\u001b[0m\u001b[1;33m\u001b[0m\u001b[0m\n\u001b[0m\u001b[0;32m      3\u001b[0m     \u001b[0mprint\u001b[0m\u001b[1;33m(\u001b[0m\u001b[1;34m''\u001b[0m\u001b[1;33m.\u001b[0m\u001b[0mjoin\u001b[0m\u001b[1;33m(\u001b[0m\u001b[0mtoken\u001b[0m\u001b[1;33m.\u001b[0m\u001b[0mtext\u001b[0m \u001b[1;32mfor\u001b[0m \u001b[0mtoken\u001b[0m \u001b[1;32min\u001b[0m \u001b[0mtokens\u001b[0m\u001b[1;33m)\u001b[0m\u001b[1;33m)\u001b[0m\u001b[1;33m\u001b[0m\u001b[1;33m\u001b[0m\u001b[0m\n",
      "\u001b[1;31mNameError\u001b[0m: name 'model' is not defined"
     ]
    }
   ],
   "source": [
    "for _ in range(50):\n",
    "    tokens, _ = model.generate()\n",
    "    print(''.join(token.text for token in tokens))"
   ]
  },
  {
   "cell_type": "markdown",
   "metadata": {
    "colab_type": "text",
    "id": "zJ4fQ30TKXUe"
   },
   "source": [
    "# Conclusion\n",
    "\n",
    "The character base language model ends up producing better text than the word based LM of the last task.\n",
    "\n",
    "This may be due to a bad performance of the word based language model.\n",
    "\n",
    "However the character based LM ouptuts are really impressive.\n",
    "\n"
   ]
  },
  {
   "cell_type": "code",
   "execution_count": null,
   "metadata": {
    "colab": {},
    "colab_type": "code",
    "id": "gfP3sVOAB0FJ"
   },
   "outputs": [],
   "source": []
  }
 ],
 "metadata": {
  "accelerator": "GPU",
  "colab": {
   "collapsed_sections": [],
   "name": "Task 4 character LM with AllenNLP",
   "provenance": []
  },
  "kernelspec": {
   "display_name": "Python 3",
   "language": "python",
   "name": "python3"
  },
  "language_info": {
   "codemirror_mode": {
    "name": "ipython",
    "version": 3
   },
   "file_extension": ".py",
   "mimetype": "text/x-python",
   "name": "python",
   "nbconvert_exporter": "python",
   "pygments_lexer": "ipython3",
   "version": "3.7.3"
  }
 },
 "nbformat": 4,
 "nbformat_minor": 1
}
