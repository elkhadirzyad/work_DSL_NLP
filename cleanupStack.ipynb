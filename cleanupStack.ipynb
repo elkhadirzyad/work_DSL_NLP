{
 "cells": [
  {
   "cell_type": "markdown",
   "metadata": {},
   "source": [
    "#this file is used to clean up stackexchange dataset and extract tokens"
   ]
  },
  {
   "cell_type": "code",
   "execution_count": 8,
   "metadata": {},
   "outputs": [],
   "source": [
    "#this file is used to clean up stackexchange dataset and extract tokens\n",
    "\n",
    "import pandas as pd\n",
    "import nltk\n",
    "from nltk.tokenize import word_tokenize, sent_tokenize\n",
    "\n",
    "#import csv to panda dataframe\n",
    "df = pd.read_csv (r'E:\\ASA_Work\\NLP\\dataset\\stackexchange_812k.csv') \n",
    "\n",
    "#save originaldata\n",
    "originaldf=df \n",
    "\n",
    "#import to datframe & operate on text and category columns\n",
    "df = pd.DataFrame(df, columns= ['text','category']) \n",
    "\n",
    "#remove tags\n",
    "df=df.replace('<.*?>',' ', regex=True) \n",
    "\n",
    "#remove digits\n",
    "df=df.replace('\\d+',' ', regex=True) \n",
    "\n",
    "#remove latex expressions\n",
    "df=df.replace(r'(\\$+)(?:(?!\\1)[\\s\\S])*\\1',' ', regex=True) \n",
    "\n",
    "#remove url\n",
    "df=df.replace('http[s]?://\\S+',' ', regex=True) \n",
    "\n",
    "#remove signs\n",
    "df=df.replace(r'[^\\w]',' ', regex=True) \n",
    "\n",
    "#remove '_'\n",
    "df=df.replace('_',' ', regex=True) \n",
    "\n",
    "#lowercase all text\n",
    "df['text']=df['text'].str.lower() \n",
    "\n",
    "#create new tokens column containing space-separated tokens\n",
    "originaldf['tokens']=df['text'] \n",
    "\n",
    "#export to csv\n",
    "originaldf.to_csv (r'E:\\ASA_Work\\NLP\\dataset\\stackexchange_with_tokens2.csv', index = False, header=True) \n",
    "\n",
    "#note:\n",
    "# originaldf['tokens']=df['text'].apply(word_tokenize) gives tokens in a list separated by commas\n",
    "\n"
   ]
  },
  {
   "cell_type": "code",
   "execution_count": null,
   "metadata": {},
   "outputs": [],
   "source": []
  }
 ],
 "metadata": {
  "kernelspec": {
   "display_name": "Python 3",
   "language": "python",
   "name": "python3"
  },
  "language_info": {
   "codemirror_mode": {
    "name": "ipython",
    "version": 3
   },
   "file_extension": ".py",
   "mimetype": "text/x-python",
   "name": "python",
   "nbconvert_exporter": "python",
   "pygments_lexer": "ipython3",
   "version": "3.7.3"
  }
 },
 "nbformat": 4,
 "nbformat_minor": 2
}
